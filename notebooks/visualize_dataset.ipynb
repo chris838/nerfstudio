{
 "cells": [
  {
   "cell_type": "markdown",
   "id": "3c00934d-0f14-4c1a-a563-94d627b377e5",
   "metadata": {},
   "source": [
    "## Notebook to visualize a dataset\n"
   ]
  },
  {
   "cell_type": "code",
   "execution_count": 1,
   "id": "b15dfdc1-5054-40bc-9631-4c7426eecfd9",
   "metadata": {},
   "outputs": [],
   "source": [
    "from notebook_imports import *\n",
    "\n",
    "import torch\n",
    "from torch.utils.data import DataLoader\n",
    "\n",
    "from mattport.nerf.dataset.image_dataset import ImageDataset, collate_batch\n",
    "from mattport.nerf.dataset.collate import CollateIterDataset, collate_batch_size_one\n",
    "from mattport.nerf.dataset.utils import get_dataset_inputs_dict\n",
    "from mattport.nerf.field_modules.ray_generator import RayGenerator\n",
    "from mattport.structures.rays import RayBundle\n",
    "from mattport.utils.io import get_absolute_path\n",
    "from mattport.viewer.plotly import get_line_segments_from_lines\n",
    "from mattport.structures.cameras import get_camera_model\n",
    "\n",
    "\n",
    "from hydra import compose, initialize\n",
    "from omegaconf import open_dict\n",
    "import pprint\n",
    "from tqdm import tqdm\n",
    "import random"
   ]
  },
  {
   "cell_type": "code",
   "execution_count": 2,
   "id": "012bf657",
   "metadata": {},
   "outputs": [
    {
     "name": "stdout",
     "output_type": "stream",
     "text": [
      "The autoreload extension is already loaded. To reload it, use:\n",
      "  %reload_ext autoreload\n"
     ]
    }
   ],
   "source": [
    "import goat\n",
    "vis = goat.vis_utils.get_vis()"
   ]
  },
  {
   "cell_type": "code",
   "execution_count": 3,
   "id": "71f46c79",
   "metadata": {},
   "outputs": [],
   "source": [
    "goat.vis_utils.show_box_test(vis)"
   ]
  },
  {
   "cell_type": "code",
   "execution_count": 4,
   "id": "7fe7478d",
   "metadata": {},
   "outputs": [],
   "source": [
    "with initialize(config_path=\"../configs\"):\n",
    "    # cfg = compose(config_name=\"default.yaml\")\n",
    "    cfg = compose(config_name=\"default.yaml\", overrides=[\"data/dataset=friends_TBBT-big_living_room\"])"
   ]
  },
  {
   "cell_type": "code",
   "execution_count": 5,
   "id": "ad63e53a",
   "metadata": {},
   "outputs": [],
   "source": [
    "import os\n",
    "from mattport.nerf.dataset.colmap_utils import read_cameras_binary, read_images_binary, read_pointsTD_binary"
   ]
  },
  {
   "cell_type": "code",
   "execution_count": 13,
   "id": "01c42863",
   "metadata": {},
   "outputs": [],
   "source": [
    "from mattport.nerf.dataset.friends import load_friends_data"
   ]
  },
  {
   "cell_type": "code",
   "execution_count": null,
   "id": "b097e5eb",
   "metadata": {},
   "outputs": [],
   "source": []
  },
  {
   "cell_type": "code",
   "execution_count": 40,
   "id": "c5516443",
   "metadata": {},
   "outputs": [
    {
     "name": "stdout",
     "output_type": "stream",
     "text": [
      "[2930.31056439  960.          544.        ]\n",
      "[4466.94830951 1024.          574.        ]\n"
     ]
    }
   ],
   "source": [
    "dataset_inputs = load_friends_data(\"/shared/ethanweber/cartoons/data/colmap/smith_house_pair_manual_after\", include_point_cloud=True)"
   ]
  },
  {
   "cell_type": "code",
   "execution_count": null,
   "id": "eba07414",
   "metadata": {},
   "outputs": [],
   "source": []
  },
  {
   "cell_type": "code",
   "execution_count": 24,
   "id": "8ff323ed",
   "metadata": {},
   "outputs": [],
   "source": [
    "imdata = read_images_binary(os.path.join(\"/shared/ethanweber/mattport/data/friends/TBBT-big_living_room\", \"colmap\", \"images.bin\"))"
   ]
  },
  {
   "cell_type": "code",
   "execution_count": 41,
   "id": "10539dc6",
   "metadata": {},
   "outputs": [],
   "source": [
    "# cfg.data.dataset.data_directory = get_absolute_path(cfg.data.dataset.data_directory)\n",
    "# dataset_inputs = get_dataset_inputs_dict(**cfg.data.dataset, splits=[\"train\"])[\"train\"]"
   ]
  },
  {
   "cell_type": "code",
   "execution_count": null,
   "id": "0b010534",
   "metadata": {},
   "outputs": [],
   "source": []
  },
  {
   "cell_type": "code",
   "execution_count": 46,
   "id": "e95073a9",
   "metadata": {},
   "outputs": [],
   "source": [
    "import goat.threedvis.meshcat.geometry as g\n",
    "import numpy as np\n",
    "point_cloud = dataset_inputs.point_cloud\n",
    "size = 0.1\n",
    "vis[\"point_cloud\"].set_object(\n",
    "    g.PointCloud(position=np.transpose(np.array(point_cloud.xyz)),\n",
    "                    color=np.transpose(np.array(point_cloud.rgb)) / 255.0, size=size)\n",
    ")"
   ]
  },
  {
   "cell_type": "code",
   "execution_count": 47,
   "id": "aac97d4a",
   "metadata": {},
   "outputs": [
    {
     "name": "stderr",
     "output_type": "stream",
     "text": [
      "100%|██████████| 2/2 [00:00<00:00,  4.15it/s]\n"
     ]
    }
   ],
   "source": [
    "# show dataset inputs with three.js\n",
    "# goat.vis_utils.show_box_test(vis)\n",
    "num_images_to_show = 200\n",
    "for idx in tqdm(list(range(len(dataset_inputs.image_filenames)))[:num_images_to_show]):\n",
    "    image = imageio.imread(dataset_inputs.image_filenames[idx])[:,:,:3]\n",
    "\n",
    "    num_intrinsics_params = len(dataset_inputs.intrinsics[idx])\n",
    "    camera_class = get_camera_model(num_intrinsics_params)\n",
    "    camera_to_world = dataset_inputs.camera_to_world[idx]\n",
    "    camera = camera_class(*dataset_inputs.intrinsics[idx].tolist(), camera_to_world=camera_to_world)\n",
    "    K = camera.get_intrinsics_matrix()\n",
    "\n",
    "    name = \"train/{:06d}\".format(idx)\n",
    "    # height = 0.5\n",
    "    displayed_focal_length = 0.5\n",
    "    goat.vis_utils.draw_camera_frustum(vis, \n",
    "        name=name, \n",
    "        image=image, \n",
    "        K=K.numpy(), \n",
    "        pose=camera_to_world.double().numpy(),\n",
    "        height=3.0,\n",
    "        realistic=False,\n",
    "        displayed_focal_length=0.0\n",
    "        )\n",
    "\n"
   ]
  },
  {
   "cell_type": "code",
   "execution_count": 8,
   "id": "001bdf3b-60a0-4bb2-9f88-ae36f2036c80",
   "metadata": {},
   "outputs": [
    {
     "name": "stderr",
     "output_type": "stream",
     "text": [
      "  0%|          | 0/10 [00:03<?, ?it/s]\n"
     ]
    }
   ],
   "source": [
    "image_dataset = ImageDataset(\n",
    "            image_filenames=dataset_inputs.image_filenames, downscale_factor=dataset_inputs.downscale_factor\n",
    "        )\n",
    "iter_dataset = CollateIterDataset(\n",
    "    image_dataset,\n",
    "    collate_fn=lambda batch_list: collate_batch(\n",
    "        batch_list, cfg.data.dataloader.num_rays_per_batch, keep_full_image=True\n",
    "    ),\n",
    "    num_samples_to_collate=cfg.data.dataloader.num_images_to_sample_from,\n",
    "    num_times_to_repeat=cfg.data.dataloader.num_times_to_repeat_images,\n",
    ")\n",
    "dataloader = DataLoader(\n",
    "    iter_dataset,\n",
    "    batch_size=1,\n",
    "    num_workers=cfg.data.dataloader.num_workers,\n",
    "    collate_fn=collate_batch_size_one,\n",
    "    pin_memory=True,\n",
    ")\n",
    "dataloader_iter = iter(dataloader)\n",
    "\n",
    "ray_generator = RayGenerator(dataset_inputs.intrinsics, dataset_inputs.camera_to_world)\n",
    "\n",
    "num_batches = 10\n",
    "for _ in tqdm(range(num_batches)):\n",
    "    batch = next(dataloader_iter)\n",
    "    ray_bundle = ray_generator.forward(batch[\"indices\"])\n",
    "    break"
   ]
  },
  {
   "cell_type": "code",
   "execution_count": 9,
   "id": "19b85061-a1b0-458b-9d00-96cde6f37dca",
   "metadata": {},
   "outputs": [
    {
     "data": {
      "text/html": [
       "<table class=\"show_images\" style=\"border-spacing:0px;\"><tr><td style=\"padding:1px;\"><img width=\"240\" height=\"135\" style=\"image-rendering:pixelated; object-fit:cover;\" src=\"data:image/png;base64,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\"/></td></tr></table>"
      ],
      "text/plain": [
       "<IPython.core.display.HTML object>"
      ]
     },
     "metadata": {},
     "output_type": "display_data"
    }
   ],
   "source": [
    "media.show_image(image_dataset.get_image(10))"
   ]
  },
  {
   "cell_type": "code",
   "execution_count": 10,
   "id": "b90f4a78-4b8b-4615-a127-7d7579874765",
   "metadata": {},
   "outputs": [],
   "source": [
    "def show_batch(batch):\n",
    "    # set the color of the sampled rays\n",
    "    c, y, x = [i.flatten() for i in torch.split(batch[\"local_indices\"], 1, dim=-1)]\n",
    "    batch[\"image\"][c,y,x] = 1.0\n",
    "\n",
    "    # batch[\"image\"] is num_images, h, w, 3\n",
    "    images = torch.split(batch[\"image\"], 1, dim=0)\n",
    "    image_list = [image[0] for image in images]\n",
    "    image = torch.cat(image_list, dim=1) # cat along the width dimension\n",
    "\n",
    "    # the white pixels are rays\n",
    "    media.show_image((image*255).to(torch.uint8))\n",
    "\n",
    "def sample_and_show_batch():\n",
    "    batch = next(iter(dataloader))\n",
    "    show_batch(batch)\n",
    "    return batch"
   ]
  },
  {
   "cell_type": "code",
   "execution_count": 11,
   "id": "09e625f7-fa1f-4b3f-acd4-bddfcdf7cd9f",
   "metadata": {},
   "outputs": [
    {
     "data": {
      "text/html": [
       "<table class=\"show_images\" style=\"border-spacing:0px;\"><tr><td style=\"padding:1px;\"><img width=\"1920\" height=\"135\" style=\"image-rendering:pixelated; object-fit:cover;\" src=\"data:image/png;base64,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\"/></td></tr></table>"
      ],
      "text/plain": [
       "<IPython.core.display.HTML object>"
      ]
     },
     "metadata": {},
     "output_type": "display_data"
    }
   ],
   "source": [
    "batch = sample_and_show_batch()"
   ]
  },
  {
   "cell_type": "code",
   "execution_count": 12,
   "id": "fd8cf48a-823e-4395-99ca-eda4c2026440",
   "metadata": {},
   "outputs": [],
   "source": [
    "ray_indices = batch[\"indices\"]\n",
    "ray_bundle = ray_generator(ray_indices)"
   ]
  },
  {
   "cell_type": "code",
   "execution_count": 23,
   "id": "646107c0-f979-408a-941f-98b2ad3e07f7",
   "metadata": {},
   "outputs": [],
   "source": [
    "skip = 1\n",
    "size = 8\n",
    "data = []\n",
    "data += [go.Scatter3d(\n",
    "    x=ray_generator.camera_to_world[::skip,0,3],\n",
    "    y=ray_generator.camera_to_world[::skip,1,3],\n",
    "    z=ray_generator.camera_to_world[::skip,2,3],\n",
    "    mode='markers',\n",
    "    name=\"origins\",\n",
    "    marker=dict(color='rgba(0, 0, 0, 1)', size=size)\n",
    ")]"
   ]
  },
  {
   "cell_type": "code",
   "execution_count": 24,
   "id": "c73ba9bd-2902-4c46-b592-bc87ac8c71f6",
   "metadata": {},
   "outputs": [],
   "source": [
    "near_plane = cfg.graph.network.near_plane\n",
    "far_plane = cfg.graph.network.far_plane\n",
    "lines = torch.stack([ray_bundle.origins + ray_bundle.directions * near_plane,\n",
    "                     ray_bundle.origins + ray_bundle.directions * far_plane\n",
    "                    ], dim=1).tolist() # (num_rays, 2, 3)\n",
    "lines = torch.tensor(random.sample(lines, k=100))"
   ]
  },
  {
   "cell_type": "code",
   "execution_count": 25,
   "id": "991df6a2-efe3-4412-ba41-9a244e2e90cc",
   "metadata": {},
   "outputs": [],
   "source": [
    "data += get_line_segments_from_lines(lines)"
   ]
  },
  {
   "cell_type": "code",
   "execution_count": 26,
   "id": "0b2404d8-ca9e-4630-9f67-7c68d19458cb",
   "metadata": {},
   "outputs": [
    {
     "data": {
      "application/vnd.plotly.v1+json": {
       "config": {
        "plotlyServerURL": "https://plot.ly"
       },
       "data": [
        {
         "marker": {
          "color": "rgba(0, 0, 0, 1)",
          "size": 8
         },
         "mode": "markers",
         "name": "origins",
         "type": "scatter3d",
         "x": [
          -2.620957851409912,
          -2.3065438270568848,
          -1.3201767206192017,
          3.2671120166778564,
          0.3710319399833679,
          0.4049864411354065,
          4.826180934906006,
          -0.9473855495452881,
          -3.0205116271972656,
          3.922758102416992,
          1.361860990524292,
          4.85964822769165,
          1.5065038204193115,
          -3.674560070037842,
          1.7150750160217285,
          -3.4039230346679688,
          -0.67200767993927,
          -2.094449043273926,
          -1.6862897872924805,
          3.1038875579833984,
          -1.6938903331756592,
          -1.8510231971740723,
          1.3389005661010742,
          2.562008857727051,
          -2.0709762573242188,
          1.103877067565918,
          -2.8057069778442383,
          -1.4376013278961182,
          -2.484976291656494,
          -2.4179115295410156,
          -1.969143271446228,
          3.150782346725464,
          -1.0036602020263672,
          -3.0639021396636963,
          0.7507435083389282,
          -0.8690291047096252,
          1.3284640312194824,
          1.3980400562286377,
          -3.7091758251190186,
          3.407508373260498,
          -2.9073688983917236,
          2.8712522983551025,
          3.3745851516723633,
          3.4474329948425293,
          0.1343022882938385,
          -1.0858500003814697,
          1.9163532257080078,
          3.006258249282837,
          -2.099956512451172,
          -1.5952181816101074,
          -2.9141554832458496,
          -1.5751419067382812,
          -1.5284204483032227,
          0.7405332922935486,
          -3.091270923614502,
          -3.121455430984497,
          -1.3108881711959839,
          1.566190242767334,
          -1.9271529912948608,
          1.976480484008789,
          -1.101997971534729,
          -1.650305151939392,
          1.4763436317443848,
          -4.018808364868164,
          -0.5259644389152527,
          -0.4001197814941406,
          1.0715441703796387,
          -0.41969823837280273,
          -1.703543782234192,
          -3.217604637145996,
          1.6377414464950562,
          0.9316978454589844,
          2.1592748165130615,
          -2.612527370452881,
          1.679912805557251,
          2.7434144020080566,
          2.713665008544922,
          0.5630910992622375,
          -0.6957547664642334,
          0.4105933904647827,
          3.7846343517303467,
          3.800171136856079,
          1.6267359256744385,
          5.1108856201171875,
          -0.8661962151527405,
          -2.8871655464172363,
          0.5945320725440979,
          -0.4169619679450989,
          -1.2841501235961914,
          1.9518399238586426,
          -0.10009393095970154,
          -0.2565694749355316,
          0.12403451651334763,
          2.9587600231170654,
          1.7632112503051758,
          4.5645856857299805,
          4.909059524536133,
          0.41644370555877686,
          3.5382237434387207,
          3.8257718086242676,
          1.3245147466659546,
          3.758837938308716,
          -1.2901984453201294,
          0.7849958539009094,
          -2.9857308864593506,
          0.936840832233429,
          0.7352339029312134,
          0.7705292701721191,
          0.9413787126541138,
          -0.31442952156066895,
          -0.9062077403068542,
          -1.9406589269638062,
          2.916642665863037,
          2.0731399059295654,
          -1.2346454858779907,
          4.311000347137451,
          4.2350969314575195,
          4.695927619934082,
          0.6286726593971252,
          3.818126916885376,
          4.161957263946533,
          -3.6973514556884766,
          0.35286945104599,
          0.32111644744873047,
          2.9532952308654785,
          3.3116161823272705,
          4.7901105880737305,
          4.9534807205200195,
          -2.7650246620178223,
          0.023515939712524414,
          -0.08924168348312378,
          4.132203102111816,
          -3.3169941902160645,
          -1.430415153503418,
          -1.2428169250488281,
          -0.9602839350700378,
          0.8066017031669617,
          5.096758842468262,
          3.4243295192718506,
          0.8318295478820801,
          -3.4428513050079346,
          -3.0043654441833496,
          -2.150261878967285,
          -1.014682650566101,
          -0.9344648718833923,
          -0.9566317200660706,
          1.1658564805984497,
          -0.8845604062080383,
          0.9025858640670776,
          -0.8809413909912109,
          0.13712775707244873,
          0.7652997970581055,
          -2.1050829887390137,
          -1.3460723161697388,
          3.1971683502197266,
          3.891072988510132,
          -0.358493447303772,
          -2.3962655067443848,
          -0.13333958387374878,
          2.477949857711792,
          2.0839552879333496,
          1.4337520599365234,
          0.1493113934993744,
          -4.199881553649902,
          -1.4152389764785767
         ],
         "y": [
          -0.02269723080098629,
          -0.007217392325401306,
          0.21683987975120544,
          -0.06122439727187157,
          0.02551107667386532,
          0.05321834236383438,
          -0.22067244350910187,
          0.25079548358917236,
          -0.0777716189622879,
          -0.13868878781795502,
          -0.06678775697946548,
          -0.2136428952217102,
          -0.2517271041870117,
          -0.06253424286842346,
          -0.12914849817752838,
          0.08952926099300385,
          0.273040771484375,
          0.35393786430358887,
          0.2592128813266754,
          -0.24914368987083435,
          0.21290244162082672,
          0.2601046562194824,
          0.3141436278820038,
          -0.020961087197065353,
          0.39360663294792175,
          0.1447618007659912,
          0.28828945755958557,
          0.31241458654403687,
          0.36017167568206787,
          0.26626187562942505,
          0.23621948063373566,
          -0.21083968877792358,
          0.16181844472885132,
          0.043499767780303955,
          0.12156285345554352,
          0.34818994998931885,
          0.0889679566025734,
          0.06825277954339981,
          -0.038001418113708496,
          -0.03809872642159462,
          0.18523260951042175,
          -0.08598195016384125,
          -0.02564994990825653,
          -0.08750346302986145,
          -0.06744293123483658,
          0.04242028295993805,
          -0.007192827761173248,
          -0.08793851733207703,
          0.10602737963199615,
          0.1460573822259903,
          0.22212782502174377,
          0.11642644554376602,
          0.10535178333520889,
          0.0066524893045425415,
          0.25616663694381714,
          0.2738812267780304,
          -0.21472252905368805,
          0.1279269903898239,
          0.18506981432437897,
          0.016538791358470917,
          0.1003207117319107,
          0.15850825607776642,
          0.17389647662639618,
          0.14783470332622528,
          0.25039857625961304,
          0.24107114970684052,
          0.0804978758096695,
          0.24512138962745667,
          0.29673323035240173,
          0.2719915509223938,
          -0.1328202486038208,
          -0.06810294091701508,
          -0.051776885986328125,
          0.2780889570713043,
          0.030238378793001175,
          0.00009394437074661255,
          0.0035497136414051056,
          0.00658223545178771,
          -0.024308204650878906,
          0.02515861578285694,
          -0.07199440896511078,
          -0.07394362986087799,
          0.04916439205408096,
          -0.15977804362773895,
          0.04948298633098602,
          0.17402295768260956,
          0.03083505854010582,
          0.0303938165307045,
          0.08235487341880798,
          -0.09861154109239578,
          0.02883356809616089,
          -0.050524357706308365,
          0.16528648138046265,
          -0.14075598120689392,
          -0.12077564746141434,
          -0.3628769516944885,
          -0.41275396943092346,
          -0.09400872886180878,
          -0.17872187495231628,
          -0.20870640873908997,
          -0.0996347963809967,
          -0.21469084918498993,
          0.10958370566368103,
          0.15271781384944916,
          -0.03783717751502991,
          -0.002108961343765259,
          0.20103159546852112,
          0.09026075899600983,
          0.0506536141037941,
          0.18152305483818054,
          0.13792148232460022,
          0.11439946293830872,
          -0.4924408197402954,
          -0.054306816309690475,
          0.24151383340358734,
          0.010649655014276505,
          -0.03100436180830002,
          -0.25425511598587036,
          -0.09674733132123947,
          -0.12923409044742584,
          -0.12281599640846252,
          0.15590913593769073,
          -0.11266174167394638,
          -0.10231234133243561,
          -0.1753341406583786,
          -0.2106318324804306,
          -0.22799140214920044,
          -0.22186097502708435,
          -0.008078809827566147,
          0.01734292507171631,
          0.0024195071309804916,
          -0.4445480704307556,
          0.04546790570020676,
          0.08874533325433731,
          0.04983121156692505,
          0.0713605135679245,
          0.22153843939304352,
          -0.1405496448278427,
          -0.06161907687783241,
          -0.28465574979782104,
          0.328725129365921,
          0.317128986120224,
          0.25215595960617065,
          0.3592537045478821,
          0.22900663316249847,
          0.2263166904449463,
          -0.008280416950583458,
          0.13492918014526367,
          -0.4833546578884125,
          0.12935712933540344,
          -0.465570330619812,
          -0.822230339050293,
          0.15049239993095398,
          0.15180951356887817,
          0.28338778018951416,
          -0.32651835680007935,
          -0.7699631452560425,
          -0.6617442965507507,
          -0.038882672786712646,
          -0.06576817482709885,
          -0.055319830775260925,
          0.029805634170770645,
          0.06506314873695374,
          0.03998251259326935,
          0.02849458158016205
         ],
         "z": [
          -0.6259534358978271,
          -2.0112080574035645,
          -1.6169897317886353,
          -0.018804995343089104,
          -1.398890495300293,
          -1.5020315647125244,
          -0.06478672474622726,
          -1.2854127883911133,
          0.26107773184776306,
          0.48101526498794556,
          -0.6294559240341187,
          -0.07973085343837738,
          2.2341413497924805,
          2.959912061691284,
          0.09198955446481705,
          0.6389332413673401,
          1.7146213054656982,
          -1.5720854997634888,
          -1.1691135168075562,
          1.4464598894119263,
          -1.0655180215835571,
          -1.4064373970031738,
          -0.5899629592895508,
          -0.7430453300476074,
          -1.448909044265747,
          -0.3947642147541046,
          -1.395993947982788,
          -1.5644348859786987,
          -1.4415491819381714,
          -1.4967446327209473,
          -1.4168566465377808,
          0.11062050610780716,
          -1.5025733709335327,
          2.180180788040161,
          -1.2096606492996216,
          -1.2222822904586792,
          -0.6224474310874939,
          -0.6229749321937561,
          2.6515817642211914,
          0.22910255193710327,
          -1.9885410070419312,
          0.4994273781776428,
          0.29146718978881836,
          0.15315395593643188,
          -0.6983036398887634,
          -1.2735430002212524,
          -1.182043433189392,
          -0.3822988271713257,
          -1.5829613208770752,
          -1.7921134233474731,
          -1.9087226390838623,
          -1.5780413150787354,
          -1.7105379104614258,
          -1.8278754949569702,
          -0.8935827016830444,
          -0.9839081168174744,
          2.2705588340759277,
          -0.8218976259231567,
          -1.415997862815857,
          0.11395318806171417,
          -1.368291974067688,
          -1.434346079826355,
          -0.965854287147522,
          0.0329008549451828,
          -1.0497677326202393,
          -1.146047592163086,
          -0.668433666229248,
          -1.1488443613052368,
          -1.3651847839355469,
          -1.6926286220550537,
          -0.3662630021572113,
          -0.5354233384132385,
          -0.7429128885269165,
          -1.333686351776123,
          -0.4357435405254364,
          -0.26990756392478943,
          -0.22622956335544586,
          -0.7744665741920471,
          2.3329436779022217,
          -0.8853849768638611,
          -0.17051385343074799,
          -0.18387442827224731,
          -0.722726047039032,
          -0.22386765480041504,
          -1.0865975618362427,
          -1.1870149374008179,
          -0.6184709668159485,
          -1.3269069194793701,
          -1.7547537088394165,
          -0.4397783875465393,
          -1.301986575126648,
          -0.323600709438324,
          -0.965795636177063,
          0.11810342967510223,
          -0.2080032229423523,
          1.70197594165802,
          1.5080652236938477,
          -0.321573406457901,
          0.5963672995567322,
          0.15875357389450073,
          -0.42475417256355286,
          0.23752571642398834,
          -1.376319408416748,
          -1.7711848020553589,
          -0.5854673981666565,
          -0.5635768175125122,
          -0.6070570349693298,
          -0.9656419157981873,
          -0.8695501089096069,
          -1.8131901025772095,
          -1.413840889930725,
          -1.1244473457336426,
          2.686849594116211,
          -0.2676960527896881,
          -1.2912307977676392,
          -1.3466274738311768,
          -1.1066513061523438,
          0.9939570426940918,
          -0.07081498950719833,
          0.005207570735365152,
          -0.04425918683409691,
          1.2914749383926392,
          1.838129997253418,
          1.8501781225204468,
          0.8168551325798035,
          0.6904395818710327,
          0.017272477969527245,
          -0.135447159409523,
          -1.1490519046783447,
          -1.148095965385437,
          -1.0472012758255005,
          1.8627870082855225,
          -1.1610256433486938,
          -1.4728754758834839,
          -1.2383031845092773,
          -1.6193757057189941,
          -0.3687993288040161,
          -0.08464117348194122,
          -0.498749315738678,
          1.8428467512130737,
          -1.3862802982330322,
          -1.5068855285644531,
          -1.3503378629684448,
          -1.4887340068817139,
          -0.6515887379646301,
          -0.6726614832878113,
          0.049496639519929886,
          -0.7778870463371277,
          3.4374642372131348,
          -0.7840431928634644,
          3.31127667427063,
          4.327725887298584,
          -0.8048294186592102,
          -0.824744701385498,
          1.743438959121704,
          1.137464165687561,
          3.8119280338287354,
          6.3555145263671875,
          -0.7761297225952148,
          -0.4843476712703705,
          -0.1734239161014557,
          -0.48877382278442383,
          -0.7759600281715393,
          -0.8362661600112915,
          -1.2391544580459595
         ]
        },
        {
         "line": {
          "color": "rgb(255, 0, 0)",
          "width": 10
         },
         "marker": {
          "color": "rgb(255, 0, 0)",
          "colorscale": [
           [
            0,
            "#440154"
           ],
           [
            0.1111111111111111,
            "#482878"
           ],
           [
            0.2222222222222222,
            "#3e4989"
           ],
           [
            0.3333333333333333,
            "#31688e"
           ],
           [
            0.4444444444444444,
            "#26828e"
           ],
           [
            0.5555555555555556,
            "#1f9e89"
           ],
           [
            0.6666666666666666,
            "#35b779"
           ],
           [
            0.7777777777777778,
            "#6ece58"
           ],
           [
            0.8888888888888888,
            "#b5de2b"
           ],
           [
            1,
            "#fde725"
           ]
          ],
          "size": 4
         },
         "showlegend": false,
         "type": "scatter3d",
         "x": [
          3.6154143810272217,
          -1.130441665649414
         ],
         "y": [
          -0.18036767840385437,
          0.7321786284446716
         ],
         "z": [
          1.9584215879440308,
          3.240650177001953
         ]
        },
        {
         "line": {
          "color": "rgb(255, 0, 0)",
          "width": 10
         },
         "marker": {
          "color": "rgb(255, 0, 0)",
          "colorscale": [
           [
            0,
            "#440154"
           ],
           [
            0.1111111111111111,
            "#482878"
           ],
           [
            0.2222222222222222,
            "#3e4989"
           ],
           [
            0.3333333333333333,
            "#31688e"
           ],
           [
            0.4444444444444444,
            "#26828e"
           ],
           [
            0.5555555555555556,
            "#1f9e89"
           ],
           [
            0.6666666666666666,
            "#35b779"
           ],
           [
            0.7777777777777778,
            "#6ece58"
           ],
           [
            0.8888888888888888,
            "#b5de2b"
           ],
           [
            1,
            "#fde725"
           ]
          ],
          "size": 4
         },
         "showlegend": false,
         "type": "scatter3d",
         "x": [
          3.5910754203796387,
          -1.2764759063720703
         ],
         "y": [
          -0.14492997527122498,
          0.944804847240448
         ],
         "z": [
          1.771091103553772,
          2.116666793823242
         ]
        },
        {
         "line": {
          "color": "rgb(255, 0, 0)",
          "width": 10
         },
         "marker": {
          "color": "rgb(255, 0, 0)",
          "colorscale": [
           [
            0,
            "#440154"
           ],
           [
            0.1111111111111111,
            "#482878"
           ],
           [
            0.2222222222222222,
            "#3e4989"
           ],
           [
            0.3333333333333333,
            "#31688e"
           ],
           [
            0.4444444444444444,
            "#26828e"
           ],
           [
            0.5555555555555556,
            "#1f9e89"
           ],
           [
            0.6666666666666666,
            "#35b779"
           ],
           [
            0.7777777777777778,
            "#6ece58"
           ],
           [
            0.8888888888888888,
            "#b5de2b"
           ],
           [
            1,
            "#fde725"
           ]
          ],
          "size": 4
         },
         "showlegend": false,
         "type": "scatter3d",
         "x": [
          3.7927937507629395,
          3.755906105041504
         ],
         "y": [
          0.14729002118110657,
          1.2534582614898682
         ],
         "z": [
          0.7913184762001038,
          5.667282581329346
         ]
        },
        {
         "line": {
          "color": "rgb(255, 0, 0)",
          "width": 10
         },
         "marker": {
          "color": "rgb(255, 0, 0)",
          "colorscale": [
           [
            0,
            "#440154"
           ],
           [
            0.1111111111111111,
            "#482878"
           ],
           [
            0.2222222222222222,
            "#3e4989"
           ],
           [
            0.3333333333333333,
            "#31688e"
           ],
           [
            0.4444444444444444,
            "#26828e"
           ],
           [
            0.5555555555555556,
            "#1f9e89"
           ],
           [
            0.6666666666666666,
            "#35b779"
           ],
           [
            0.7777777777777778,
            "#6ece58"
           ],
           [
            0.8888888888888888,
            "#b5de2b"
           ],
           [
            1,
            "#fde725"
           ]
          ],
          "size": 4
         },
         "showlegend": false,
         "type": "scatter3d",
         "x": [
          -1.6169376373291016,
          -1.2701771259307861
         ],
         "y": [
          0.3978783190250397,
          1.0912054777145386
         ],
         "z": [
          -0.18120545148849487,
          4.758334636688232
         ]
        },
        {
         "line": {
          "color": "rgb(255, 0, 0)",
          "width": 10
         },
         "marker": {
          "color": "rgb(255, 0, 0)",
          "colorscale": [
           [
            0,
            "#440154"
           ],
           [
            0.1111111111111111,
            "#482878"
           ],
           [
            0.2222222222222222,
            "#3e4989"
           ],
           [
            0.3333333333333333,
            "#31688e"
           ],
           [
            0.4444444444444444,
            "#26828e"
           ],
           [
            0.5555555555555556,
            "#1f9e89"
           ],
           [
            0.6666666666666666,
            "#35b779"
           ],
           [
            0.7777777777777778,
            "#6ece58"
           ],
           [
            0.8888888888888888,
            "#b5de2b"
           ],
           [
            1,
            "#fde725"
           ]
          ],
          "size": 4
         },
         "showlegend": false,
         "type": "scatter3d",
         "x": [
          -2.318216562271118,
          -1.4844176769256592
         ],
         "y": [
          0.2501121163368225,
          -0.30018579959869385
         ],
         "z": [
          -0.46171337366104126,
          4.437465667724609
         ]
        },
        {
         "line": {
          "color": "rgb(255, 0, 0)",
          "width": 10
         },
         "marker": {
          "color": "rgb(255, 0, 0)",
          "colorscale": [
           [
            0,
            "#440154"
           ],
           [
            0.1111111111111111,
            "#482878"
           ],
           [
            0.2222222222222222,
            "#3e4989"
           ],
           [
            0.3333333333333333,
            "#31688e"
           ],
           [
            0.4444444444444444,
            "#26828e"
           ],
           [
            0.5555555555555556,
            "#1f9e89"
           ],
           [
            0.6666666666666666,
            "#35b779"
           ],
           [
            0.7777777777777778,
            "#6ece58"
           ],
           [
            0.8888888888888888,
            "#b5de2b"
           ],
           [
            1,
            "#fde725"
           ]
          ],
          "size": 4
         },
         "showlegend": false,
         "type": "scatter3d",
         "x": [
          -2.3784866333007812,
          -1.8460384607315063
         ],
         "y": [
          0.07468342781066895,
          -1.3527578115463257
         ],
         "z": [
          -0.4891015887260437,
          4.273136138916016
         ]
        },
        {
         "line": {
          "color": "rgb(255, 0, 0)",
          "width": 10
         },
         "marker": {
          "color": "rgb(255, 0, 0)",
          "colorscale": [
           [
            0,
            "#440154"
           ],
           [
            0.1111111111111111,
            "#482878"
           ],
           [
            0.2222222222222222,
            "#3e4989"
           ],
           [
            0.3333333333333333,
            "#31688e"
           ],
           [
            0.4444444444444444,
            "#26828e"
           ],
           [
            0.5555555555555556,
            "#1f9e89"
           ],
           [
            0.6666666666666666,
            "#35b779"
           ],
           [
            0.7777777777777778,
            "#6ece58"
           ],
           [
            0.8888888888888888,
            "#b5de2b"
           ],
           [
            1,
            "#fde725"
           ]
          ],
          "size": 4
         },
         "showlegend": false,
         "type": "scatter3d",
         "x": [
          4.121050834655762,
          5.725449562072754
         ],
         "y": [
          0.08558230102062225,
          0.8832119703292847
         ],
         "z": [
          0.7497142553329468,
          5.417657375335693
         ]
        },
        {
         "line": {
          "color": "rgb(255, 0, 0)",
          "width": 10
         },
         "marker": {
          "color": "rgb(255, 0, 0)",
          "colorscale": [
           [
            0,
            "#440154"
           ],
           [
            0.1111111111111111,
            "#482878"
           ],
           [
            0.2222222222222222,
            "#3e4989"
           ],
           [
            0.3333333333333333,
            "#31688e"
           ],
           [
            0.4444444444444444,
            "#26828e"
           ],
           [
            0.5555555555555556,
            "#1f9e89"
           ],
           [
            0.6666666666666666,
            "#35b779"
           ],
           [
            0.7777777777777778,
            "#6ece58"
           ],
           [
            0.8888888888888888,
            "#b5de2b"
           ],
           [
            1,
            "#fde725"
           ]
          ],
          "size": 4
         },
         "showlegend": false,
         "type": "scatter3d",
         "x": [
          3.455401659011841,
          1.7315537929534912
         ],
         "y": [
          -0.277576208114624,
          -1.295738935470581
         ],
         "z": [
          0.7324594855308533,
          5.314128875732422
         ]
        },
        {
         "line": {
          "color": "rgb(255, 0, 0)",
          "width": 10
         },
         "marker": {
          "color": "rgb(255, 0, 0)",
          "colorscale": [
           [
            0,
            "#440154"
           ],
           [
            0.1111111111111111,
            "#482878"
           ],
           [
            0.2222222222222222,
            "#3e4989"
           ],
           [
            0.3333333333333333,
            "#31688e"
           ],
           [
            0.4444444444444444,
            "#26828e"
           ],
           [
            0.5555555555555556,
            "#1f9e89"
           ],
           [
            0.6666666666666666,
            "#35b779"
           ],
           [
            0.7777777777777778,
            "#6ece58"
           ],
           [
            0.8888888888888888,
            "#b5de2b"
           ],
           [
            1,
            "#fde725"
           ]
          ],
          "size": 4
         },
         "showlegend": false,
         "type": "scatter3d",
         "x": [
          -0.9037959575653076,
          -2.7929537296295166
         ],
         "y": [
          0.24904261529445648,
          0.24226278066635132
         ],
         "z": [
          -0.12389439344406128,
          4.505472183227539
         ]
        },
        {
         "line": {
          "color": "rgb(255, 0, 0)",
          "width": 10
         },
         "marker": {
          "color": "rgb(255, 0, 0)",
          "colorscale": [
           [
            0,
            "#440154"
           ],
           [
            0.1111111111111111,
            "#482878"
           ],
           [
            0.2222222222222222,
            "#3e4989"
           ],
           [
            0.3333333333333333,
            "#31688e"
           ],
           [
            0.4444444444444444,
            "#26828e"
           ],
           [
            0.5555555555555556,
            "#1f9e89"
           ],
           [
            0.6666666666666666,
            "#35b779"
           ],
           [
            0.7777777777777778,
            "#6ece58"
           ],
           [
            0.8888888888888888,
            "#b5de2b"
           ],
           [
            1,
            "#fde725"
           ]
          ],
          "size": 4
         },
         "showlegend": false,
         "type": "scatter3d",
         "x": [
          -1.100243091583252,
          -3.9716360569000244
         ],
         "y": [
          0.3515505790710449,
          0.8573105335235596
         ],
         "z": [
          -0.23738086223602295,
          3.8245532512664795
         ]
        },
        {
         "line": {
          "color": "rgb(255, 0, 0)",
          "width": 10
         },
         "marker": {
          "color": "rgb(255, 0, 0)",
          "colorscale": [
           [
            0,
            "#440154"
           ],
           [
            0.1111111111111111,
            "#482878"
           ],
           [
            0.2222222222222222,
            "#3e4989"
           ],
           [
            0.3333333333333333,
            "#31688e"
           ],
           [
            0.4444444444444444,
            "#26828e"
           ],
           [
            0.5555555555555556,
            "#1f9e89"
           ],
           [
            0.6666666666666666,
            "#35b779"
           ],
           [
            0.7777777777777778,
            "#6ece58"
           ],
           [
            0.8888888888888888,
            "#b5de2b"
           ],
           [
            1,
            "#fde725"
           ]
          ],
          "size": 4
         },
         "showlegend": false,
         "type": "scatter3d",
         "x": [
          3.7725210189819336,
          3.6342709064483643
         ],
         "y": [
          -0.16448014974594116,
          -0.6171627044677734
         ],
         "z": [
          0.8116347789764404,
          5.789180755615234
         ]
        },
        {
         "line": {
          "color": "rgb(255, 0, 0)",
          "width": 10
         },
         "marker": {
          "color": "rgb(255, 0, 0)",
          "colorscale": [
           [
            0,
            "#440154"
           ],
           [
            0.1111111111111111,
            "#482878"
           ],
           [
            0.2222222222222222,
            "#3e4989"
           ],
           [
            0.3333333333333333,
            "#31688e"
           ],
           [
            0.4444444444444444,
            "#26828e"
           ],
           [
            0.5555555555555556,
            "#1f9e89"
           ],
           [
            0.6666666666666666,
            "#35b779"
           ],
           [
            0.7777777777777778,
            "#6ece58"
           ],
           [
            0.8888888888888888,
            "#b5de2b"
           ],
           [
            1,
            "#fde725"
           ]
          ],
          "size": 4
         },
         "showlegend": false,
         "type": "scatter3d",
         "x": [
          -1.020065426826477,
          -3.490570306777954
         ],
         "y": [
          0.4307911992073059,
          1.332754135131836
         ],
         "z": [
          -0.19928401708602905,
          4.053134918212891
         ]
        },
        {
         "line": {
          "color": "rgb(255, 0, 0)",
          "width": 10
         },
         "marker": {
          "color": "rgb(255, 0, 0)",
          "colorscale": [
           [
            0,
            "#440154"
           ],
           [
            0.1111111111111111,
            "#482878"
           ],
           [
            0.2222222222222222,
            "#3e4989"
           ],
           [
            0.3333333333333333,
            "#31688e"
           ],
           [
            0.4444444444444444,
            "#26828e"
           ],
           [
            0.5555555555555556,
            "#1f9e89"
           ],
           [
            0.6666666666666666,
            "#35b779"
           ],
           [
            0.7777777777777778,
            "#6ece58"
           ],
           [
            0.8888888888888888,
            "#b5de2b"
           ],
           [
            1,
            "#fde725"
           ]
          ],
          "size": 4
         },
         "showlegend": false,
         "type": "scatter3d",
         "x": [
          3.4056546688079834,
          1.3432929515838623
         ],
         "y": [
          -0.3115953207015991,
          -1.223401427268982
         ],
         "z": [
          0.8977382779121399,
          5.360391616821289
         ]
        },
        {
         "line": {
          "color": "rgb(255, 0, 0)",
          "width": 10
         },
         "marker": {
          "color": "rgb(255, 0, 0)",
          "colorscale": [
           [
            0,
            "#440154"
           ],
           [
            0.1111111111111111,
            "#482878"
           ],
           [
            0.2222222222222222,
            "#3e4989"
           ],
           [
            0.3333333333333333,
            "#31688e"
           ],
           [
            0.4444444444444444,
            "#26828e"
           ],
           [
            0.5555555555555556,
            "#1f9e89"
           ],
           [
            0.6666666666666666,
            "#35b779"
           ],
           [
            0.7777777777777778,
            "#6ece58"
           ],
           [
            0.8888888888888888,
            "#b5de2b"
           ],
           [
            1,
            "#fde725"
           ]
          ],
          "size": 4
         },
         "showlegend": false,
         "type": "scatter3d",
         "x": [
          -0.8130481243133545,
          -2.2484664916992188
         ],
         "y": [
          0.3897104263305664,
          1.0862696170806885
         ],
         "z": [
          -0.10204672813415527,
          4.636558532714844
         ]
        },
        {
         "line": {
          "color": "rgb(255, 0, 0)",
          "width": 10
         },
         "marker": {
          "color": "rgb(255, 0, 0)",
          "colorscale": [
           [
            0,
            "#440154"
           ],
           [
            0.1111111111111111,
            "#482878"
           ],
           [
            0.2222222222222222,
            "#3e4989"
           ],
           [
            0.3333333333333333,
            "#31688e"
           ],
           [
            0.4444444444444444,
            "#26828e"
           ],
           [
            0.5555555555555556,
            "#1f9e89"
           ],
           [
            0.6666666666666666,
            "#35b779"
           ],
           [
            0.7777777777777778,
            "#6ece58"
           ],
           [
            0.8888888888888888,
            "#b5de2b"
           ],
           [
            1,
            "#fde725"
           ]
          ],
          "size": 4
         },
         "showlegend": false,
         "type": "scatter3d",
         "x": [
          -2.079252243041992,
          -0.05063199996948242
         ],
         "y": [
          0.14982977509498596,
          -0.9018796682357788
         ],
         "z": [
          -0.5520862340927124,
          3.895228385925293
         ]
        },
        {
         "line": {
          "color": "rgb(255, 0, 0)",
          "width": 10
         },
         "marker": {
          "color": "rgb(255, 0, 0)",
          "colorscale": [
           [
            0,
            "#440154"
           ],
           [
            0.1111111111111111,
            "#482878"
           ],
           [
            0.2222222222222222,
            "#3e4989"
           ],
           [
            0.3333333333333333,
            "#31688e"
           ],
           [
            0.4444444444444444,
            "#26828e"
           ],
           [
            0.5555555555555556,
            "#1f9e89"
           ],
           [
            0.6666666666666666,
            "#35b779"
           ],
           [
            0.7777777777777778,
            "#6ece58"
           ],
           [
            0.8888888888888888,
            "#b5de2b"
           ],
           [
            1,
            "#fde725"
           ]
          ],
          "size": 4
         },
         "showlegend": false,
         "type": "scatter3d",
         "x": [
          -2.373893976211548,
          -1.8184822797775269
         ],
         "y": [
          0.20148207247257233,
          -0.591965913772583
         ],
         "z": [
          -0.4604893922805786,
          4.444809436798096
         ]
        },
        {
         "line": {
          "color": "rgb(255, 0, 0)",
          "width": 10
         },
         "marker": {
          "color": "rgb(255, 0, 0)",
          "colorscale": [
           [
            0,
            "#440154"
           ],
           [
            0.1111111111111111,
            "#482878"
           ],
           [
            0.2222222222222222,
            "#3e4989"
           ],
           [
            0.3333333333333333,
            "#31688e"
           ],
           [
            0.4444444444444444,
            "#26828e"
           ],
           [
            0.5555555555555556,
            "#1f9e89"
           ],
           [
            0.6666666666666666,
            "#35b779"
           ],
           [
            0.7777777777777778,
            "#6ece58"
           ],
           [
            0.8888888888888888,
            "#b5de2b"
           ],
           [
            1,
            "#fde725"
           ]
          ],
          "size": 4
         },
         "showlegend": false,
         "type": "scatter3d",
         "x": [
          -1.0388758182525635,
          -3.6034328937530518
         ],
         "y": [
          0.14581626653671265,
          -0.3770952820777893
         ],
         "z": [
          -0.19772052764892578,
          4.0625152587890625
         ]
        },
        {
         "line": {
          "color": "rgb(255, 0, 0)",
          "width": 10
         },
         "marker": {
          "color": "rgb(255, 0, 0)",
          "colorscale": [
           [
            0,
            "#440154"
           ],
           [
            0.1111111111111111,
            "#482878"
           ],
           [
            0.2222222222222222,
            "#3e4989"
           ],
           [
            0.3333333333333333,
            "#31688e"
           ],
           [
            0.4444444444444444,
            "#26828e"
           ],
           [
            0.5555555555555556,
            "#1f9e89"
           ],
           [
            0.6666666666666666,
            "#35b779"
           ],
           [
            0.7777777777777778,
            "#6ece58"
           ],
           [
            0.8888888888888888,
            "#b5de2b"
           ],
           [
            1,
            "#fde725"
           ]
          ],
          "size": 4
         },
         "showlegend": false,
         "type": "scatter3d",
         "x": [
          -1.6311581134796143,
          -1.3554996252059937
         ],
         "y": [
          0.16671282052993774,
          -0.2957874834537506
         ],
         "z": [
          -0.17492836713790894,
          4.795997142791748
         ]
        },
        {
         "line": {
          "color": "rgb(255, 0, 0)",
          "width": 10
         },
         "marker": {
          "color": "rgb(255, 0, 0)",
          "colorscale": [
           [
            0,
            "#440154"
           ],
           [
            0.1111111111111111,
            "#482878"
           ],
           [
            0.2222222222222222,
            "#3e4989"
           ],
           [
            0.3333333333333333,
            "#31688e"
           ],
           [
            0.4444444444444444,
            "#26828e"
           ],
           [
            0.5555555555555556,
            "#1f9e89"
           ],
           [
            0.6666666666666666,
            "#35b779"
           ],
           [
            0.7777777777777778,
            "#6ece58"
           ],
           [
            0.8888888888888888,
            "#b5de2b"
           ],
           [
            1,
            "#fde725"
           ]
          ],
          "size": 4
         },
         "showlegend": false,
         "type": "scatter3d",
         "x": [
          3.9389541149139404,
          4.632868766784668
         ],
         "y": [
          0.09440241754055023,
          0.9361326694488525
         ],
         "z": [
          0.7920348644256592,
          5.671581268310547
         ]
        },
        {
         "line": {
          "color": "rgb(255, 0, 0)",
          "width": 10
         },
         "marker": {
          "color": "rgb(255, 0, 0)",
          "colorscale": [
           [
            0,
            "#440154"
           ],
           [
            0.1111111111111111,
            "#482878"
           ],
           [
            0.2222222222222222,
            "#3e4989"
           ],
           [
            0.3333333333333333,
            "#31688e"
           ],
           [
            0.4444444444444444,
            "#26828e"
           ],
           [
            0.5555555555555556,
            "#1f9e89"
           ],
           [
            0.6666666666666666,
            "#35b779"
           ],
           [
            0.7777777777777778,
            "#6ece58"
           ],
           [
            0.8888888888888888,
            "#b5de2b"
           ],
           [
            1,
            "#fde725"
           ]
          ],
          "size": 4
         },
         "showlegend": false,
         "type": "scatter3d",
         "x": [
          3.593783140182495,
          -1.2602300643920898
         ],
         "y": [
          -0.15975284576416016,
          0.8558676838874817
         ],
         "z": [
          1.8295799493789673,
          2.467599868774414
         ]
        },
        {
         "line": {
          "color": "rgb(255, 0, 0)",
          "width": 10
         },
         "marker": {
          "color": "rgb(255, 0, 0)",
          "colorscale": [
           [
            0,
            "#440154"
           ],
           [
            0.1111111111111111,
            "#482878"
           ],
           [
            0.2222222222222222,
            "#3e4989"
           ],
           [
            0.3333333333333333,
            "#31688e"
           ],
           [
            0.4444444444444444,
            "#26828e"
           ],
           [
            0.5555555555555556,
            "#1f9e89"
           ],
           [
            0.6666666666666666,
            "#35b779"
           ],
           [
            0.7777777777777778,
            "#6ece58"
           ],
           [
            0.8888888888888888,
            "#b5de2b"
           ],
           [
            1,
            "#fde725"
           ]
          ],
          "size": 4
         },
         "showlegend": false,
         "type": "scatter3d",
         "x": [
          -1.446848750114441,
          -0.24964332580566406
         ],
         "y": [
          0.14292669296264648,
          -0.43850430846214294
         ],
         "z": [
          -0.2051914930343628,
          4.6144185066223145
         ]
        },
        {
         "line": {
          "color": "rgb(255, 0, 0)",
          "width": 10
         },
         "marker": {
          "color": "rgb(255, 0, 0)",
          "colorscale": [
           [
            0,
            "#440154"
           ],
           [
            0.1111111111111111,
            "#482878"
           ],
           [
            0.2222222222222222,
            "#3e4989"
           ],
           [
            0.3333333333333333,
            "#31688e"
           ],
           [
            0.4444444444444444,
            "#26828e"
           ],
           [
            0.5555555555555556,
            "#1f9e89"
           ],
           [
            0.6666666666666666,
            "#35b779"
           ],
           [
            0.7777777777777778,
            "#6ece58"
           ],
           [
            0.8888888888888888,
            "#b5de2b"
           ],
           [
            1,
            "#fde725"
           ]
          ],
          "size": 4
         },
         "showlegend": false,
         "type": "scatter3d",
         "x": [
          3.4888501167297363,
          1.8424657583236694
         ],
         "y": [
          -0.32929059863090515,
          -1.329573154449463
         ],
         "z": [
          0.9280045628547668,
          5.541989326477051
         ]
        },
        {
         "line": {
          "color": "rgb(255, 0, 0)",
          "width": 10
         },
         "marker": {
          "color": "rgb(255, 0, 0)",
          "colorscale": [
           [
            0,
            "#440154"
           ],
           [
            0.1111111111111111,
            "#482878"
           ],
           [
            0.2222222222222222,
            "#3e4989"
           ],
           [
            0.3333333333333333,
            "#31688e"
           ],
           [
            0.4444444444444444,
            "#26828e"
           ],
           [
            0.5555555555555556,
            "#1f9e89"
           ],
           [
            0.6666666666666666,
            "#35b779"
           ],
           [
            0.7777777777777778,
            "#6ece58"
           ],
           [
            0.8888888888888888,
            "#b5de2b"
           ],
           [
            1,
            "#fde725"
           ]
          ],
          "size": 4
         },
         "showlegend": false,
         "type": "scatter3d",
         "x": [
          3.9883968830108643,
          4.929524898529053
         ],
         "y": [
          -0.2211797833442688,
          -0.9573605060577393
         ],
         "z": [
          0.7871521711349487,
          5.642284870147705
         ]
        },
        {
         "line": {
          "color": "rgb(255, 0, 0)",
          "width": 10
         },
         "marker": {
          "color": "rgb(255, 0, 0)",
          "colorscale": [
           [
            0,
            "#440154"
           ],
           [
            0.1111111111111111,
            "#482878"
           ],
           [
            0.2222222222222222,
            "#3e4989"
           ],
           [
            0.3333333333333333,
            "#31688e"
           ],
           [
            0.4444444444444444,
            "#26828e"
           ],
           [
            0.5555555555555556,
            "#1f9e89"
           ],
           [
            0.6666666666666666,
            "#35b779"
           ],
           [
            0.7777777777777778,
            "#6ece58"
           ],
           [
            0.8888888888888888,
            "#b5de2b"
           ],
           [
            1,
            "#fde725"
           ]
          ],
          "size": 4
         },
         "showlegend": false,
         "type": "scatter3d",
         "x": [
          -1.4305938482284546,
          -0.1521141529083252
         ],
         "y": [
          0.3497944474220276,
          0.8027023077011108
         ],
         "z": [
          -0.20660918951034546,
          4.605912208557129
         ]
        },
        {
         "line": {
          "color": "rgb(255, 0, 0)",
          "width": 10
         },
         "marker": {
          "color": "rgb(255, 0, 0)",
          "colorscale": [
           [
            0,
            "#440154"
           ],
           [
            0.1111111111111111,
            "#482878"
           ],
           [
            0.2222222222222222,
            "#3e4989"
           ],
           [
            0.3333333333333333,
            "#31688e"
           ],
           [
            0.4444444444444444,
            "#26828e"
           ],
           [
            0.5555555555555556,
            "#1f9e89"
           ],
           [
            0.6666666666666666,
            "#35b779"
           ],
           [
            0.7777777777777778,
            "#6ece58"
           ],
           [
            0.8888888888888888,
            "#b5de2b"
           ],
           [
            1,
            "#fde725"
           ]
          ],
          "size": 4
         },
         "showlegend": false,
         "type": "scatter3d",
         "x": [
          -2.351006507873535,
          -1.6811578273773193
         ],
         "y": [
          0.08429938554763794,
          -1.2950620651245117
         ],
         "z": [
          -0.48973697423934937,
          4.269323825836182
         ]
        },
        {
         "line": {
          "color": "rgb(255, 0, 0)",
          "width": 10
         },
         "marker": {
          "color": "rgb(255, 0, 0)",
          "colorscale": [
           [
            0,
            "#440154"
           ],
           [
            0.1111111111111111,
            "#482878"
           ],
           [
            0.2222222222222222,
            "#3e4989"
           ],
           [
            0.3333333333333333,
            "#31688e"
           ],
           [
            0.4444444444444444,
            "#26828e"
           ],
           [
            0.5555555555555556,
            "#1f9e89"
           ],
           [
            0.6666666666666666,
            "#35b779"
           ],
           [
            0.7777777777777778,
            "#6ece58"
           ],
           [
            0.8888888888888888,
            "#b5de2b"
           ],
           [
            1,
            "#fde725"
           ]
          ],
          "size": 4
         },
         "showlegend": false,
         "type": "scatter3d",
         "x": [
          3.4759016036987305,
          1.7647755146026611
         ],
         "y": [
          -0.15074323117733002,
          -0.2582889199256897
         ],
         "z": [
          0.9445793628692627,
          5.641438007354736
         ]
        },
        {
         "line": {
          "color": "rgb(255, 0, 0)",
          "width": 10
         },
         "marker": {
          "color": "rgb(255, 0, 0)",
          "colorscale": [
           [
            0,
            "#440154"
           ],
           [
            0.1111111111111111,
            "#482878"
           ],
           [
            0.2222222222222222,
            "#3e4989"
           ],
           [
            0.3333333333333333,
            "#31688e"
           ],
           [
            0.4444444444444444,
            "#26828e"
           ],
           [
            0.5555555555555556,
            "#1f9e89"
           ],
           [
            0.6666666666666666,
            "#35b779"
           ],
           [
            0.7777777777777778,
            "#6ece58"
           ],
           [
            0.8888888888888888,
            "#b5de2b"
           ],
           [
            1,
            "#fde725"
           ]
          ],
          "size": 4
         },
         "showlegend": false,
         "type": "scatter3d",
         "x": [
          3.6637046337127686,
          -0.8407011032104492
         ],
         "y": [
          -0.193550705909729,
          0.6530805230140686
         ],
         "z": [
          2.1016530990600586,
          4.100038528442383
         ]
        },
        {
         "line": {
          "color": "rgb(255, 0, 0)",
          "width": 10
         },
         "marker": {
          "color": "rgb(255, 0, 0)",
          "colorscale": [
           [
            0,
            "#440154"
           ],
           [
            0.1111111111111111,
            "#482878"
           ],
           [
            0.2222222222222222,
            "#3e4989"
           ],
           [
            0.3333333333333333,
            "#31688e"
           ],
           [
            0.4444444444444444,
            "#26828e"
           ],
           [
            0.5555555555555556,
            "#1f9e89"
           ],
           [
            0.6666666666666666,
            "#35b779"
           ],
           [
            0.7777777777777778,
            "#6ece58"
           ],
           [
            0.8888888888888888,
            "#b5de2b"
           ],
           [
            1,
            "#fde725"
           ]
          ],
          "size": 4
         },
         "showlegend": false,
         "type": "scatter3d",
         "x": [
          3.702563762664795,
          3.1247477531433105
         ],
         "y": [
          -0.13121438026428223,
          -0.14111584424972534
         ],
         "z": [
          0.9985057711601257,
          5.964996814727783
         ]
        },
        {
         "line": {
          "color": "rgb(255, 0, 0)",
          "width": 10
         },
         "marker": {
          "color": "rgb(255, 0, 0)",
          "colorscale": [
           [
            0,
            "#440154"
           ],
           [
            0.1111111111111111,
            "#482878"
           ],
           [
            0.2222222222222222,
            "#3e4989"
           ],
           [
            0.3333333333333333,
            "#31688e"
           ],
           [
            0.4444444444444444,
            "#26828e"
           ],
           [
            0.5555555555555556,
            "#1f9e89"
           ],
           [
            0.6666666666666666,
            "#35b779"
           ],
           [
            0.7777777777777778,
            "#6ece58"
           ],
           [
            0.8888888888888888,
            "#b5de2b"
           ],
           [
            1,
            "#fde725"
           ]
          ],
          "size": 4
         },
         "showlegend": false,
         "type": "scatter3d",
         "x": [
          0.4080146551132202,
          -1.476891279220581
         ],
         "y": [
          0.12125931680202484,
          -0.03603313863277435
         ],
         "z": [
          -0.8454982042312622,
          3.7829346656799316
         ]
        },
        {
         "line": {
          "color": "rgb(255, 0, 0)",
          "width": 10
         },
         "marker": {
          "color": "rgb(255, 0, 0)",
          "colorscale": [
           [
            0,
            "#440154"
           ],
           [
            0.1111111111111111,
            "#482878"
           ],
           [
            0.2222222222222222,
            "#3e4989"
           ],
           [
            0.3333333333333333,
            "#31688e"
           ],
           [
            0.4444444444444444,
            "#26828e"
           ],
           [
            0.5555555555555556,
            "#1f9e89"
           ],
           [
            0.6666666666666666,
            "#35b779"
           ],
           [
            0.7777777777777778,
            "#6ece58"
           ],
           [
            0.8888888888888888,
            "#b5de2b"
           ],
           [
            1,
            "#fde725"
           ]
          ],
          "size": 4
         },
         "showlegend": false,
         "type": "scatter3d",
         "x": [
          -2.169994592666626,
          -0.595085620880127
         ],
         "y": [
          0.207540363073349,
          -0.5556161999702454
         ],
         "z": [
          -0.504804790019989,
          4.178916931152344
         ]
        },
        {
         "line": {
          "color": "rgb(255, 0, 0)",
          "width": 10
         },
         "marker": {
          "color": "rgb(255, 0, 0)",
          "colorscale": [
           [
            0,
            "#440154"
           ],
           [
            0.1111111111111111,
            "#482878"
           ],
           [
            0.2222222222222222,
            "#3e4989"
           ],
           [
            0.3333333333333333,
            "#31688e"
           ],
           [
            0.4444444444444444,
            "#26828e"
           ],
           [
            0.5555555555555556,
            "#1f9e89"
           ],
           [
            0.6666666666666666,
            "#35b779"
           ],
           [
            0.7777777777777778,
            "#6ece58"
           ],
           [
            0.8888888888888888,
            "#b5de2b"
           ],
           [
            1,
            "#fde725"
           ]
          ],
          "size": 4
         },
         "showlegend": false,
         "type": "scatter3d",
         "x": [
          -1.3905425071716309,
          -5.713432788848877
         ],
         "y": [
          0.46384674310684204,
          1.5310873985290527
         ],
         "z": [
          -0.5948560237884521,
          1.6797022819519043
         ]
        },
        {
         "line": {
          "color": "rgb(255, 0, 0)",
          "width": 10
         },
         "marker": {
          "color": "rgb(255, 0, 0)",
          "colorscale": [
           [
            0,
            "#440154"
           ],
           [
            0.1111111111111111,
            "#482878"
           ],
           [
            0.2222222222222222,
            "#3e4989"
           ],
           [
            0.3333333333333333,
            "#31688e"
           ],
           [
            0.4444444444444444,
            "#26828e"
           ],
           [
            0.5555555555555556,
            "#1f9e89"
           ],
           [
            0.6666666666666666,
            "#35b779"
           ],
           [
            0.7777777777777778,
            "#6ece58"
           ],
           [
            0.8888888888888888,
            "#b5de2b"
           ],
           [
            1,
            "#fde725"
           ]
          ],
          "size": 4
         },
         "showlegend": false,
         "type": "scatter3d",
         "x": [
          3.6305694580078125,
          -1.0395116806030273
         ],
         "y": [
          -0.25658655166625977,
          0.27486538887023926
         ],
         "z": [
          2.043027400970459,
          3.748284339904785
         ]
        },
        {
         "line": {
          "color": "rgb(255, 0, 0)",
          "width": 10
         },
         "marker": {
          "color": "rgb(255, 0, 0)",
          "colorscale": [
           [
            0,
            "#440154"
           ],
           [
            0.1111111111111111,
            "#482878"
           ],
           [
            0.2222222222222222,
            "#3e4989"
           ],
           [
            0.3333333333333333,
            "#31688e"
           ],
           [
            0.4444444444444444,
            "#26828e"
           ],
           [
            0.5555555555555556,
            "#1f9e89"
           ],
           [
            0.6666666666666666,
            "#35b779"
           ],
           [
            0.7777777777777778,
            "#6ece58"
           ],
           [
            0.8888888888888888,
            "#b5de2b"
           ],
           [
            1,
            "#fde725"
           ]
          ],
          "size": 4
         },
         "showlegend": false,
         "type": "scatter3d",
         "x": [
          0.11006754636764526,
          -3.2645742893218994
         ],
         "y": [
          0.4392663836479187,
          1.8720091581344604
         ],
         "z": [
          -1.0912129878997803,
          2.3086462020874023
         ]
        },
        {
         "line": {
          "color": "rgb(255, 0, 0)",
          "width": 10
         },
         "marker": {
          "color": "rgb(255, 0, 0)",
          "colorscale": [
           [
            0,
            "#440154"
           ],
           [
            0.1111111111111111,
            "#482878"
           ],
           [
            0.2222222222222222,
            "#3e4989"
           ],
           [
            0.3333333333333333,
            "#31688e"
           ],
           [
            0.4444444444444444,
            "#26828e"
           ],
           [
            0.5555555555555556,
            "#1f9e89"
           ],
           [
            0.6666666666666666,
            "#35b779"
           ],
           [
            0.7777777777777778,
            "#6ece58"
           ],
           [
            0.8888888888888888,
            "#b5de2b"
           ],
           [
            1,
            "#fde725"
           ]
          ],
          "size": 4
         },
         "showlegend": false,
         "type": "scatter3d",
         "x": [
          3.754448413848877,
          3.525834083557129
         ],
         "y": [
          -0.1677413433790207,
          -0.636729896068573
         ],
         "z": [
          0.8106664419174194,
          5.783370494842529
         ]
        },
        {
         "line": {
          "color": "rgb(255, 0, 0)",
          "width": 10
         },
         "marker": {
          "color": "rgb(255, 0, 0)",
          "colorscale": [
           [
            0,
            "#440154"
           ],
           [
            0.1111111111111111,
            "#482878"
           ],
           [
            0.2222222222222222,
            "#3e4989"
           ],
           [
            0.3333333333333333,
            "#31688e"
           ],
           [
            0.4444444444444444,
            "#26828e"
           ],
           [
            0.5555555555555556,
            "#1f9e89"
           ],
           [
            0.6666666666666666,
            "#35b779"
           ],
           [
            0.7777777777777778,
            "#6ece58"
           ],
           [
            0.8888888888888888,
            "#b5de2b"
           ],
           [
            1,
            "#fde725"
           ]
          ],
          "size": 4
         },
         "showlegend": false,
         "type": "scatter3d",
         "x": [
          -1.4045445919036865,
          0.0041817426681518555
         ],
         "y": [
          0.3239462375640869,
          0.6476130485534668
         ],
         "z": [
          -0.2118104100227356,
          4.574705123901367
         ]
        },
        {
         "line": {
          "color": "rgb(255, 0, 0)",
          "width": 10
         },
         "marker": {
          "color": "rgb(255, 0, 0)",
          "colorscale": [
           [
            0,
            "#440154"
           ],
           [
            0.1111111111111111,
            "#482878"
           ],
           [
            0.2222222222222222,
            "#3e4989"
           ],
           [
            0.3333333333333333,
            "#31688e"
           ],
           [
            0.4444444444444444,
            "#26828e"
           ],
           [
            0.5555555555555556,
            "#1f9e89"
           ],
           [
            0.6666666666666666,
            "#35b779"
           ],
           [
            0.7777777777777778,
            "#6ece58"
           ],
           [
            0.8888888888888888,
            "#b5de2b"
           ],
           [
            1,
            "#fde725"
           ]
          ],
          "size": 4
         },
         "showlegend": false,
         "type": "scatter3d",
         "x": [
          3.2817296981811523,
          0.5997436046600342
         ],
         "y": [
          -0.0893968790769577,
          0.10978914797306061
         ],
         "z": [
          0.8482325673103333,
          5.063357353210449
         ]
        },
        {
         "line": {
          "color": "rgb(255, 0, 0)",
          "width": 10
         },
         "marker": {
          "color": "rgb(255, 0, 0)",
          "colorscale": [
           [
            0,
            "#440154"
           ],
           [
            0.1111111111111111,
            "#482878"
           ],
           [
            0.2222222222222222,
            "#3e4989"
           ],
           [
            0.3333333333333333,
            "#31688e"
           ],
           [
            0.4444444444444444,
            "#26828e"
           ],
           [
            0.5555555555555556,
            "#1f9e89"
           ],
           [
            0.6666666666666666,
            "#35b779"
           ],
           [
            0.7777777777777778,
            "#6ece58"
           ],
           [
            0.8888888888888888,
            "#b5de2b"
           ],
           [
            1,
            "#fde725"
           ]
          ],
          "size": 4
         },
         "showlegend": false,
         "type": "scatter3d",
         "x": [
          -0.022557556629180908,
          -4.060324668884277
         ],
         "y": [
          0.1366623491048813,
          0.056385040283203125
         ],
         "z": [
          -1.1816089153289795,
          1.7662702798843384
         ]
        },
        {
         "line": {
          "color": "rgb(255, 0, 0)",
          "width": 10
         },
         "marker": {
          "color": "rgb(255, 0, 0)",
          "colorscale": [
           [
            0,
            "#440154"
           ],
           [
            0.1111111111111111,
            "#482878"
           ],
           [
            0.2222222222222222,
            "#3e4989"
           ],
           [
            0.3333333333333333,
            "#31688e"
           ],
           [
            0.4444444444444444,
            "#26828e"
           ],
           [
            0.5555555555555556,
            "#1f9e89"
           ],
           [
            0.6666666666666666,
            "#35b779"
           ],
           [
            0.7777777777777778,
            "#6ece58"
           ],
           [
            0.8888888888888888,
            "#b5de2b"
           ],
           [
            1,
            "#fde725"
           ]
          ],
          "size": 4
         },
         "showlegend": false,
         "type": "scatter3d",
         "x": [
          3.468932628631592,
          1.722961187362671
         ],
         "y": [
          -0.27083683013916016,
          -0.9788504242897034
         ],
         "z": [
          0.9314969182014465,
          5.562943458557129
         ]
        },
        {
         "line": {
          "color": "rgb(255, 0, 0)",
          "width": 10
         },
         "marker": {
          "color": "rgb(255, 0, 0)",
          "colorscale": [
           [
            0,
            "#440154"
           ],
           [
            0.1111111111111111,
            "#482878"
           ],
           [
            0.2222222222222222,
            "#3e4989"
           ],
           [
            0.3333333333333333,
            "#31688e"
           ],
           [
            0.4444444444444444,
            "#26828e"
           ],
           [
            0.5555555555555556,
            "#1f9e89"
           ],
           [
            0.6666666666666666,
            "#35b779"
           ],
           [
            0.7777777777777778,
            "#6ece58"
           ],
           [
            0.8888888888888888,
            "#b5de2b"
           ],
           [
            1,
            "#fde725"
           ]
          ],
          "size": 4
         },
         "showlegend": false,
         "type": "scatter3d",
         "x": [
          -2.337939739227295,
          -1.6027568578720093
         ],
         "y": [
          0.19729743897914886,
          -0.6170737743377686
         ],
         "z": [
          -0.46591997146606445,
          4.412225723266602
         ]
        },
        {
         "line": {
          "color": "rgb(255, 0, 0)",
          "width": 10
         },
         "marker": {
          "color": "rgb(255, 0, 0)",
          "colorscale": [
           [
            0,
            "#440154"
           ],
           [
            0.1111111111111111,
            "#482878"
           ],
           [
            0.2222222222222222,
            "#3e4989"
           ],
           [
            0.3333333333333333,
            "#31688e"
           ],
           [
            0.4444444444444444,
            "#26828e"
           ],
           [
            0.5555555555555556,
            "#1f9e89"
           ],
           [
            0.6666666666666666,
            "#35b779"
           ],
           [
            0.7777777777777778,
            "#6ece58"
           ],
           [
            0.8888888888888888,
            "#b5de2b"
           ],
           [
            1,
            "#fde725"
           ]
          ],
          "size": 4
         },
         "showlegend": false,
         "type": "scatter3d",
         "x": [
          2.0077943801879883,
          -1.5215578079223633
         ],
         "y": [
          0.2605786919593811,
          1.545723557472229
         ],
         "z": [
          0.4338332414627075,
          3.734147071838379
         ]
        },
        {
         "line": {
          "color": "rgb(255, 0, 0)",
          "width": 10
         },
         "marker": {
          "color": "rgb(255, 0, 0)",
          "colorscale": [
           [
            0,
            "#440154"
           ],
           [
            0.1111111111111111,
            "#482878"
           ],
           [
            0.2222222222222222,
            "#3e4989"
           ],
           [
            0.3333333333333333,
            "#31688e"
           ],
           [
            0.4444444444444444,
            "#26828e"
           ],
           [
            0.5555555555555556,
            "#1f9e89"
           ],
           [
            0.6666666666666666,
            "#35b779"
           ],
           [
            0.7777777777777778,
            "#6ece58"
           ],
           [
            0.8888888888888888,
            "#b5de2b"
           ],
           [
            1,
            "#fde725"
           ]
          ],
          "size": 4
         },
         "showlegend": false,
         "type": "scatter3d",
         "x": [
          -1.438315987586975,
          -6.000073432922363
         ],
         "y": [
          0.22751906514167786,
          0.11312155425548553
         ],
         "z": [
          -0.640999972820282,
          1.402838945388794
         ]
        },
        {
         "line": {
          "color": "rgb(255, 0, 0)",
          "width": 10
         },
         "marker": {
          "color": "rgb(255, 0, 0)",
          "colorscale": [
           [
            0,
            "#440154"
           ],
           [
            0.1111111111111111,
            "#482878"
           ],
           [
            0.2222222222222222,
            "#3e4989"
           ],
           [
            0.3333333333333333,
            "#31688e"
           ],
           [
            0.4444444444444444,
            "#26828e"
           ],
           [
            0.5555555555555556,
            "#1f9e89"
           ],
           [
            0.6666666666666666,
            "#35b779"
           ],
           [
            0.7777777777777778,
            "#6ece58"
           ],
           [
            0.8888888888888888,
            "#b5de2b"
           ],
           [
            1,
            "#fde725"
           ]
          ],
          "size": 4
         },
         "showlegend": false,
         "type": "scatter3d",
         "x": [
          3.6671810150146484,
          -0.8198413848876953
         ],
         "y": [
          -0.33984634280204773,
          -0.22469331324100494
         ],
         "z": [
          2.1425833702087402,
          4.345620155334473
         ]
        },
        {
         "line": {
          "color": "rgb(255, 0, 0)",
          "width": 10
         },
         "marker": {
          "color": "rgb(255, 0, 0)",
          "colorscale": [
           [
            0,
            "#440154"
           ],
           [
            0.1111111111111111,
            "#482878"
           ],
           [
            0.2222222222222222,
            "#3e4989"
           ],
           [
            0.3333333333333333,
            "#31688e"
           ],
           [
            0.4444444444444444,
            "#26828e"
           ],
           [
            0.5555555555555556,
            "#1f9e89"
           ],
           [
            0.6666666666666666,
            "#35b779"
           ],
           [
            0.7777777777777778,
            "#6ece58"
           ],
           [
            0.8888888888888888,
            "#b5de2b"
           ],
           [
            1,
            "#fde725"
           ]
          ],
          "size": 4
         },
         "showlegend": false,
         "type": "scatter3d",
         "x": [
          3.5932860374450684,
          -1.263211727142334
         ],
         "y": [
          -0.23982523381710052,
          0.37543338537216187
         ],
         "z": [
          1.905532717704773,
          2.923316478729248
         ]
        },
        {
         "line": {
          "color": "rgb(255, 0, 0)",
          "width": 10
         },
         "marker": {
          "color": "rgb(255, 0, 0)",
          "colorscale": [
           [
            0,
            "#440154"
           ],
           [
            0.1111111111111111,
            "#482878"
           ],
           [
            0.2222222222222222,
            "#3e4989"
           ],
           [
            0.3333333333333333,
            "#31688e"
           ],
           [
            0.4444444444444444,
            "#26828e"
           ],
           [
            0.5555555555555556,
            "#1f9e89"
           ],
           [
            0.6666666666666666,
            "#35b779"
           ],
           [
            0.7777777777777778,
            "#6ece58"
           ],
           [
            0.8888888888888888,
            "#b5de2b"
           ],
           [
            1,
            "#fde725"
           ]
          ],
          "size": 4
         },
         "showlegend": false,
         "type": "scatter3d",
         "x": [
          -0.8573349714279175,
          -2.5141875743865967
         ],
         "y": [
          0.24129177629947662,
          0.19575780630111694
         ],
         "z": [
          -0.10631096363067627,
          4.610973358154297
         ]
        },
        {
         "line": {
          "color": "rgb(255, 0, 0)",
          "width": 10
         },
         "marker": {
          "color": "rgb(255, 0, 0)",
          "colorscale": [
           [
            0,
            "#440154"
           ],
           [
            0.1111111111111111,
            "#482878"
           ],
           [
            0.2222222222222222,
            "#3e4989"
           ],
           [
            0.3333333333333333,
            "#31688e"
           ],
           [
            0.4444444444444444,
            "#26828e"
           ],
           [
            0.5555555555555556,
            "#1f9e89"
           ],
           [
            0.6666666666666666,
            "#35b779"
           ],
           [
            0.7777777777777778,
            "#6ece58"
           ],
           [
            0.8888888888888888,
            "#b5de2b"
           ],
           [
            1,
            "#fde725"
           ]
          ],
          "size": 4
         },
         "showlegend": false,
         "type": "scatter3d",
         "x": [
          0.19062435626983643,
          -2.781233072280884
         ],
         "y": [
          0.44794464111328125,
          1.9240787029266357
         ],
         "z": [
          -1.0231449604034424,
          2.7170543670654297
         ]
        },
        {
         "line": {
          "color": "rgb(255, 0, 0)",
          "width": 10
         },
         "marker": {
          "color": "rgb(255, 0, 0)",
          "colorscale": [
           [
            0,
            "#440154"
           ],
           [
            0.1111111111111111,
            "#482878"
           ],
           [
            0.2222222222222222,
            "#3e4989"
           ],
           [
            0.3333333333333333,
            "#31688e"
           ],
           [
            0.4444444444444444,
            "#26828e"
           ],
           [
            0.5555555555555556,
            "#1f9e89"
           ],
           [
            0.6666666666666666,
            "#35b779"
           ],
           [
            0.7777777777777778,
            "#6ece58"
           ],
           [
            0.8888888888888888,
            "#b5de2b"
           ],
           [
            1,
            "#fde725"
           ]
          ],
          "size": 4
         },
         "showlegend": false,
         "type": "scatter3d",
         "x": [
          1.9099631309509277,
          -2.108546257019043
         ],
         "y": [
          0.0628596842288971,
          0.3594095706939697
         ],
         "z": [
          0.36583930253982544,
          3.326183319091797
         ]
        },
        {
         "line": {
          "color": "rgb(255, 0, 0)",
          "width": 10
         },
         "marker": {
          "color": "rgb(255, 0, 0)",
          "colorscale": [
           [
            0,
            "#440154"
           ],
           [
            0.1111111111111111,
            "#482878"
           ],
           [
            0.2222222222222222,
            "#3e4989"
           ],
           [
            0.3333333333333333,
            "#31688e"
           ],
           [
            0.4444444444444444,
            "#26828e"
           ],
           [
            0.5555555555555556,
            "#1f9e89"
           ],
           [
            0.6666666666666666,
            "#35b779"
           ],
           [
            0.7777777777777778,
            "#6ece58"
           ],
           [
            0.8888888888888888,
            "#b5de2b"
           ],
           [
            1,
            "#fde725"
           ]
          ],
          "size": 4
         },
         "showlegend": false,
         "type": "scatter3d",
         "x": [
          -1.9905409812927246,
          0.48163509368896484
         ],
         "y": [
          0.1887534111738205,
          -0.6683379411697388
         ],
         "z": [
          -0.5894051194190979,
          3.6713151931762695
         ]
        },
        {
         "line": {
          "color": "rgb(255, 0, 0)",
          "width": 10
         },
         "marker": {
          "color": "rgb(255, 0, 0)",
          "colorscale": [
           [
            0,
            "#440154"
           ],
           [
            0.1111111111111111,
            "#482878"
           ],
           [
            0.2222222222222222,
            "#3e4989"
           ],
           [
            0.3333333333333333,
            "#31688e"
           ],
           [
            0.4444444444444444,
            "#26828e"
           ],
           [
            0.5555555555555556,
            "#1f9e89"
           ],
           [
            0.6666666666666666,
            "#35b779"
           ],
           [
            0.7777777777777778,
            "#6ece58"
           ],
           [
            0.8888888888888888,
            "#b5de2b"
           ],
           [
            1,
            "#fde725"
           ]
          ],
          "size": 4
         },
         "showlegend": false,
         "type": "scatter3d",
         "x": [
          3.873030662536621,
          4.237328052520752
         ],
         "y": [
          -0.2838485836982727,
          -1.3333733081817627
         ],
         "z": [
          0.7911288738250732,
          5.666145324707031
         ]
        },
        {
         "line": {
          "color": "rgb(255, 0, 0)",
          "width": 10
         },
         "marker": {
          "color": "rgb(255, 0, 0)",
          "colorscale": [
           [
            0,
            "#440154"
           ],
           [
            0.1111111111111111,
            "#482878"
           ],
           [
            0.2222222222222222,
            "#3e4989"
           ],
           [
            0.3333333333333333,
            "#31688e"
           ],
           [
            0.4444444444444444,
            "#26828e"
           ],
           [
            0.5555555555555556,
            "#1f9e89"
           ],
           [
            0.6666666666666666,
            "#35b779"
           ],
           [
            0.7777777777777778,
            "#6ece58"
           ],
           [
            0.8888888888888888,
            "#b5de2b"
           ],
           [
            1,
            "#fde725"
           ]
          ],
          "size": 4
         },
         "showlegend": false,
         "type": "scatter3d",
         "x": [
          3.4635465145111084,
          1.6906442642211914
         ],
         "y": [
          -0.3338582515716553,
          -1.3569790124893188
         ],
         "z": [
          0.9175681471824646,
          5.479370594024658
         ]
        },
        {
         "line": {
          "color": "rgb(255, 0, 0)",
          "width": 10
         },
         "marker": {
          "color": "rgb(255, 0, 0)",
          "colorscale": [
           [
            0,
            "#440154"
           ],
           [
            0.1111111111111111,
            "#482878"
           ],
           [
            0.2222222222222222,
            "#3e4989"
           ],
           [
            0.3333333333333333,
            "#31688e"
           ],
           [
            0.4444444444444444,
            "#26828e"
           ],
           [
            0.5555555555555556,
            "#1f9e89"
           ],
           [
            0.6666666666666666,
            "#35b779"
           ],
           [
            0.7777777777777778,
            "#6ece58"
           ],
           [
            0.8888888888888888,
            "#b5de2b"
           ],
           [
            1,
            "#fde725"
           ]
          ],
          "size": 4
         },
         "showlegend": false,
         "type": "scatter3d",
         "x": [
          2.3071346282958984,
          0.27448320388793945
         ],
         "y": [
          0.05379800125956535,
          0.3050394356250763
         ],
         "z": [
          0.6860249638557434,
          5.247297286987305
         ]
        },
        {
         "line": {
          "color": "rgb(255, 0, 0)",
          "width": 10
         },
         "marker": {
          "color": "rgb(255, 0, 0)",
          "colorscale": [
           [
            0,
            "#440154"
           ],
           [
            0.1111111111111111,
            "#482878"
           ],
           [
            0.2222222222222222,
            "#3e4989"
           ],
           [
            0.3333333333333333,
            "#31688e"
           ],
           [
            0.4444444444444444,
            "#26828e"
           ],
           [
            0.5555555555555556,
            "#1f9e89"
           ],
           [
            0.6666666666666666,
            "#35b779"
           ],
           [
            0.7777777777777778,
            "#6ece58"
           ],
           [
            0.8888888888888888,
            "#b5de2b"
           ],
           [
            1,
            "#fde725"
           ]
          ],
          "size": 4
         },
         "showlegend": false,
         "type": "scatter3d",
         "x": [
          3.718177080154419,
          -0.5138654708862305
         ],
         "y": [
          -0.2566904127597809,
          0.2742422819137573
         ],
         "z": [
          2.22381591796875,
          4.8330159187316895
         ]
        },
        {
         "line": {
          "color": "rgb(255, 0, 0)",
          "width": 10
         },
         "marker": {
          "color": "rgb(255, 0, 0)",
          "colorscale": [
           [
            0,
            "#440154"
           ],
           [
            0.1111111111111111,
            "#482878"
           ],
           [
            0.2222222222222222,
            "#3e4989"
           ],
           [
            0.3333333333333333,
            "#31688e"
           ],
           [
            0.4444444444444444,
            "#26828e"
           ],
           [
            0.5555555555555556,
            "#1f9e89"
           ],
           [
            0.6666666666666666,
            "#35b779"
           ],
           [
            0.7777777777777778,
            "#6ece58"
           ],
           [
            0.8888888888888888,
            "#b5de2b"
           ],
           [
            1,
            "#fde725"
           ]
          ],
          "size": 4
         },
         "showlegend": false,
         "type": "scatter3d",
         "x": [
          3.96914005279541,
          4.813983917236328
         ],
         "y": [
          0.11297598481178284,
          1.0475740432739258
         ],
         "z": [
          0.7838603854179382,
          5.622534275054932
         ]
        },
        {
         "line": {
          "color": "rgb(255, 0, 0)",
          "width": 10
         },
         "marker": {
          "color": "rgb(255, 0, 0)",
          "colorscale": [
           [
            0,
            "#440154"
           ],
           [
            0.1111111111111111,
            "#482878"
           ],
           [
            0.2222222222222222,
            "#3e4989"
           ],
           [
            0.3333333333333333,
            "#31688e"
           ],
           [
            0.4444444444444444,
            "#26828e"
           ],
           [
            0.5555555555555556,
            "#1f9e89"
           ],
           [
            0.6666666666666666,
            "#35b779"
           ],
           [
            0.7777777777777778,
            "#6ece58"
           ],
           [
            0.8888888888888888,
            "#b5de2b"
           ],
           [
            1,
            "#fde725"
           ]
          ],
          "size": 4
         },
         "showlegend": false,
         "type": "scatter3d",
         "x": [
          3.655548095703125,
          2.9324331283569336
         ],
         "y": [
          -0.068553626537323,
          -0.04160361364483833
         ],
         "z": [
          0.805597722530365,
          5.752958297729492
         ]
        },
        {
         "line": {
          "color": "rgb(255, 0, 0)",
          "width": 10
         },
         "marker": {
          "color": "rgb(255, 0, 0)",
          "colorscale": [
           [
            0,
            "#440154"
           ],
           [
            0.1111111111111111,
            "#482878"
           ],
           [
            0.2222222222222222,
            "#3e4989"
           ],
           [
            0.3333333333333333,
            "#31688e"
           ],
           [
            0.4444444444444444,
            "#26828e"
           ],
           [
            0.5555555555555556,
            "#1f9e89"
           ],
           [
            0.6666666666666666,
            "#35b779"
           ],
           [
            0.7777777777777778,
            "#6ece58"
           ],
           [
            0.8888888888888888,
            "#b5de2b"
           ],
           [
            1,
            "#fde725"
           ]
          ],
          "size": 4
         },
         "showlegend": false,
         "type": "scatter3d",
         "x": [
          2.079613447189331,
          -1.0906438827514648
         ],
         "y": [
          0.1339007318019867,
          0.7856558561325073
         ],
         "z": [
          0.5359956622123718,
          4.347121715545654
         ]
        },
        {
         "line": {
          "color": "rgb(255, 0, 0)",
          "width": 10
         },
         "marker": {
          "color": "rgb(255, 0, 0)",
          "colorscale": [
           [
            0,
            "#440154"
           ],
           [
            0.1111111111111111,
            "#482878"
           ],
           [
            0.2222222222222222,
            "#3e4989"
           ],
           [
            0.3333333333333333,
            "#31688e"
           ],
           [
            0.4444444444444444,
            "#26828e"
           ],
           [
            0.5555555555555556,
            "#1f9e89"
           ],
           [
            0.6666666666666666,
            "#35b779"
           ],
           [
            0.7777777777777778,
            "#6ece58"
           ],
           [
            0.8888888888888888,
            "#b5de2b"
           ],
           [
            1,
            "#fde725"
           ]
          ],
          "size": 4
         },
         "showlegend": false,
         "type": "scatter3d",
         "x": [
          -1.4136720895767212,
          -5.85221004486084
         ],
         "y": [
          0.06954985857009888,
          -0.8346937298774719
         ],
         "z": [
          -0.6263661980628967,
          1.4906413555145264
         ]
        },
        {
         "line": {
          "color": "rgb(255, 0, 0)",
          "width": 10
         },
         "marker": {
          "color": "rgb(255, 0, 0)",
          "colorscale": [
           [
            0,
            "#440154"
           ],
           [
            0.1111111111111111,
            "#482878"
           ],
           [
            0.2222222222222222,
            "#3e4989"
           ],
           [
            0.3333333333333333,
            "#31688e"
           ],
           [
            0.4444444444444444,
            "#26828e"
           ],
           [
            0.5555555555555556,
            "#1f9e89"
           ],
           [
            0.6666666666666666,
            "#35b779"
           ],
           [
            0.7777777777777778,
            "#6ece58"
           ],
           [
            0.8888888888888888,
            "#b5de2b"
           ],
           [
            1,
            "#fde725"
           ]
          ],
          "size": 4
         },
         "showlegend": false,
         "type": "scatter3d",
         "x": [
          3.4549055099487305,
          1.6387989521026611
         ],
         "y": [
          -0.1411500871181488,
          -0.20073005557060242
         ],
         "z": [
          0.9368342161178589,
          5.594967365264893
         ]
        },
        {
         "line": {
          "color": "rgb(255, 0, 0)",
          "width": 10
         },
         "marker": {
          "color": "rgb(255, 0, 0)",
          "colorscale": [
           [
            0,
            "#440154"
           ],
           [
            0.1111111111111111,
            "#482878"
           ],
           [
            0.2222222222222222,
            "#3e4989"
           ],
           [
            0.3333333333333333,
            "#31688e"
           ],
           [
            0.4444444444444444,
            "#26828e"
           ],
           [
            0.5555555555555556,
            "#1f9e89"
           ],
           [
            0.6666666666666666,
            "#35b779"
           ],
           [
            0.7777777777777778,
            "#6ece58"
           ],
           [
            0.8888888888888888,
            "#b5de2b"
           ],
           [
            1,
            "#fde725"
           ]
          ],
          "size": 4
         },
         "showlegend": false,
         "type": "scatter3d",
         "x": [
          3.3416547775268555,
          0.9592933654785156
         ],
         "y": [
          -0.15238726139068604,
          -0.2681530714035034
         ],
         "z": [
          0.8840922117233276,
          5.278515338897705
         ]
        },
        {
         "line": {
          "color": "rgb(255, 0, 0)",
          "width": 10
         },
         "marker": {
          "color": "rgb(255, 0, 0)",
          "colorscale": [
           [
            0,
            "#440154"
           ],
           [
            0.1111111111111111,
            "#482878"
           ],
           [
            0.2222222222222222,
            "#3e4989"
           ],
           [
            0.3333333333333333,
            "#31688e"
           ],
           [
            0.4444444444444444,
            "#26828e"
           ],
           [
            0.5555555555555556,
            "#1f9e89"
           ],
           [
            0.6666666666666666,
            "#35b779"
           ],
           [
            0.7777777777777778,
            "#6ece58"
           ],
           [
            0.8888888888888888,
            "#b5de2b"
           ],
           [
            1,
            "#fde725"
           ]
          ],
          "size": 4
         },
         "showlegend": false,
         "type": "scatter3d",
         "x": [
          0.15483307838439941,
          -2.995980978012085
         ],
         "y": [
          0.35909318923950195,
          1.39096999168396
         ],
         "z": [
          -1.0226502418518066,
          2.720022201538086
         ]
        },
        {
         "line": {
          "color": "rgb(255, 0, 0)",
          "width": 10
         },
         "marker": {
          "color": "rgb(255, 0, 0)",
          "colorscale": [
           [
            0,
            "#440154"
           ],
           [
            0.1111111111111111,
            "#482878"
           ],
           [
            0.2222222222222222,
            "#3e4989"
           ],
           [
            0.3333333333333333,
            "#31688e"
           ],
           [
            0.4444444444444444,
            "#26828e"
           ],
           [
            0.5555555555555556,
            "#1f9e89"
           ],
           [
            0.6666666666666666,
            "#35b779"
           ],
           [
            0.7777777777777778,
            "#6ece58"
           ],
           [
            0.8888888888888888,
            "#b5de2b"
           ],
           [
            1,
            "#fde725"
           ]
          ],
          "size": 4
         },
         "showlegend": false,
         "type": "scatter3d",
         "x": [
          -1.6473461389541626,
          -1.4526278972625732
         ],
         "y": [
          0.2984682321548462,
          0.49474504590034485
         ],
         "z": [
          -0.17064350843429565,
          4.821706295013428
         ]
        },
        {
         "line": {
          "color": "rgb(255, 0, 0)",
          "width": 10
         },
         "marker": {
          "color": "rgb(255, 0, 0)",
          "colorscale": [
           [
            0,
            "#440154"
           ],
           [
            0.1111111111111111,
            "#482878"
           ],
           [
            0.2222222222222222,
            "#3e4989"
           ],
           [
            0.3333333333333333,
            "#31688e"
           ],
           [
            0.4444444444444444,
            "#26828e"
           ],
           [
            0.5555555555555556,
            "#1f9e89"
           ],
           [
            0.6666666666666666,
            "#35b779"
           ],
           [
            0.7777777777777778,
            "#6ece58"
           ],
           [
            0.8888888888888888,
            "#b5de2b"
           ],
           [
            1,
            "#fde725"
           ]
          ],
          "size": 4
         },
         "showlegend": false,
         "type": "scatter3d",
         "x": [
          3.279736042022705,
          0.5877823829650879
         ],
         "y": [
          -0.2737683057785034,
          -0.9964392781257629
         ],
         "z": [
          0.8354156017303467,
          4.98645544052124
         ]
        },
        {
         "line": {
          "color": "rgb(255, 0, 0)",
          "width": 10
         },
         "marker": {
          "color": "rgb(255, 0, 0)",
          "colorscale": [
           [
            0,
            "#440154"
           ],
           [
            0.1111111111111111,
            "#482878"
           ],
           [
            0.2222222222222222,
            "#3e4989"
           ],
           [
            0.3333333333333333,
            "#31688e"
           ],
           [
            0.4444444444444444,
            "#26828e"
           ],
           [
            0.5555555555555556,
            "#1f9e89"
           ],
           [
            0.6666666666666666,
            "#35b779"
           ],
           [
            0.7777777777777778,
            "#6ece58"
           ],
           [
            0.8888888888888888,
            "#b5de2b"
           ],
           [
            1,
            "#fde725"
           ]
          ],
          "size": 4
         },
         "showlegend": false,
         "type": "scatter3d",
         "x": [
          -2.381643056869507,
          -1.8649775981903076
         ],
         "y": [
          0.28804510831832886,
          -0.07258772850036621
         ],
         "z": [
          -0.44952094554901123,
          4.5106201171875
         ]
        },
        {
         "line": {
          "color": "rgb(255, 0, 0)",
          "width": 10
         },
         "marker": {
          "color": "rgb(255, 0, 0)",
          "colorscale": [
           [
            0,
            "#440154"
           ],
           [
            0.1111111111111111,
            "#482878"
           ],
           [
            0.2222222222222222,
            "#3e4989"
           ],
           [
            0.3333333333333333,
            "#31688e"
           ],
           [
            0.4444444444444444,
            "#26828e"
           ],
           [
            0.5555555555555556,
            "#1f9e89"
           ],
           [
            0.6666666666666666,
            "#35b779"
           ],
           [
            0.7777777777777778,
            "#6ece58"
           ],
           [
            0.8888888888888888,
            "#b5de2b"
           ],
           [
            1,
            "#fde725"
           ]
          ],
          "size": 4
         },
         "showlegend": false,
         "type": "scatter3d",
         "x": [
          -1.6428682804107666,
          -1.4257608652114868
         ],
         "y": [
          0.308014839887619,
          0.5520246028900146
         ],
         "z": [
          -0.17124927043914795,
          4.8180718421936035
         ]
        },
        {
         "line": {
          "color": "rgb(255, 0, 0)",
          "width": 10
         },
         "marker": {
          "color": "rgb(255, 0, 0)",
          "colorscale": [
           [
            0,
            "#440154"
           ],
           [
            0.1111111111111111,
            "#482878"
           ],
           [
            0.2222222222222222,
            "#3e4989"
           ],
           [
            0.3333333333333333,
            "#31688e"
           ],
           [
            0.4444444444444444,
            "#26828e"
           ],
           [
            0.5555555555555556,
            "#1f9e89"
           ],
           [
            0.6666666666666666,
            "#35b779"
           ],
           [
            0.7777777777777778,
            "#6ece58"
           ],
           [
            0.8888888888888888,
            "#b5de2b"
           ],
           [
            1,
            "#fde725"
           ]
          ],
          "size": 4
         },
         "showlegend": false,
         "type": "scatter3d",
         "x": [
          4.090513229370117,
          5.542224884033203
         ],
         "y": [
          -0.15836885571479797,
          -0.5804949998855591
         ],
         "z": [
          0.7693169713020325,
          5.535274028778076
         ]
        },
        {
         "line": {
          "color": "rgb(255, 0, 0)",
          "width": 10
         },
         "marker": {
          "color": "rgb(255, 0, 0)",
          "colorscale": [
           [
            0,
            "#440154"
           ],
           [
            0.1111111111111111,
            "#482878"
           ],
           [
            0.2222222222222222,
            "#3e4989"
           ],
           [
            0.3333333333333333,
            "#31688e"
           ],
           [
            0.4444444444444444,
            "#26828e"
           ],
           [
            0.5555555555555556,
            "#1f9e89"
           ],
           [
            0.6666666666666666,
            "#35b779"
           ],
           [
            0.7777777777777778,
            "#6ece58"
           ],
           [
            0.8888888888888888,
            "#b5de2b"
           ],
           [
            1,
            "#fde725"
           ]
          ],
          "size": 4
         },
         "showlegend": false,
         "type": "scatter3d",
         "x": [
          2.0521111488342285,
          -1.255657434463501
         ],
         "y": [
          -0.14290766417980194,
          -0.8751945495605469
         ],
         "z": [
          0.5092273950576782,
          4.186511993408203
         ]
        },
        {
         "line": {
          "color": "rgb(255, 0, 0)",
          "width": 10
         },
         "marker": {
          "color": "rgb(255, 0, 0)",
          "colorscale": [
           [
            0,
            "#440154"
           ],
           [
            0.1111111111111111,
            "#482878"
           ],
           [
            0.2222222222222222,
            "#3e4989"
           ],
           [
            0.3333333333333333,
            "#31688e"
           ],
           [
            0.4444444444444444,
            "#26828e"
           ],
           [
            0.5555555555555556,
            "#1f9e89"
           ],
           [
            0.6666666666666666,
            "#35b779"
           ],
           [
            0.7777777777777778,
            "#6ece58"
           ],
           [
            0.8888888888888888,
            "#b5de2b"
           ],
           [
            1,
            "#fde725"
           ]
          ],
          "size": 4
         },
         "showlegend": false,
         "type": "scatter3d",
         "x": [
          3.5785117149353027,
          2.3804357051849365
         ],
         "y": [
          -0.1176733449101448,
          -0.05986960232257843
         ],
         "z": [
          0.9760066866874695,
          5.830002307891846
         ]
        },
        {
         "line": {
          "color": "rgb(255, 0, 0)",
          "width": 10
         },
         "marker": {
          "color": "rgb(255, 0, 0)",
          "colorscale": [
           [
            0,
            "#440154"
           ],
           [
            0.1111111111111111,
            "#482878"
           ],
           [
            0.2222222222222222,
            "#3e4989"
           ],
           [
            0.3333333333333333,
            "#31688e"
           ],
           [
            0.4444444444444444,
            "#26828e"
           ],
           [
            0.5555555555555556,
            "#1f9e89"
           ],
           [
            0.6666666666666666,
            "#35b779"
           ],
           [
            0.7777777777777778,
            "#6ece58"
           ],
           [
            0.8888888888888888,
            "#b5de2b"
           ],
           [
            1,
            "#fde725"
           ]
          ],
          "size": 4
         },
         "showlegend": false,
         "type": "scatter3d",
         "x": [
          3.39186429977417,
          1.3503296375274658
         ],
         "y": [
          0.08177639544010162,
          0.8603765368461609
         ],
         "z": [
          0.7155902981758118,
          5.212913990020752
         ]
        },
        {
         "line": {
          "color": "rgb(255, 0, 0)",
          "width": 10
         },
         "marker": {
          "color": "rgb(255, 0, 0)",
          "colorscale": [
           [
            0,
            "#440154"
           ],
           [
            0.1111111111111111,
            "#482878"
           ],
           [
            0.2222222222222222,
            "#3e4989"
           ],
           [
            0.3333333333333333,
            "#31688e"
           ],
           [
            0.4444444444444444,
            "#26828e"
           ],
           [
            0.5555555555555556,
            "#1f9e89"
           ],
           [
            0.6666666666666666,
            "#35b779"
           ],
           [
            0.7777777777777778,
            "#6ece58"
           ],
           [
            0.8888888888888888,
            "#b5de2b"
           ],
           [
            1,
            "#fde725"
           ]
          ],
          "size": 4
         },
         "showlegend": false,
         "type": "scatter3d",
         "x": [
          0.01409226655960083,
          -3.840425729751587
         ],
         "y": [
          0.3158668577671051,
          1.1316120624542236
         ],
         "z": [
          -1.1554818153381348,
          1.9230328798294067
         ]
        },
        {
         "line": {
          "color": "rgb(255, 0, 0)",
          "width": 10
         },
         "marker": {
          "color": "rgb(255, 0, 0)",
          "colorscale": [
           [
            0,
            "#440154"
           ],
           [
            0.1111111111111111,
            "#482878"
           ],
           [
            0.2222222222222222,
            "#3e4989"
           ],
           [
            0.3333333333333333,
            "#31688e"
           ],
           [
            0.4444444444444444,
            "#26828e"
           ],
           [
            0.5555555555555556,
            "#1f9e89"
           ],
           [
            0.6666666666666666,
            "#35b779"
           ],
           [
            0.7777777777777778,
            "#6ece58"
           ],
           [
            0.8888888888888888,
            "#b5de2b"
           ],
           [
            1,
            "#fde725"
           ]
          ],
          "size": 4
         },
         "showlegend": false,
         "type": "scatter3d",
         "x": [
          0.5420961976051331,
          -0.6724022030830383
         ],
         "y": [
          0.3546110689640045,
          1.3640773296356201
         ],
         "z": [
          -0.8223756551742554,
          3.9216699600219727
         ]
        },
        {
         "line": {
          "color": "rgb(255, 0, 0)",
          "width": 10
         },
         "marker": {
          "color": "rgb(255, 0, 0)",
          "colorscale": [
           [
            0,
            "#440154"
           ],
           [
            0.1111111111111111,
            "#482878"
           ],
           [
            0.2222222222222222,
            "#3e4989"
           ],
           [
            0.3333333333333333,
            "#31688e"
           ],
           [
            0.4444444444444444,
            "#26828e"
           ],
           [
            0.5555555555555556,
            "#1f9e89"
           ],
           [
            0.6666666666666666,
            "#35b779"
           ],
           [
            0.7777777777777778,
            "#6ece58"
           ],
           [
            0.8888888888888888,
            "#b5de2b"
           ],
           [
            1,
            "#fde725"
           ]
          ],
          "size": 4
         },
         "showlegend": false,
         "type": "scatter3d",
         "x": [
          3.580146551132202,
          -1.3420486450195312
         ],
         "y": [
          -0.19936804473400116,
          0.6181765198707581
         ],
         "z": [
          1.7663536071777344,
          2.0882420539855957
         ]
        },
        {
         "line": {
          "color": "rgb(255, 0, 0)",
          "width": 10
         },
         "marker": {
          "color": "rgb(255, 0, 0)",
          "colorscale": [
           [
            0,
            "#440154"
           ],
           [
            0.1111111111111111,
            "#482878"
           ],
           [
            0.2222222222222222,
            "#3e4989"
           ],
           [
            0.3333333333333333,
            "#31688e"
           ],
           [
            0.4444444444444444,
            "#26828e"
           ],
           [
            0.5555555555555556,
            "#1f9e89"
           ],
           [
            0.6666666666666666,
            "#35b779"
           ],
           [
            0.7777777777777778,
            "#6ece58"
           ],
           [
            0.8888888888888888,
            "#b5de2b"
           ],
           [
            1,
            "#fde725"
           ]
          ],
          "size": 4
         },
         "showlegend": false,
         "type": "scatter3d",
         "x": [
          -0.8728460073471069,
          -2.6072537899017334
         ],
         "y": [
          0.4024415612220764,
          1.162656307220459
         ],
         "z": [
          -0.12426447868347168,
          4.503252029418945
         ]
        },
        {
         "line": {
          "color": "rgb(255, 0, 0)",
          "width": 10
         },
         "marker": {
          "color": "rgb(255, 0, 0)",
          "colorscale": [
           [
            0,
            "#440154"
           ],
           [
            0.1111111111111111,
            "#482878"
           ],
           [
            0.2222222222222222,
            "#3e4989"
           ],
           [
            0.3333333333333333,
            "#31688e"
           ],
           [
            0.4444444444444444,
            "#26828e"
           ],
           [
            0.5555555555555556,
            "#1f9e89"
           ],
           [
            0.6666666666666666,
            "#35b779"
           ],
           [
            0.7777777777777778,
            "#6ece58"
           ],
           [
            0.8888888888888888,
            "#b5de2b"
           ],
           [
            1,
            "#fde725"
           ]
          ],
          "size": 4
         },
         "showlegend": false,
         "type": "scatter3d",
         "x": [
          3.720463752746582,
          -0.5001468658447266
         ],
         "y": [
          -0.4605043828487396,
          -0.9486414790153503
         ],
         "z": [
          2.229163646697998,
          4.865101337432861
         ]
        },
        {
         "line": {
          "color": "rgb(255, 0, 0)",
          "width": 10
         },
         "marker": {
          "color": "rgb(255, 0, 0)",
          "colorscale": [
           [
            0,
            "#440154"
           ],
           [
            0.1111111111111111,
            "#482878"
           ],
           [
            0.2222222222222222,
            "#3e4989"
           ],
           [
            0.3333333333333333,
            "#31688e"
           ],
           [
            0.4444444444444444,
            "#26828e"
           ],
           [
            0.5555555555555556,
            "#1f9e89"
           ],
           [
            0.6666666666666666,
            "#35b779"
           ],
           [
            0.7777777777777778,
            "#6ece58"
           ],
           [
            0.8888888888888888,
            "#b5de2b"
           ],
           [
            1,
            "#fde725"
           ]
          ],
          "size": 4
         },
         "showlegend": false,
         "type": "scatter3d",
         "x": [
          -1.4584628343582153,
          -0.31932783126831055
         ],
         "y": [
          0.4082842171192169,
          1.153640866279602
         ],
         "z": [
          -0.2068907618522644,
          4.604222774505615
         ]
        },
        {
         "line": {
          "color": "rgb(255, 0, 0)",
          "width": 10
         },
         "marker": {
          "color": "rgb(255, 0, 0)",
          "colorscale": [
           [
            0,
            "#440154"
           ],
           [
            0.1111111111111111,
            "#482878"
           ],
           [
            0.2222222222222222,
            "#3e4989"
           ],
           [
            0.3333333333333333,
            "#31688e"
           ],
           [
            0.4444444444444444,
            "#26828e"
           ],
           [
            0.5555555555555556,
            "#1f9e89"
           ],
           [
            0.6666666666666666,
            "#35b779"
           ],
           [
            0.7777777777777778,
            "#6ece58"
           ],
           [
            0.8888888888888888,
            "#b5de2b"
           ],
           [
            1,
            "#fde725"
           ]
          ],
          "size": 4
         },
         "showlegend": false,
         "type": "scatter3d",
         "x": [
          3.734048366546631,
          -0.4186387062072754
         ],
         "y": [
          -0.14398780465126038,
          0.9504579901695251
         ],
         "z": [
          2.214123487472534,
          4.7748613357543945
         ]
        },
        {
         "line": {
          "color": "rgb(255, 0, 0)",
          "width": 10
         },
         "marker": {
          "color": "rgb(255, 0, 0)",
          "colorscale": [
           [
            0,
            "#440154"
           ],
           [
            0.1111111111111111,
            "#482878"
           ],
           [
            0.2222222222222222,
            "#3e4989"
           ],
           [
            0.3333333333333333,
            "#31688e"
           ],
           [
            0.4444444444444444,
            "#26828e"
           ],
           [
            0.5555555555555556,
            "#1f9e89"
           ],
           [
            0.6666666666666666,
            "#35b779"
           ],
           [
            0.7777777777777778,
            "#6ece58"
           ],
           [
            0.8888888888888888,
            "#b5de2b"
           ],
           [
            1,
            "#fde725"
           ]
          ],
          "size": 4
         },
         "showlegend": false,
         "type": "scatter3d",
         "x": [
          4.116491317749023,
          5.698093414306641
         ],
         "y": [
          -0.1041860431432724,
          -0.25539809465408325
         ],
         "z": [
          0.764295756816864,
          5.505146503448486
         ]
        },
        {
         "line": {
          "color": "rgb(255, 0, 0)",
          "width": 10
         },
         "marker": {
          "color": "rgb(255, 0, 0)",
          "colorscale": [
           [
            0,
            "#440154"
           ],
           [
            0.1111111111111111,
            "#482878"
           ],
           [
            0.2222222222222222,
            "#3e4989"
           ],
           [
            0.3333333333333333,
            "#31688e"
           ],
           [
            0.4444444444444444,
            "#26828e"
           ],
           [
            0.5555555555555556,
            "#1f9e89"
           ],
           [
            0.6666666666666666,
            "#35b779"
           ],
           [
            0.7777777777777778,
            "#6ece58"
           ],
           [
            0.8888888888888888,
            "#b5de2b"
           ],
           [
            1,
            "#fde725"
           ]
          ],
          "size": 4
         },
         "showlegend": false,
         "type": "scatter3d",
         "x": [
          3.7565393447875977,
          -0.2836923599243164
         ],
         "y": [
          -0.43869465589523315,
          -0.8177831768989563
         ],
         "z": [
          2.286195755004883,
          5.207294940948486
         ]
        },
        {
         "line": {
          "color": "rgb(255, 0, 0)",
          "width": 10
         },
         "marker": {
          "color": "rgb(255, 0, 0)",
          "colorscale": [
           [
            0,
            "#440154"
           ],
           [
            0.1111111111111111,
            "#482878"
           ],
           [
            0.2222222222222222,
            "#3e4989"
           ],
           [
            0.3333333333333333,
            "#31688e"
           ],
           [
            0.4444444444444444,
            "#26828e"
           ],
           [
            0.5555555555555556,
            "#1f9e89"
           ],
           [
            0.6666666666666666,
            "#35b779"
           ],
           [
            0.7777777777777778,
            "#6ece58"
           ],
           [
            0.8888888888888888,
            "#b5de2b"
           ],
           [
            1,
            "#fde725"
           ]
          ],
          "size": 4
         },
         "showlegend": false,
         "type": "scatter3d",
         "x": [
          3.373577117919922,
          1.1508288383483887
         ],
         "y": [
          -0.13598282635211945,
          -0.16972650587558746
         ],
         "z": [
          0.9009363651275635,
          5.379580020904541
         ]
        },
        {
         "line": {
          "color": "rgb(255, 0, 0)",
          "width": 10
         },
         "marker": {
          "color": "rgb(255, 0, 0)",
          "colorscale": [
           [
            0,
            "#440154"
           ],
           [
            0.1111111111111111,
            "#482878"
           ],
           [
            0.2222222222222222,
            "#3e4989"
           ],
           [
            0.3333333333333333,
            "#31688e"
           ],
           [
            0.4444444444444444,
            "#26828e"
           ],
           [
            0.5555555555555556,
            "#1f9e89"
           ],
           [
            0.6666666666666666,
            "#35b779"
           ],
           [
            0.7777777777777778,
            "#6ece58"
           ],
           [
            0.8888888888888888,
            "#b5de2b"
           ],
           [
            1,
            "#fde725"
           ]
          ],
          "size": 4
         },
         "showlegend": false,
         "type": "scatter3d",
         "x": [
          0.29927679896354675,
          -2.1293184757232666
         ],
         "y": [
          0.20799458026885986,
          0.4843783974647522
         ],
         "z": [
          -0.8988193273544312,
          3.463007926940918
         ]
        },
        {
         "line": {
          "color": "rgb(255, 0, 0)",
          "width": 10
         },
         "marker": {
          "color": "rgb(255, 0, 0)",
          "colorscale": [
           [
            0,
            "#440154"
           ],
           [
            0.1111111111111111,
            "#482878"
           ],
           [
            0.2222222222222222,
            "#3e4989"
           ],
           [
            0.3333333333333333,
            "#31688e"
           ],
           [
            0.4444444444444444,
            "#26828e"
           ],
           [
            0.5555555555555556,
            "#1f9e89"
           ],
           [
            0.6666666666666666,
            "#35b779"
           ],
           [
            0.7777777777777778,
            "#6ece58"
           ],
           [
            0.8888888888888888,
            "#b5de2b"
           ],
           [
            1,
            "#fde725"
           ]
          ],
          "size": 4
         },
         "showlegend": false,
         "type": "scatter3d",
         "x": [
          3.4729321002960205,
          1.746957778930664
         ],
         "y": [
          -0.25868064165115356,
          -0.9059132933616638
         ],
         "z": [
          0.9347688555717468,
          5.58257532119751
         ]
        },
        {
         "line": {
          "color": "rgb(255, 0, 0)",
          "width": 10
         },
         "marker": {
          "color": "rgb(255, 0, 0)",
          "colorscale": [
           [
            0,
            "#440154"
           ],
           [
            0.1111111111111111,
            "#482878"
           ],
           [
            0.2222222222222222,
            "#3e4989"
           ],
           [
            0.3333333333333333,
            "#31688e"
           ],
           [
            0.4444444444444444,
            "#26828e"
           ],
           [
            0.5555555555555556,
            "#1f9e89"
           ],
           [
            0.6666666666666666,
            "#35b779"
           ],
           [
            0.7777777777777778,
            "#6ece58"
           ],
           [
            0.8888888888888888,
            "#b5de2b"
           ],
           [
            1,
            "#fde725"
           ]
          ],
          "size": 4
         },
         "showlegend": false,
         "type": "scatter3d",
         "x": [
          3.5796475410461426,
          -1.3450427055358887
         ],
         "y": [
          -0.2209884524345398,
          0.48845404386520386
         ],
         "z": [
          1.8007924556732178,
          2.294875383377075
         ]
        },
        {
         "line": {
          "color": "rgb(255, 0, 0)",
          "width": 10
         },
         "marker": {
          "color": "rgb(255, 0, 0)",
          "colorscale": [
           [
            0,
            "#440154"
           ],
           [
            0.1111111111111111,
            "#482878"
           ],
           [
            0.2222222222222222,
            "#3e4989"
           ],
           [
            0.3333333333333333,
            "#31688e"
           ],
           [
            0.4444444444444444,
            "#26828e"
           ],
           [
            0.5555555555555556,
            "#1f9e89"
           ],
           [
            0.6666666666666666,
            "#35b779"
           ],
           [
            0.7777777777777778,
            "#6ece58"
           ],
           [
            0.8888888888888888,
            "#b5de2b"
           ],
           [
            1,
            "#fde725"
           ]
          ],
          "size": 4
         },
         "showlegend": false,
         "type": "scatter3d",
         "x": [
          4.022977828979492,
          5.13701057434082
         ],
         "y": [
          -0.18300923705101013,
          -0.728337287902832
         ],
         "z": [
          0.784868061542511,
          5.628580570220947
         ]
        },
        {
         "line": {
          "color": "rgb(255, 0, 0)",
          "width": 10
         },
         "marker": {
          "color": "rgb(255, 0, 0)",
          "colorscale": [
           [
            0,
            "#440154"
           ],
           [
            0.1111111111111111,
            "#482878"
           ],
           [
            0.2222222222222222,
            "#3e4989"
           ],
           [
            0.3333333333333333,
            "#31688e"
           ],
           [
            0.4444444444444444,
            "#26828e"
           ],
           [
            0.5555555555555556,
            "#1f9e89"
           ],
           [
            0.6666666666666666,
            "#35b779"
           ],
           [
            0.7777777777777778,
            "#6ece58"
           ],
           [
            0.8888888888888888,
            "#b5de2b"
           ],
           [
            1,
            "#fde725"
           ]
          ],
          "size": 4
         },
         "showlegend": false,
         "type": "scatter3d",
         "x": [
          0.6423107385635376,
          -0.07111471891403198
         ],
         "y": [
          0.4374389052391052,
          1.8610444068908691
         ],
         "z": [
          -0.8232529163360596,
          3.9164066314697266
         ]
        },
        {
         "line": {
          "color": "rgb(255, 0, 0)",
          "width": 10
         },
         "marker": {
          "color": "rgb(255, 0, 0)",
          "colorscale": [
           [
            0,
            "#440154"
           ],
           [
            0.1111111111111111,
            "#482878"
           ],
           [
            0.2222222222222222,
            "#3e4989"
           ],
           [
            0.3333333333333333,
            "#31688e"
           ],
           [
            0.4444444444444444,
            "#26828e"
           ],
           [
            0.5555555555555556,
            "#1f9e89"
           ],
           [
            0.6666666666666666,
            "#35b779"
           ],
           [
            0.7777777777777778,
            "#6ece58"
           ],
           [
            0.8888888888888888,
            "#b5de2b"
           ],
           [
            1,
            "#fde725"
           ]
          ],
          "size": 4
         },
         "showlegend": false,
         "type": "scatter3d",
         "x": [
          3.39778733253479,
          1.2960889339447021
         ],
         "y": [
          -0.28243768215179443,
          -1.0484555959701538
         ],
         "z": [
          0.8995471000671387,
          5.371244430541992
         ]
        },
        {
         "line": {
          "color": "rgb(255, 0, 0)",
          "width": 10
         },
         "marker": {
          "color": "rgb(255, 0, 0)",
          "colorscale": [
           [
            0,
            "#440154"
           ],
           [
            0.1111111111111111,
            "#482878"
           ],
           [
            0.2222222222222222,
            "#3e4989"
           ],
           [
            0.3333333333333333,
            "#31688e"
           ],
           [
            0.4444444444444444,
            "#26828e"
           ],
           [
            0.5555555555555556,
            "#1f9e89"
           ],
           [
            0.6666666666666666,
            "#35b779"
           ],
           [
            0.7777777777777778,
            "#6ece58"
           ],
           [
            0.8888888888888888,
            "#b5de2b"
           ],
           [
            1,
            "#fde725"
           ]
          ],
          "size": 4
         },
         "showlegend": false,
         "type": "scatter3d",
         "x": [
          -1.7690134048461914,
          -2.182631254196167
         ],
         "y": [
          0.37100571393966675,
          0.9299699068069458
         ],
         "z": [
          -0.17883116006851196,
          4.772580623626709
         ]
        },
        {
         "line": {
          "color": "rgb(255, 0, 0)",
          "width": 10
         },
         "marker": {
          "color": "rgb(255, 0, 0)",
          "colorscale": [
           [
            0,
            "#440154"
           ],
           [
            0.1111111111111111,
            "#482878"
           ],
           [
            0.2222222222222222,
            "#3e4989"
           ],
           [
            0.3333333333333333,
            "#31688e"
           ],
           [
            0.4444444444444444,
            "#26828e"
           ],
           [
            0.5555555555555556,
            "#1f9e89"
           ],
           [
            0.6666666666666666,
            "#35b779"
           ],
           [
            0.7777777777777778,
            "#6ece58"
           ],
           [
            0.8888888888888888,
            "#b5de2b"
           ],
           [
            1,
            "#fde725"
           ]
          ],
          "size": 4
         },
         "showlegend": false,
         "type": "scatter3d",
         "x": [
          2.1498942375183105,
          -0.6689589023590088
         ],
         "y": [
          -0.01825335994362831,
          -0.1272687315940857
         ],
         "z": [
          0.5994139909744263,
          4.727631568908691
         ]
        },
        {
         "line": {
          "color": "rgb(255, 0, 0)",
          "width": 10
         },
         "marker": {
          "color": "rgb(255, 0, 0)",
          "colorscale": [
           [
            0,
            "#440154"
           ],
           [
            0.1111111111111111,
            "#482878"
           ],
           [
            0.2222222222222222,
            "#3e4989"
           ],
           [
            0.3333333333333333,
            "#31688e"
           ],
           [
            0.4444444444444444,
            "#26828e"
           ],
           [
            0.5555555555555556,
            "#1f9e89"
           ],
           [
            0.6666666666666666,
            "#35b779"
           ],
           [
            0.7777777777777778,
            "#6ece58"
           ],
           [
            0.8888888888888888,
            "#b5de2b"
           ],
           [
            1,
            "#fde725"
           ]
          ],
          "size": 4
         },
         "showlegend": false,
         "type": "scatter3d",
         "x": [
          3.631443738937378,
          -1.034266471862793
         ],
         "y": [
          -0.3283533453941345,
          -0.15573537349700928
         ],
         "z": [
          2.0598225593566895,
          3.849055767059326
         ]
        },
        {
         "line": {
          "color": "rgb(255, 0, 0)",
          "width": 10
         },
         "marker": {
          "color": "rgb(255, 0, 0)",
          "colorscale": [
           [
            0,
            "#440154"
           ],
           [
            0.1111111111111111,
            "#482878"
           ],
           [
            0.2222222222222222,
            "#3e4989"
           ],
           [
            0.3333333333333333,
            "#31688e"
           ],
           [
            0.4444444444444444,
            "#26828e"
           ],
           [
            0.5555555555555556,
            "#1f9e89"
           ],
           [
            0.6666666666666666,
            "#35b779"
           ],
           [
            0.7777777777777778,
            "#6ece58"
           ],
           [
            0.8888888888888888,
            "#b5de2b"
           ],
           [
            1,
            "#fde725"
           ]
          ],
          "size": 4
         },
         "showlegend": false,
         "type": "scatter3d",
         "x": [
          3.3978354930877686,
          1.2963781356811523
         ],
         "y": [
          -0.13548552989959717,
          -0.1667427122592926
         ],
         "z": [
          0.9125753045082092,
          5.449413776397705
         ]
        },
        {
         "line": {
          "color": "rgb(255, 0, 0)",
          "width": 10
         },
         "marker": {
          "color": "rgb(255, 0, 0)",
          "colorscale": [
           [
            0,
            "#440154"
           ],
           [
            0.1111111111111111,
            "#482878"
           ],
           [
            0.2222222222222222,
            "#3e4989"
           ],
           [
            0.3333333333333333,
            "#31688e"
           ],
           [
            0.4444444444444444,
            "#26828e"
           ],
           [
            0.5555555555555556,
            "#1f9e89"
           ],
           [
            0.6666666666666666,
            "#35b779"
           ],
           [
            0.7777777777777778,
            "#6ece58"
           ],
           [
            0.8888888888888888,
            "#b5de2b"
           ],
           [
            1,
            "#fde725"
           ]
          ],
          "size": 4
         },
         "showlegend": false,
         "type": "scatter3d",
         "x": [
          3.622642755508423,
          -1.0870723724365234
         ],
         "y": [
          -0.3615984618663788,
          -0.3552059531211853
         ],
         "z": [
          2.0377461910247803,
          3.716597080230713
         ]
        },
        {
         "line": {
          "color": "rgb(255, 0, 0)",
          "width": 10
         },
         "marker": {
          "color": "rgb(255, 0, 0)",
          "colorscale": [
           [
            0,
            "#440154"
           ],
           [
            0.1111111111111111,
            "#482878"
           ],
           [
            0.2222222222222222,
            "#3e4989"
           ],
           [
            0.3333333333333333,
            "#31688e"
           ],
           [
            0.4444444444444444,
            "#26828e"
           ],
           [
            0.5555555555555556,
            "#1f9e89"
           ],
           [
            0.6666666666666666,
            "#35b779"
           ],
           [
            0.7777777777777778,
            "#6ece58"
           ],
           [
            0.8888888888888888,
            "#b5de2b"
           ],
           [
            1,
            "#fde725"
           ]
          ],
          "size": 4
         },
         "showlegend": false,
         "type": "scatter3d",
         "x": [
          3.404407024383545,
          1.425586462020874
         ],
         "y": [
          -0.25361400842666626,
          -1.151965856552124
         ],
         "z": [
          0.7167305946350098,
          5.21975564956665
         ]
        },
        {
         "line": {
          "color": "rgb(255, 0, 0)",
          "width": 10
         },
         "marker": {
          "color": "rgb(255, 0, 0)",
          "colorscale": [
           [
            0,
            "#440154"
           ],
           [
            0.1111111111111111,
            "#482878"
           ],
           [
            0.2222222222222222,
            "#3e4989"
           ],
           [
            0.3333333333333333,
            "#31688e"
           ],
           [
            0.4444444444444444,
            "#26828e"
           ],
           [
            0.5555555555555556,
            "#1f9e89"
           ],
           [
            0.6666666666666666,
            "#35b779"
           ],
           [
            0.7777777777777778,
            "#6ece58"
           ],
           [
            0.8888888888888888,
            "#b5de2b"
           ],
           [
            1,
            "#fde725"
           ]
          ],
          "size": 4
         },
         "showlegend": false,
         "type": "scatter3d",
         "x": [
          -1.3603322505950928,
          0.26945579051971436
         ],
         "y": [
          0.19182372093200684,
          -0.14512202143669128
         ],
         "z": [
          -0.22613400220870972,
          4.488763332366943
         ]
        },
        {
         "line": {
          "color": "rgb(255, 0, 0)",
          "width": 10
         },
         "marker": {
          "color": "rgb(255, 0, 0)",
          "colorscale": [
           [
            0,
            "#440154"
           ],
           [
            0.1111111111111111,
            "#482878"
           ],
           [
            0.2222222222222222,
            "#3e4989"
           ],
           [
            0.3333333333333333,
            "#31688e"
           ],
           [
            0.4444444444444444,
            "#26828e"
           ],
           [
            0.5555555555555556,
            "#1f9e89"
           ],
           [
            0.6666666666666666,
            "#35b779"
           ],
           [
            0.7777777777777778,
            "#6ece58"
           ],
           [
            0.8888888888888888,
            "#b5de2b"
           ],
           [
            1,
            "#fde725"
           ]
          ],
          "size": 4
         },
         "showlegend": false,
         "type": "scatter3d",
         "x": [
          -1.33823561668396,
          0.4020349979400635
         ],
         "y": [
          0.2512294352054596,
          0.2113121896982193
         ],
         "z": [
          -0.231673002243042,
          4.455529689788818
         ]
        },
        {
         "line": {
          "color": "rgb(255, 0, 0)",
          "width": 10
         },
         "marker": {
          "color": "rgb(255, 0, 0)",
          "colorscale": [
           [
            0,
            "#440154"
           ],
           [
            0.1111111111111111,
            "#482878"
           ],
           [
            0.2222222222222222,
            "#3e4989"
           ],
           [
            0.3333333333333333,
            "#31688e"
           ],
           [
            0.4444444444444444,
            "#26828e"
           ],
           [
            0.5555555555555556,
            "#1f9e89"
           ],
           [
            0.6666666666666666,
            "#35b779"
           ],
           [
            0.7777777777777778,
            "#6ece58"
           ],
           [
            0.8888888888888888,
            "#b5de2b"
           ],
           [
            1,
            "#fde725"
           ]
          ],
          "size": 4
         },
         "showlegend": false,
         "type": "scatter3d",
         "x": [
          -2.2796695232391357,
          -1.2531354427337646
         ],
         "y": [
          0.30856838822364807,
          0.05055195093154907
         ],
         "z": [
          -0.4642128348350525,
          4.422468662261963
         ]
        },
        {
         "line": {
          "color": "rgb(255, 0, 0)",
          "width": 10
         },
         "marker": {
          "color": "rgb(255, 0, 0)",
          "colorscale": [
           [
            0,
            "#440154"
           ],
           [
            0.1111111111111111,
            "#482878"
           ],
           [
            0.2222222222222222,
            "#3e4989"
           ],
           [
            0.3333333333333333,
            "#31688e"
           ],
           [
            0.4444444444444444,
            "#26828e"
           ],
           [
            0.5555555555555556,
            "#1f9e89"
           ],
           [
            0.6666666666666666,
            "#35b779"
           ],
           [
            0.7777777777777778,
            "#6ece58"
           ],
           [
            0.8888888888888888,
            "#b5de2b"
           ],
           [
            1,
            "#fde725"
           ]
          ],
          "size": 4
         },
         "showlegend": false,
         "type": "scatter3d",
         "x": [
          3.567387342453003,
          -1.4186043739318848
         ],
         "y": [
          -0.3361452519893646,
          -0.2024868130683899
         ],
         "z": [
          1.771838665008545,
          2.121152400970459
         ]
        },
        {
         "line": {
          "color": "rgb(255, 0, 0)",
          "width": 10
         },
         "marker": {
          "color": "rgb(255, 0, 0)",
          "colorscale": [
           [
            0,
            "#440154"
           ],
           [
            0.1111111111111111,
            "#482878"
           ],
           [
            0.2222222222222222,
            "#3e4989"
           ],
           [
            0.3333333333333333,
            "#31688e"
           ],
           [
            0.4444444444444444,
            "#26828e"
           ],
           [
            0.5555555555555556,
            "#1f9e89"
           ],
           [
            0.6666666666666666,
            "#35b779"
           ],
           [
            0.7777777777777778,
            "#6ece58"
           ],
           [
            0.8888888888888888,
            "#b5de2b"
           ],
           [
            1,
            "#fde725"
           ]
          ],
          "size": 4
         },
         "showlegend": false,
         "type": "scatter3d",
         "x": [
          3.567720651626587,
          2.3156890869140625
         ],
         "y": [
          -0.19131886959075928,
          -0.5017427206039429
         ],
         "z": [
          0.971355676651001,
          5.802095890045166
         ]
        },
        {
         "line": {
          "color": "rgb(255, 0, 0)",
          "width": 10
         },
         "marker": {
          "color": "rgb(255, 0, 0)",
          "colorscale": [
           [
            0,
            "#440154"
           ],
           [
            0.1111111111111111,
            "#482878"
           ],
           [
            0.2222222222222222,
            "#3e4989"
           ],
           [
            0.3333333333333333,
            "#31688e"
           ],
           [
            0.4444444444444444,
            "#26828e"
           ],
           [
            0.5555555555555556,
            "#1f9e89"
           ],
           [
            0.6666666666666666,
            "#35b779"
           ],
           [
            0.7777777777777778,
            "#6ece58"
           ],
           [
            0.8888888888888888,
            "#b5de2b"
           ],
           [
            1,
            "#fde725"
           ]
          ],
          "size": 4
         },
         "showlegend": false,
         "type": "scatter3d",
         "x": [
          -1.975256085395813,
          0.5733449459075928
         ],
         "y": [
          0.14889287948608398,
          -0.9075011014938354
         ],
         "z": [
          -0.6075548529624939,
          3.5624165534973145
         ]
        },
        {
         "line": {
          "color": "rgb(255, 0, 0)",
          "width": 10
         },
         "marker": {
          "color": "rgb(255, 0, 0)",
          "colorscale": [
           [
            0,
            "#440154"
           ],
           [
            0.1111111111111111,
            "#482878"
           ],
           [
            0.2222222222222222,
            "#3e4989"
           ],
           [
            0.3333333333333333,
            "#31688e"
           ],
           [
            0.4444444444444444,
            "#26828e"
           ],
           [
            0.5555555555555556,
            "#1f9e89"
           ],
           [
            0.6666666666666666,
            "#35b779"
           ],
           [
            0.7777777777777778,
            "#6ece58"
           ],
           [
            0.8888888888888888,
            "#b5de2b"
           ],
           [
            1,
            "#fde725"
           ]
          ],
          "size": 4
         },
         "showlegend": false,
         "type": "scatter3d",
         "x": [
          2.0141355991363525,
          -1.483510971069336
         ],
         "y": [
          0.0267411507666111,
          0.14269833266735077
         ],
         "z": [
          0.4879978895187378,
          4.0591349601745605
         ]
        },
        {
         "line": {
          "color": "rgb(255, 0, 0)",
          "width": 10
         },
         "marker": {
          "color": "rgb(255, 0, 0)",
          "colorscale": [
           [
            0,
            "#440154"
           ],
           [
            0.1111111111111111,
            "#482878"
           ],
           [
            0.2222222222222222,
            "#3e4989"
           ],
           [
            0.3333333333333333,
            "#31688e"
           ],
           [
            0.4444444444444444,
            "#26828e"
           ],
           [
            0.5555555555555556,
            "#1f9e89"
           ],
           [
            0.6666666666666666,
            "#35b779"
           ],
           [
            0.7777777777777778,
            "#6ece58"
           ],
           [
            0.8888888888888888,
            "#b5de2b"
           ],
           [
            1,
            "#fde725"
           ]
          ],
          "size": 4
         },
         "showlegend": false,
         "type": "scatter3d",
         "x": [
          -1.5353657007217407,
          -0.7807453870773315
         ],
         "y": [
          0.2122775912284851,
          -0.022398918867111206
         ],
         "z": [
          -0.18168306350708008,
          4.755468845367432
         ]
        },
        {
         "line": {
          "color": "rgb(255, 0, 0)",
          "width": 10
         },
         "marker": {
          "color": "rgb(255, 0, 0)",
          "colorscale": [
           [
            0,
            "#440154"
           ],
           [
            0.1111111111111111,
            "#482878"
           ],
           [
            0.2222222222222222,
            "#3e4989"
           ],
           [
            0.3333333333333333,
            "#31688e"
           ],
           [
            0.4444444444444444,
            "#26828e"
           ],
           [
            0.5555555555555556,
            "#1f9e89"
           ],
           [
            0.6666666666666666,
            "#35b779"
           ],
           [
            0.7777777777777778,
            "#6ece58"
           ],
           [
            0.8888888888888888,
            "#b5de2b"
           ],
           [
            1,
            "#fde725"
           ]
          ],
          "size": 4
         },
         "showlegend": false,
         "type": "scatter3d",
         "x": [
          3.9038517475128174,
          4.42225456237793
         ],
         "y": [
          -0.026610352098941803,
          0.21005605161190033
         ],
         "z": [
          0.8096093535423279,
          5.7770280838012695
         ]
        },
        {
         "line": {
          "color": "rgb(255, 0, 0)",
          "width": 10
         },
         "marker": {
          "color": "rgb(255, 0, 0)",
          "colorscale": [
           [
            0,
            "#440154"
           ],
           [
            0.1111111111111111,
            "#482878"
           ],
           [
            0.2222222222222222,
            "#3e4989"
           ],
           [
            0.3333333333333333,
            "#31688e"
           ],
           [
            0.4444444444444444,
            "#26828e"
           ],
           [
            0.5555555555555556,
            "#1f9e89"
           ],
           [
            0.6666666666666666,
            "#35b779"
           ],
           [
            0.7777777777777778,
            "#6ece58"
           ],
           [
            0.8888888888888888,
            "#b5de2b"
           ],
           [
            1,
            "#fde725"
           ]
          ],
          "size": 4
         },
         "showlegend": false,
         "type": "scatter3d",
         "x": [
          2.0290279388427734,
          -1.3941569328308105
         ],
         "y": [
          -0.07616037130355835,
          -0.47471076250076294
         ],
         "z": [
          0.4982830286026001,
          4.120845794677734
         ]
        },
        {
         "line": {
          "color": "rgb(255, 0, 0)",
          "width": 10
         },
         "marker": {
          "color": "rgb(255, 0, 0)",
          "colorscale": [
           [
            0,
            "#440154"
           ],
           [
            0.1111111111111111,
            "#482878"
           ],
           [
            0.2222222222222222,
            "#3e4989"
           ],
           [
            0.3333333333333333,
            "#31688e"
           ],
           [
            0.4444444444444444,
            "#26828e"
           ],
           [
            0.5555555555555556,
            "#1f9e89"
           ],
           [
            0.6666666666666666,
            "#35b779"
           ],
           [
            0.7777777777777778,
            "#6ece58"
           ],
           [
            0.8888888888888888,
            "#b5de2b"
           ],
           [
            1,
            "#fde725"
           ]
          ],
          "size": 4
         },
         "showlegend": false,
         "type": "scatter3d",
         "x": [
          3.2695255279541016,
          0.5265178680419922
         ],
         "y": [
          -0.11681312322616577,
          -0.05470828711986542
         ],
         "z": [
          0.8411992788314819,
          5.021157741546631
         ]
        },
        {
         "line": {
          "color": "rgb(255, 0, 0)",
          "width": 10
         },
         "marker": {
          "color": "rgb(255, 0, 0)",
          "colorscale": [
           [
            0,
            "#440154"
           ],
           [
            0.1111111111111111,
            "#482878"
           ],
           [
            0.2222222222222222,
            "#3e4989"
           ],
           [
            0.3333333333333333,
            "#31688e"
           ],
           [
            0.4444444444444444,
            "#26828e"
           ],
           [
            0.5555555555555556,
            "#1f9e89"
           ],
           [
            0.6666666666666666,
            "#35b779"
           ],
           [
            0.7777777777777778,
            "#6ece58"
           ],
           [
            0.8888888888888888,
            "#b5de2b"
           ],
           [
            1,
            "#fde725"
           ]
          ],
          "size": 4
         },
         "showlegend": false,
         "type": "scatter3d",
         "x": [
          3.8046815395355225,
          3.82723331451416
         ],
         "y": [
          -0.17924976348876953,
          -0.7057803869247437
         ],
         "z": [
          0.8105551600456238,
          5.782702922821045
         ]
        }
       ],
       "layout": {
        "autosize": false,
        "height": 1000,
        "margin": {
         "b": 100,
         "l": 50,
         "pad": 4,
         "r": 50,
         "t": 100
        },
        "scene": {
         "aspectmode": "data",
         "camera": {
          "center": {
           "x": 0,
           "y": 0,
           "z": 0
          },
          "eye": {
           "x": 1.25,
           "y": 1.25,
           "z": 1.25
          },
          "up": {
           "x": 0,
           "y": 0,
           "z": 1
          }
         }
        },
        "template": {
         "data": {
          "bar": [
           {
            "error_x": {
             "color": "#2a3f5f"
            },
            "error_y": {
             "color": "#2a3f5f"
            },
            "marker": {
             "line": {
              "color": "#E5ECF6",
              "width": 0.5
             },
             "pattern": {
              "fillmode": "overlay",
              "size": 10,
              "solidity": 0.2
             }
            },
            "type": "bar"
           }
          ],
          "barpolar": [
           {
            "marker": {
             "line": {
              "color": "#E5ECF6",
              "width": 0.5
             },
             "pattern": {
              "fillmode": "overlay",
              "size": 10,
              "solidity": 0.2
             }
            },
            "type": "barpolar"
           }
          ],
          "carpet": [
           {
            "aaxis": {
             "endlinecolor": "#2a3f5f",
             "gridcolor": "white",
             "linecolor": "white",
             "minorgridcolor": "white",
             "startlinecolor": "#2a3f5f"
            },
            "baxis": {
             "endlinecolor": "#2a3f5f",
             "gridcolor": "white",
             "linecolor": "white",
             "minorgridcolor": "white",
             "startlinecolor": "#2a3f5f"
            },
            "type": "carpet"
           }
          ],
          "choropleth": [
           {
            "colorbar": {
             "outlinewidth": 0,
             "ticks": ""
            },
            "type": "choropleth"
           }
          ],
          "contour": [
           {
            "colorbar": {
             "outlinewidth": 0,
             "ticks": ""
            },
            "colorscale": [
             [
              0,
              "#0d0887"
             ],
             [
              0.1111111111111111,
              "#46039f"
             ],
             [
              0.2222222222222222,
              "#7201a8"
             ],
             [
              0.3333333333333333,
              "#9c179e"
             ],
             [
              0.4444444444444444,
              "#bd3786"
             ],
             [
              0.5555555555555556,
              "#d8576b"
             ],
             [
              0.6666666666666666,
              "#ed7953"
             ],
             [
              0.7777777777777778,
              "#fb9f3a"
             ],
             [
              0.8888888888888888,
              "#fdca26"
             ],
             [
              1,
              "#f0f921"
             ]
            ],
            "type": "contour"
           }
          ],
          "contourcarpet": [
           {
            "colorbar": {
             "outlinewidth": 0,
             "ticks": ""
            },
            "type": "contourcarpet"
           }
          ],
          "heatmap": [
           {
            "colorbar": {
             "outlinewidth": 0,
             "ticks": ""
            },
            "colorscale": [
             [
              0,
              "#0d0887"
             ],
             [
              0.1111111111111111,
              "#46039f"
             ],
             [
              0.2222222222222222,
              "#7201a8"
             ],
             [
              0.3333333333333333,
              "#9c179e"
             ],
             [
              0.4444444444444444,
              "#bd3786"
             ],
             [
              0.5555555555555556,
              "#d8576b"
             ],
             [
              0.6666666666666666,
              "#ed7953"
             ],
             [
              0.7777777777777778,
              "#fb9f3a"
             ],
             [
              0.8888888888888888,
              "#fdca26"
             ],
             [
              1,
              "#f0f921"
             ]
            ],
            "type": "heatmap"
           }
          ],
          "heatmapgl": [
           {
            "colorbar": {
             "outlinewidth": 0,
             "ticks": ""
            },
            "colorscale": [
             [
              0,
              "#0d0887"
             ],
             [
              0.1111111111111111,
              "#46039f"
             ],
             [
              0.2222222222222222,
              "#7201a8"
             ],
             [
              0.3333333333333333,
              "#9c179e"
             ],
             [
              0.4444444444444444,
              "#bd3786"
             ],
             [
              0.5555555555555556,
              "#d8576b"
             ],
             [
              0.6666666666666666,
              "#ed7953"
             ],
             [
              0.7777777777777778,
              "#fb9f3a"
             ],
             [
              0.8888888888888888,
              "#fdca26"
             ],
             [
              1,
              "#f0f921"
             ]
            ],
            "type": "heatmapgl"
           }
          ],
          "histogram": [
           {
            "marker": {
             "pattern": {
              "fillmode": "overlay",
              "size": 10,
              "solidity": 0.2
             }
            },
            "type": "histogram"
           }
          ],
          "histogram2d": [
           {
            "colorbar": {
             "outlinewidth": 0,
             "ticks": ""
            },
            "colorscale": [
             [
              0,
              "#0d0887"
             ],
             [
              0.1111111111111111,
              "#46039f"
             ],
             [
              0.2222222222222222,
              "#7201a8"
             ],
             [
              0.3333333333333333,
              "#9c179e"
             ],
             [
              0.4444444444444444,
              "#bd3786"
             ],
             [
              0.5555555555555556,
              "#d8576b"
             ],
             [
              0.6666666666666666,
              "#ed7953"
             ],
             [
              0.7777777777777778,
              "#fb9f3a"
             ],
             [
              0.8888888888888888,
              "#fdca26"
             ],
             [
              1,
              "#f0f921"
             ]
            ],
            "type": "histogram2d"
           }
          ],
          "histogram2dcontour": [
           {
            "colorbar": {
             "outlinewidth": 0,
             "ticks": ""
            },
            "colorscale": [
             [
              0,
              "#0d0887"
             ],
             [
              0.1111111111111111,
              "#46039f"
             ],
             [
              0.2222222222222222,
              "#7201a8"
             ],
             [
              0.3333333333333333,
              "#9c179e"
             ],
             [
              0.4444444444444444,
              "#bd3786"
             ],
             [
              0.5555555555555556,
              "#d8576b"
             ],
             [
              0.6666666666666666,
              "#ed7953"
             ],
             [
              0.7777777777777778,
              "#fb9f3a"
             ],
             [
              0.8888888888888888,
              "#fdca26"
             ],
             [
              1,
              "#f0f921"
             ]
            ],
            "type": "histogram2dcontour"
           }
          ],
          "mesh3d": [
           {
            "colorbar": {
             "outlinewidth": 0,
             "ticks": ""
            },
            "type": "mesh3d"
           }
          ],
          "parcoords": [
           {
            "line": {
             "colorbar": {
              "outlinewidth": 0,
              "ticks": ""
             }
            },
            "type": "parcoords"
           }
          ],
          "pie": [
           {
            "automargin": true,
            "type": "pie"
           }
          ],
          "scatter": [
           {
            "fillpattern": {
             "fillmode": "overlay",
             "size": 10,
             "solidity": 0.2
            },
            "type": "scatter"
           }
          ],
          "scatter3d": [
           {
            "line": {
             "colorbar": {
              "outlinewidth": 0,
              "ticks": ""
             }
            },
            "marker": {
             "colorbar": {
              "outlinewidth": 0,
              "ticks": ""
             }
            },
            "type": "scatter3d"
           }
          ],
          "scattercarpet": [
           {
            "marker": {
             "colorbar": {
              "outlinewidth": 0,
              "ticks": ""
             }
            },
            "type": "scattercarpet"
           }
          ],
          "scattergeo": [
           {
            "marker": {
             "colorbar": {
              "outlinewidth": 0,
              "ticks": ""
             }
            },
            "type": "scattergeo"
           }
          ],
          "scattergl": [
           {
            "marker": {
             "colorbar": {
              "outlinewidth": 0,
              "ticks": ""
             }
            },
            "type": "scattergl"
           }
          ],
          "scattermapbox": [
           {
            "marker": {
             "colorbar": {
              "outlinewidth": 0,
              "ticks": ""
             }
            },
            "type": "scattermapbox"
           }
          ],
          "scatterpolar": [
           {
            "marker": {
             "colorbar": {
              "outlinewidth": 0,
              "ticks": ""
             }
            },
            "type": "scatterpolar"
           }
          ],
          "scatterpolargl": [
           {
            "marker": {
             "colorbar": {
              "outlinewidth": 0,
              "ticks": ""
             }
            },
            "type": "scatterpolargl"
           }
          ],
          "scatterternary": [
           {
            "marker": {
             "colorbar": {
              "outlinewidth": 0,
              "ticks": ""
             }
            },
            "type": "scatterternary"
           }
          ],
          "surface": [
           {
            "colorbar": {
             "outlinewidth": 0,
             "ticks": ""
            },
            "colorscale": [
             [
              0,
              "#0d0887"
             ],
             [
              0.1111111111111111,
              "#46039f"
             ],
             [
              0.2222222222222222,
              "#7201a8"
             ],
             [
              0.3333333333333333,
              "#9c179e"
             ],
             [
              0.4444444444444444,
              "#bd3786"
             ],
             [
              0.5555555555555556,
              "#d8576b"
             ],
             [
              0.6666666666666666,
              "#ed7953"
             ],
             [
              0.7777777777777778,
              "#fb9f3a"
             ],
             [
              0.8888888888888888,
              "#fdca26"
             ],
             [
              1,
              "#f0f921"
             ]
            ],
            "type": "surface"
           }
          ],
          "table": [
           {
            "cells": {
             "fill": {
              "color": "#EBF0F8"
             },
             "line": {
              "color": "white"
             }
            },
            "header": {
             "fill": {
              "color": "#C8D4E3"
             },
             "line": {
              "color": "white"
             }
            },
            "type": "table"
           }
          ]
         },
         "layout": {
          "annotationdefaults": {
           "arrowcolor": "#2a3f5f",
           "arrowhead": 0,
           "arrowwidth": 1
          },
          "autotypenumbers": "strict",
          "coloraxis": {
           "colorbar": {
            "outlinewidth": 0,
            "ticks": ""
           }
          },
          "colorscale": {
           "diverging": [
            [
             0,
             "#8e0152"
            ],
            [
             0.1,
             "#c51b7d"
            ],
            [
             0.2,
             "#de77ae"
            ],
            [
             0.3,
             "#f1b6da"
            ],
            [
             0.4,
             "#fde0ef"
            ],
            [
             0.5,
             "#f7f7f7"
            ],
            [
             0.6,
             "#e6f5d0"
            ],
            [
             0.7,
             "#b8e186"
            ],
            [
             0.8,
             "#7fbc41"
            ],
            [
             0.9,
             "#4d9221"
            ],
            [
             1,
             "#276419"
            ]
           ],
           "sequential": [
            [
             0,
             "#0d0887"
            ],
            [
             0.1111111111111111,
             "#46039f"
            ],
            [
             0.2222222222222222,
             "#7201a8"
            ],
            [
             0.3333333333333333,
             "#9c179e"
            ],
            [
             0.4444444444444444,
             "#bd3786"
            ],
            [
             0.5555555555555556,
             "#d8576b"
            ],
            [
             0.6666666666666666,
             "#ed7953"
            ],
            [
             0.7777777777777778,
             "#fb9f3a"
            ],
            [
             0.8888888888888888,
             "#fdca26"
            ],
            [
             1,
             "#f0f921"
            ]
           ],
           "sequentialminus": [
            [
             0,
             "#0d0887"
            ],
            [
             0.1111111111111111,
             "#46039f"
            ],
            [
             0.2222222222222222,
             "#7201a8"
            ],
            [
             0.3333333333333333,
             "#9c179e"
            ],
            [
             0.4444444444444444,
             "#bd3786"
            ],
            [
             0.5555555555555556,
             "#d8576b"
            ],
            [
             0.6666666666666666,
             "#ed7953"
            ],
            [
             0.7777777777777778,
             "#fb9f3a"
            ],
            [
             0.8888888888888888,
             "#fdca26"
            ],
            [
             1,
             "#f0f921"
            ]
           ]
          },
          "colorway": [
           "#636efa",
           "#EF553B",
           "#00cc96",
           "#ab63fa",
           "#FFA15A",
           "#19d3f3",
           "#FF6692",
           "#B6E880",
           "#FF97FF",
           "#FECB52"
          ],
          "font": {
           "color": "#2a3f5f"
          },
          "geo": {
           "bgcolor": "white",
           "lakecolor": "white",
           "landcolor": "#E5ECF6",
           "showlakes": true,
           "showland": true,
           "subunitcolor": "white"
          },
          "hoverlabel": {
           "align": "left"
          },
          "hovermode": "closest",
          "mapbox": {
           "style": "light"
          },
          "paper_bgcolor": "white",
          "plot_bgcolor": "#E5ECF6",
          "polar": {
           "angularaxis": {
            "gridcolor": "white",
            "linecolor": "white",
            "ticks": ""
           },
           "bgcolor": "#E5ECF6",
           "radialaxis": {
            "gridcolor": "white",
            "linecolor": "white",
            "ticks": ""
           }
          },
          "scene": {
           "xaxis": {
            "backgroundcolor": "#E5ECF6",
            "gridcolor": "white",
            "gridwidth": 2,
            "linecolor": "white",
            "showbackground": true,
            "ticks": "",
            "zerolinecolor": "white"
           },
           "yaxis": {
            "backgroundcolor": "#E5ECF6",
            "gridcolor": "white",
            "gridwidth": 2,
            "linecolor": "white",
            "showbackground": true,
            "ticks": "",
            "zerolinecolor": "white"
           },
           "zaxis": {
            "backgroundcolor": "#E5ECF6",
            "gridcolor": "white",
            "gridwidth": 2,
            "linecolor": "white",
            "showbackground": true,
            "ticks": "",
            "zerolinecolor": "white"
           }
          },
          "shapedefaults": {
           "line": {
            "color": "#2a3f5f"
           }
          },
          "ternary": {
           "aaxis": {
            "gridcolor": "white",
            "linecolor": "white",
            "ticks": ""
           },
           "baxis": {
            "gridcolor": "white",
            "linecolor": "white",
            "ticks": ""
           },
           "bgcolor": "#E5ECF6",
           "caxis": {
            "gridcolor": "white",
            "linecolor": "white",
            "ticks": ""
           }
          },
          "title": {
           "x": 0.05
          },
          "xaxis": {
           "automargin": true,
           "gridcolor": "white",
           "linecolor": "white",
           "ticks": "",
           "title": {
            "standoff": 15
           },
           "zerolinecolor": "white",
           "zerolinewidth": 2
          },
          "yaxis": {
           "automargin": true,
           "gridcolor": "white",
           "linecolor": "white",
           "ticks": "",
           "title": {
            "standoff": 15
           },
           "zerolinecolor": "white",
           "zerolinewidth": 2
          }
         }
        },
        "width": 1000
       }
      },
      "text/html": [
       "<div>                            <div id=\"cfc0d98f-0c5a-459a-bfbc-a4966b448fb2\" class=\"plotly-graph-div\" style=\"height:1000px; width:1000px;\"></div>            <script type=\"text/javascript\">                require([\"plotly\"], function(Plotly) {                    window.PLOTLYENV=window.PLOTLYENV || {};                                    if (document.getElementById(\"cfc0d98f-0c5a-459a-bfbc-a4966b448fb2\")) {                    Plotly.newPlot(                        \"cfc0d98f-0c5a-459a-bfbc-a4966b448fb2\",                        [{\"marker\":{\"color\":\"rgba(0, 0, 0, 1)\",\"size\":8},\"mode\":\"markers\",\"name\":\"origins\",\"x\":[-2.620957851409912,-2.3065438270568848,-1.3201767206192017,3.2671120166778564,0.3710319399833679,0.4049864411354065,4.826180934906006,-0.9473855495452881,-3.0205116271972656,3.922758102416992,1.361860990524292,4.85964822769165,1.5065038204193115,-3.674560070037842,1.7150750160217285,-3.4039230346679688,-0.67200767993927,-2.094449043273926,-1.6862897872924805,3.1038875579833984,-1.6938903331756592,-1.8510231971740723,1.3389005661010742,2.562008857727051,-2.0709762573242188,1.103877067565918,-2.8057069778442383,-1.4376013278961182,-2.484976291656494,-2.4179115295410156,-1.969143271446228,3.150782346725464,-1.0036602020263672,-3.0639021396636963,0.7507435083389282,-0.8690291047096252,1.3284640312194824,1.3980400562286377,-3.7091758251190186,3.407508373260498,-2.9073688983917236,2.8712522983551025,3.3745851516723633,3.4474329948425293,0.1343022882938385,-1.0858500003814697,1.9163532257080078,3.006258249282837,-2.099956512451172,-1.5952181816101074,-2.9141554832458496,-1.5751419067382812,-1.5284204483032227,0.7405332922935486,-3.091270923614502,-3.121455430984497,-1.3108881711959839,1.566190242767334,-1.9271529912948608,1.976480484008789,-1.101997971534729,-1.650305151939392,1.4763436317443848,-4.018808364868164,-0.5259644389152527,-0.4001197814941406,1.0715441703796387,-0.41969823837280273,-1.703543782234192,-3.217604637145996,1.6377414464950562,0.9316978454589844,2.1592748165130615,-2.612527370452881,1.679912805557251,2.7434144020080566,2.713665008544922,0.5630910992622375,-0.6957547664642334,0.4105933904647827,3.7846343517303467,3.800171136856079,1.6267359256744385,5.1108856201171875,-0.8661962151527405,-2.8871655464172363,0.5945320725440979,-0.4169619679450989,-1.2841501235961914,1.9518399238586426,-0.10009393095970154,-0.2565694749355316,0.12403451651334763,2.9587600231170654,1.7632112503051758,4.5645856857299805,4.909059524536133,0.41644370555877686,3.5382237434387207,3.8257718086242676,1.3245147466659546,3.758837938308716,-1.2901984453201294,0.7849958539009094,-2.9857308864593506,0.936840832233429,0.7352339029312134,0.7705292701721191,0.9413787126541138,-0.31442952156066895,-0.9062077403068542,-1.9406589269638062,2.916642665863037,2.0731399059295654,-1.2346454858779907,4.311000347137451,4.2350969314575195,4.695927619934082,0.6286726593971252,3.818126916885376,4.161957263946533,-3.6973514556884766,0.35286945104599,0.32111644744873047,2.9532952308654785,3.3116161823272705,4.7901105880737305,4.9534807205200195,-2.7650246620178223,0.023515939712524414,-0.08924168348312378,4.132203102111816,-3.3169941902160645,-1.430415153503418,-1.2428169250488281,-0.9602839350700378,0.8066017031669617,5.096758842468262,3.4243295192718506,0.8318295478820801,-3.4428513050079346,-3.0043654441833496,-2.150261878967285,-1.014682650566101,-0.9344648718833923,-0.9566317200660706,1.1658564805984497,-0.8845604062080383,0.9025858640670776,-0.8809413909912109,0.13712775707244873,0.7652997970581055,-2.1050829887390137,-1.3460723161697388,3.1971683502197266,3.891072988510132,-0.358493447303772,-2.3962655067443848,-0.13333958387374878,2.477949857711792,2.0839552879333496,1.4337520599365234,0.1493113934993744,-4.199881553649902,-1.4152389764785767],\"y\":[-0.02269723080098629,-0.007217392325401306,0.21683987975120544,-0.06122439727187157,0.02551107667386532,0.05321834236383438,-0.22067244350910187,0.25079548358917236,-0.0777716189622879,-0.13868878781795502,-0.06678775697946548,-0.2136428952217102,-0.2517271041870117,-0.06253424286842346,-0.12914849817752838,0.08952926099300385,0.273040771484375,0.35393786430358887,0.2592128813266754,-0.24914368987083435,0.21290244162082672,0.2601046562194824,0.3141436278820038,-0.020961087197065353,0.39360663294792175,0.1447618007659912,0.28828945755958557,0.31241458654403687,0.36017167568206787,0.26626187562942505,0.23621948063373566,-0.21083968877792358,0.16181844472885132,0.043499767780303955,0.12156285345554352,0.34818994998931885,0.0889679566025734,0.06825277954339981,-0.038001418113708496,-0.03809872642159462,0.18523260951042175,-0.08598195016384125,-0.02564994990825653,-0.08750346302986145,-0.06744293123483658,0.04242028295993805,-0.007192827761173248,-0.08793851733207703,0.10602737963199615,0.1460573822259903,0.22212782502174377,0.11642644554376602,0.10535178333520889,0.0066524893045425415,0.25616663694381714,0.2738812267780304,-0.21472252905368805,0.1279269903898239,0.18506981432437897,0.016538791358470917,0.1003207117319107,0.15850825607776642,0.17389647662639618,0.14783470332622528,0.25039857625961304,0.24107114970684052,0.0804978758096695,0.24512138962745667,0.29673323035240173,0.2719915509223938,-0.1328202486038208,-0.06810294091701508,-0.051776885986328125,0.2780889570713043,0.030238378793001175,9.394437074661255e-05,0.0035497136414051056,0.00658223545178771,-0.024308204650878906,0.02515861578285694,-0.07199440896511078,-0.07394362986087799,0.04916439205408096,-0.15977804362773895,0.04948298633098602,0.17402295768260956,0.03083505854010582,0.0303938165307045,0.08235487341880798,-0.09861154109239578,0.02883356809616089,-0.050524357706308365,0.16528648138046265,-0.14075598120689392,-0.12077564746141434,-0.3628769516944885,-0.41275396943092346,-0.09400872886180878,-0.17872187495231628,-0.20870640873908997,-0.0996347963809967,-0.21469084918498993,0.10958370566368103,0.15271781384944916,-0.03783717751502991,-0.002108961343765259,0.20103159546852112,0.09026075899600983,0.0506536141037941,0.18152305483818054,0.13792148232460022,0.11439946293830872,-0.4924408197402954,-0.054306816309690475,0.24151383340358734,0.010649655014276505,-0.03100436180830002,-0.25425511598587036,-0.09674733132123947,-0.12923409044742584,-0.12281599640846252,0.15590913593769073,-0.11266174167394638,-0.10231234133243561,-0.1753341406583786,-0.2106318324804306,-0.22799140214920044,-0.22186097502708435,-0.008078809827566147,0.01734292507171631,0.0024195071309804916,-0.4445480704307556,0.04546790570020676,0.08874533325433731,0.04983121156692505,0.0713605135679245,0.22153843939304352,-0.1405496448278427,-0.06161907687783241,-0.28465574979782104,0.328725129365921,0.317128986120224,0.25215595960617065,0.3592537045478821,0.22900663316249847,0.2263166904449463,-0.008280416950583458,0.13492918014526367,-0.4833546578884125,0.12935712933540344,-0.465570330619812,-0.822230339050293,0.15049239993095398,0.15180951356887817,0.28338778018951416,-0.32651835680007935,-0.7699631452560425,-0.6617442965507507,-0.038882672786712646,-0.06576817482709885,-0.055319830775260925,0.029805634170770645,0.06506314873695374,0.03998251259326935,0.02849458158016205],\"z\":[-0.6259534358978271,-2.0112080574035645,-1.6169897317886353,-0.018804995343089104,-1.398890495300293,-1.5020315647125244,-0.06478672474622726,-1.2854127883911133,0.26107773184776306,0.48101526498794556,-0.6294559240341187,-0.07973085343837738,2.2341413497924805,2.959912061691284,0.09198955446481705,0.6389332413673401,1.7146213054656982,-1.5720854997634888,-1.1691135168075562,1.4464598894119263,-1.0655180215835571,-1.4064373970031738,-0.5899629592895508,-0.7430453300476074,-1.448909044265747,-0.3947642147541046,-1.395993947982788,-1.5644348859786987,-1.4415491819381714,-1.4967446327209473,-1.4168566465377808,0.11062050610780716,-1.5025733709335327,2.180180788040161,-1.2096606492996216,-1.2222822904586792,-0.6224474310874939,-0.6229749321937561,2.6515817642211914,0.22910255193710327,-1.9885410070419312,0.4994273781776428,0.29146718978881836,0.15315395593643188,-0.6983036398887634,-1.2735430002212524,-1.182043433189392,-0.3822988271713257,-1.5829613208770752,-1.7921134233474731,-1.9087226390838623,-1.5780413150787354,-1.7105379104614258,-1.8278754949569702,-0.8935827016830444,-0.9839081168174744,2.2705588340759277,-0.8218976259231567,-1.415997862815857,0.11395318806171417,-1.368291974067688,-1.434346079826355,-0.965854287147522,0.0329008549451828,-1.0497677326202393,-1.146047592163086,-0.668433666229248,-1.1488443613052368,-1.3651847839355469,-1.6926286220550537,-0.3662630021572113,-0.5354233384132385,-0.7429128885269165,-1.333686351776123,-0.4357435405254364,-0.26990756392478943,-0.22622956335544586,-0.7744665741920471,2.3329436779022217,-0.8853849768638611,-0.17051385343074799,-0.18387442827224731,-0.722726047039032,-0.22386765480041504,-1.0865975618362427,-1.1870149374008179,-0.6184709668159485,-1.3269069194793701,-1.7547537088394165,-0.4397783875465393,-1.301986575126648,-0.323600709438324,-0.965795636177063,0.11810342967510223,-0.2080032229423523,1.70197594165802,1.5080652236938477,-0.321573406457901,0.5963672995567322,0.15875357389450073,-0.42475417256355286,0.23752571642398834,-1.376319408416748,-1.7711848020553589,-0.5854673981666565,-0.5635768175125122,-0.6070570349693298,-0.9656419157981873,-0.8695501089096069,-1.8131901025772095,-1.413840889930725,-1.1244473457336426,2.686849594116211,-0.2676960527896881,-1.2912307977676392,-1.3466274738311768,-1.1066513061523438,0.9939570426940918,-0.07081498950719833,0.005207570735365152,-0.04425918683409691,1.2914749383926392,1.838129997253418,1.8501781225204468,0.8168551325798035,0.6904395818710327,0.017272477969527245,-0.135447159409523,-1.1490519046783447,-1.148095965385437,-1.0472012758255005,1.8627870082855225,-1.1610256433486938,-1.4728754758834839,-1.2383031845092773,-1.6193757057189941,-0.3687993288040161,-0.08464117348194122,-0.498749315738678,1.8428467512130737,-1.3862802982330322,-1.5068855285644531,-1.3503378629684448,-1.4887340068817139,-0.6515887379646301,-0.6726614832878113,0.049496639519929886,-0.7778870463371277,3.4374642372131348,-0.7840431928634644,3.31127667427063,4.327725887298584,-0.8048294186592102,-0.824744701385498,1.743438959121704,1.137464165687561,3.8119280338287354,6.3555145263671875,-0.7761297225952148,-0.4843476712703705,-0.1734239161014557,-0.48877382278442383,-0.7759600281715393,-0.8362661600112915,-1.2391544580459595],\"type\":\"scatter3d\"},{\"line\":{\"color\":\"rgb(255, 0, 0)\",\"width\":10},\"marker\":{\"color\":\"rgb(255, 0, 0)\",\"colorscale\":[[0.0,\"#440154\"],[0.1111111111111111,\"#482878\"],[0.2222222222222222,\"#3e4989\"],[0.3333333333333333,\"#31688e\"],[0.4444444444444444,\"#26828e\"],[0.5555555555555556,\"#1f9e89\"],[0.6666666666666666,\"#35b779\"],[0.7777777777777778,\"#6ece58\"],[0.8888888888888888,\"#b5de2b\"],[1.0,\"#fde725\"]],\"size\":4},\"showlegend\":false,\"x\":[3.6154143810272217,-1.130441665649414],\"y\":[-0.18036767840385437,0.7321786284446716],\"z\":[1.9584215879440308,3.240650177001953],\"type\":\"scatter3d\"},{\"line\":{\"color\":\"rgb(255, 0, 0)\",\"width\":10},\"marker\":{\"color\":\"rgb(255, 0, 0)\",\"colorscale\":[[0.0,\"#440154\"],[0.1111111111111111,\"#482878\"],[0.2222222222222222,\"#3e4989\"],[0.3333333333333333,\"#31688e\"],[0.4444444444444444,\"#26828e\"],[0.5555555555555556,\"#1f9e89\"],[0.6666666666666666,\"#35b779\"],[0.7777777777777778,\"#6ece58\"],[0.8888888888888888,\"#b5de2b\"],[1.0,\"#fde725\"]],\"size\":4},\"showlegend\":false,\"x\":[3.5910754203796387,-1.2764759063720703],\"y\":[-0.14492997527122498,0.944804847240448],\"z\":[1.771091103553772,2.116666793823242],\"type\":\"scatter3d\"},{\"line\":{\"color\":\"rgb(255, 0, 0)\",\"width\":10},\"marker\":{\"color\":\"rgb(255, 0, 0)\",\"colorscale\":[[0.0,\"#440154\"],[0.1111111111111111,\"#482878\"],[0.2222222222222222,\"#3e4989\"],[0.3333333333333333,\"#31688e\"],[0.4444444444444444,\"#26828e\"],[0.5555555555555556,\"#1f9e89\"],[0.6666666666666666,\"#35b779\"],[0.7777777777777778,\"#6ece58\"],[0.8888888888888888,\"#b5de2b\"],[1.0,\"#fde725\"]],\"size\":4},\"showlegend\":false,\"x\":[3.7927937507629395,3.755906105041504],\"y\":[0.14729002118110657,1.2534582614898682],\"z\":[0.7913184762001038,5.667282581329346],\"type\":\"scatter3d\"},{\"line\":{\"color\":\"rgb(255, 0, 0)\",\"width\":10},\"marker\":{\"color\":\"rgb(255, 0, 0)\",\"colorscale\":[[0.0,\"#440154\"],[0.1111111111111111,\"#482878\"],[0.2222222222222222,\"#3e4989\"],[0.3333333333333333,\"#31688e\"],[0.4444444444444444,\"#26828e\"],[0.5555555555555556,\"#1f9e89\"],[0.6666666666666666,\"#35b779\"],[0.7777777777777778,\"#6ece58\"],[0.8888888888888888,\"#b5de2b\"],[1.0,\"#fde725\"]],\"size\":4},\"showlegend\":false,\"x\":[-1.6169376373291016,-1.2701771259307861],\"y\":[0.3978783190250397,1.0912054777145386],\"z\":[-0.18120545148849487,4.758334636688232],\"type\":\"scatter3d\"},{\"line\":{\"color\":\"rgb(255, 0, 0)\",\"width\":10},\"marker\":{\"color\":\"rgb(255, 0, 0)\",\"colorscale\":[[0.0,\"#440154\"],[0.1111111111111111,\"#482878\"],[0.2222222222222222,\"#3e4989\"],[0.3333333333333333,\"#31688e\"],[0.4444444444444444,\"#26828e\"],[0.5555555555555556,\"#1f9e89\"],[0.6666666666666666,\"#35b779\"],[0.7777777777777778,\"#6ece58\"],[0.8888888888888888,\"#b5de2b\"],[1.0,\"#fde725\"]],\"size\":4},\"showlegend\":false,\"x\":[-2.318216562271118,-1.4844176769256592],\"y\":[0.2501121163368225,-0.30018579959869385],\"z\":[-0.46171337366104126,4.437465667724609],\"type\":\"scatter3d\"},{\"line\":{\"color\":\"rgb(255, 0, 0)\",\"width\":10},\"marker\":{\"color\":\"rgb(255, 0, 0)\",\"colorscale\":[[0.0,\"#440154\"],[0.1111111111111111,\"#482878\"],[0.2222222222222222,\"#3e4989\"],[0.3333333333333333,\"#31688e\"],[0.4444444444444444,\"#26828e\"],[0.5555555555555556,\"#1f9e89\"],[0.6666666666666666,\"#35b779\"],[0.7777777777777778,\"#6ece58\"],[0.8888888888888888,\"#b5de2b\"],[1.0,\"#fde725\"]],\"size\":4},\"showlegend\":false,\"x\":[-2.3784866333007812,-1.8460384607315063],\"y\":[0.07468342781066895,-1.3527578115463257],\"z\":[-0.4891015887260437,4.273136138916016],\"type\":\"scatter3d\"},{\"line\":{\"color\":\"rgb(255, 0, 0)\",\"width\":10},\"marker\":{\"color\":\"rgb(255, 0, 0)\",\"colorscale\":[[0.0,\"#440154\"],[0.1111111111111111,\"#482878\"],[0.2222222222222222,\"#3e4989\"],[0.3333333333333333,\"#31688e\"],[0.4444444444444444,\"#26828e\"],[0.5555555555555556,\"#1f9e89\"],[0.6666666666666666,\"#35b779\"],[0.7777777777777778,\"#6ece58\"],[0.8888888888888888,\"#b5de2b\"],[1.0,\"#fde725\"]],\"size\":4},\"showlegend\":false,\"x\":[4.121050834655762,5.725449562072754],\"y\":[0.08558230102062225,0.8832119703292847],\"z\":[0.7497142553329468,5.417657375335693],\"type\":\"scatter3d\"},{\"line\":{\"color\":\"rgb(255, 0, 0)\",\"width\":10},\"marker\":{\"color\":\"rgb(255, 0, 0)\",\"colorscale\":[[0.0,\"#440154\"],[0.1111111111111111,\"#482878\"],[0.2222222222222222,\"#3e4989\"],[0.3333333333333333,\"#31688e\"],[0.4444444444444444,\"#26828e\"],[0.5555555555555556,\"#1f9e89\"],[0.6666666666666666,\"#35b779\"],[0.7777777777777778,\"#6ece58\"],[0.8888888888888888,\"#b5de2b\"],[1.0,\"#fde725\"]],\"size\":4},\"showlegend\":false,\"x\":[3.455401659011841,1.7315537929534912],\"y\":[-0.277576208114624,-1.295738935470581],\"z\":[0.7324594855308533,5.314128875732422],\"type\":\"scatter3d\"},{\"line\":{\"color\":\"rgb(255, 0, 0)\",\"width\":10},\"marker\":{\"color\":\"rgb(255, 0, 0)\",\"colorscale\":[[0.0,\"#440154\"],[0.1111111111111111,\"#482878\"],[0.2222222222222222,\"#3e4989\"],[0.3333333333333333,\"#31688e\"],[0.4444444444444444,\"#26828e\"],[0.5555555555555556,\"#1f9e89\"],[0.6666666666666666,\"#35b779\"],[0.7777777777777778,\"#6ece58\"],[0.8888888888888888,\"#b5de2b\"],[1.0,\"#fde725\"]],\"size\":4},\"showlegend\":false,\"x\":[-0.9037959575653076,-2.7929537296295166],\"y\":[0.24904261529445648,0.24226278066635132],\"z\":[-0.12389439344406128,4.505472183227539],\"type\":\"scatter3d\"},{\"line\":{\"color\":\"rgb(255, 0, 0)\",\"width\":10},\"marker\":{\"color\":\"rgb(255, 0, 0)\",\"colorscale\":[[0.0,\"#440154\"],[0.1111111111111111,\"#482878\"],[0.2222222222222222,\"#3e4989\"],[0.3333333333333333,\"#31688e\"],[0.4444444444444444,\"#26828e\"],[0.5555555555555556,\"#1f9e89\"],[0.6666666666666666,\"#35b779\"],[0.7777777777777778,\"#6ece58\"],[0.8888888888888888,\"#b5de2b\"],[1.0,\"#fde725\"]],\"size\":4},\"showlegend\":false,\"x\":[-1.100243091583252,-3.9716360569000244],\"y\":[0.3515505790710449,0.8573105335235596],\"z\":[-0.23738086223602295,3.8245532512664795],\"type\":\"scatter3d\"},{\"line\":{\"color\":\"rgb(255, 0, 0)\",\"width\":10},\"marker\":{\"color\":\"rgb(255, 0, 0)\",\"colorscale\":[[0.0,\"#440154\"],[0.1111111111111111,\"#482878\"],[0.2222222222222222,\"#3e4989\"],[0.3333333333333333,\"#31688e\"],[0.4444444444444444,\"#26828e\"],[0.5555555555555556,\"#1f9e89\"],[0.6666666666666666,\"#35b779\"],[0.7777777777777778,\"#6ece58\"],[0.8888888888888888,\"#b5de2b\"],[1.0,\"#fde725\"]],\"size\":4},\"showlegend\":false,\"x\":[3.7725210189819336,3.6342709064483643],\"y\":[-0.16448014974594116,-0.6171627044677734],\"z\":[0.8116347789764404,5.789180755615234],\"type\":\"scatter3d\"},{\"line\":{\"color\":\"rgb(255, 0, 0)\",\"width\":10},\"marker\":{\"color\":\"rgb(255, 0, 0)\",\"colorscale\":[[0.0,\"#440154\"],[0.1111111111111111,\"#482878\"],[0.2222222222222222,\"#3e4989\"],[0.3333333333333333,\"#31688e\"],[0.4444444444444444,\"#26828e\"],[0.5555555555555556,\"#1f9e89\"],[0.6666666666666666,\"#35b779\"],[0.7777777777777778,\"#6ece58\"],[0.8888888888888888,\"#b5de2b\"],[1.0,\"#fde725\"]],\"size\":4},\"showlegend\":false,\"x\":[-1.020065426826477,-3.490570306777954],\"y\":[0.4307911992073059,1.332754135131836],\"z\":[-0.19928401708602905,4.053134918212891],\"type\":\"scatter3d\"},{\"line\":{\"color\":\"rgb(255, 0, 0)\",\"width\":10},\"marker\":{\"color\":\"rgb(255, 0, 0)\",\"colorscale\":[[0.0,\"#440154\"],[0.1111111111111111,\"#482878\"],[0.2222222222222222,\"#3e4989\"],[0.3333333333333333,\"#31688e\"],[0.4444444444444444,\"#26828e\"],[0.5555555555555556,\"#1f9e89\"],[0.6666666666666666,\"#35b779\"],[0.7777777777777778,\"#6ece58\"],[0.8888888888888888,\"#b5de2b\"],[1.0,\"#fde725\"]],\"size\":4},\"showlegend\":false,\"x\":[3.4056546688079834,1.3432929515838623],\"y\":[-0.3115953207015991,-1.223401427268982],\"z\":[0.8977382779121399,5.360391616821289],\"type\":\"scatter3d\"},{\"line\":{\"color\":\"rgb(255, 0, 0)\",\"width\":10},\"marker\":{\"color\":\"rgb(255, 0, 0)\",\"colorscale\":[[0.0,\"#440154\"],[0.1111111111111111,\"#482878\"],[0.2222222222222222,\"#3e4989\"],[0.3333333333333333,\"#31688e\"],[0.4444444444444444,\"#26828e\"],[0.5555555555555556,\"#1f9e89\"],[0.6666666666666666,\"#35b779\"],[0.7777777777777778,\"#6ece58\"],[0.8888888888888888,\"#b5de2b\"],[1.0,\"#fde725\"]],\"size\":4},\"showlegend\":false,\"x\":[-0.8130481243133545,-2.2484664916992188],\"y\":[0.3897104263305664,1.0862696170806885],\"z\":[-0.10204672813415527,4.636558532714844],\"type\":\"scatter3d\"},{\"line\":{\"color\":\"rgb(255, 0, 0)\",\"width\":10},\"marker\":{\"color\":\"rgb(255, 0, 0)\",\"colorscale\":[[0.0,\"#440154\"],[0.1111111111111111,\"#482878\"],[0.2222222222222222,\"#3e4989\"],[0.3333333333333333,\"#31688e\"],[0.4444444444444444,\"#26828e\"],[0.5555555555555556,\"#1f9e89\"],[0.6666666666666666,\"#35b779\"],[0.7777777777777778,\"#6ece58\"],[0.8888888888888888,\"#b5de2b\"],[1.0,\"#fde725\"]],\"size\":4},\"showlegend\":false,\"x\":[-2.079252243041992,-0.05063199996948242],\"y\":[0.14982977509498596,-0.9018796682357788],\"z\":[-0.5520862340927124,3.895228385925293],\"type\":\"scatter3d\"},{\"line\":{\"color\":\"rgb(255, 0, 0)\",\"width\":10},\"marker\":{\"color\":\"rgb(255, 0, 0)\",\"colorscale\":[[0.0,\"#440154\"],[0.1111111111111111,\"#482878\"],[0.2222222222222222,\"#3e4989\"],[0.3333333333333333,\"#31688e\"],[0.4444444444444444,\"#26828e\"],[0.5555555555555556,\"#1f9e89\"],[0.6666666666666666,\"#35b779\"],[0.7777777777777778,\"#6ece58\"],[0.8888888888888888,\"#b5de2b\"],[1.0,\"#fde725\"]],\"size\":4},\"showlegend\":false,\"x\":[-2.373893976211548,-1.8184822797775269],\"y\":[0.20148207247257233,-0.591965913772583],\"z\":[-0.4604893922805786,4.444809436798096],\"type\":\"scatter3d\"},{\"line\":{\"color\":\"rgb(255, 0, 0)\",\"width\":10},\"marker\":{\"color\":\"rgb(255, 0, 0)\",\"colorscale\":[[0.0,\"#440154\"],[0.1111111111111111,\"#482878\"],[0.2222222222222222,\"#3e4989\"],[0.3333333333333333,\"#31688e\"],[0.4444444444444444,\"#26828e\"],[0.5555555555555556,\"#1f9e89\"],[0.6666666666666666,\"#35b779\"],[0.7777777777777778,\"#6ece58\"],[0.8888888888888888,\"#b5de2b\"],[1.0,\"#fde725\"]],\"size\":4},\"showlegend\":false,\"x\":[-1.0388758182525635,-3.6034328937530518],\"y\":[0.14581626653671265,-0.3770952820777893],\"z\":[-0.19772052764892578,4.0625152587890625],\"type\":\"scatter3d\"},{\"line\":{\"color\":\"rgb(255, 0, 0)\",\"width\":10},\"marker\":{\"color\":\"rgb(255, 0, 0)\",\"colorscale\":[[0.0,\"#440154\"],[0.1111111111111111,\"#482878\"],[0.2222222222222222,\"#3e4989\"],[0.3333333333333333,\"#31688e\"],[0.4444444444444444,\"#26828e\"],[0.5555555555555556,\"#1f9e89\"],[0.6666666666666666,\"#35b779\"],[0.7777777777777778,\"#6ece58\"],[0.8888888888888888,\"#b5de2b\"],[1.0,\"#fde725\"]],\"size\":4},\"showlegend\":false,\"x\":[-1.6311581134796143,-1.3554996252059937],\"y\":[0.16671282052993774,-0.2957874834537506],\"z\":[-0.17492836713790894,4.795997142791748],\"type\":\"scatter3d\"},{\"line\":{\"color\":\"rgb(255, 0, 0)\",\"width\":10},\"marker\":{\"color\":\"rgb(255, 0, 0)\",\"colorscale\":[[0.0,\"#440154\"],[0.1111111111111111,\"#482878\"],[0.2222222222222222,\"#3e4989\"],[0.3333333333333333,\"#31688e\"],[0.4444444444444444,\"#26828e\"],[0.5555555555555556,\"#1f9e89\"],[0.6666666666666666,\"#35b779\"],[0.7777777777777778,\"#6ece58\"],[0.8888888888888888,\"#b5de2b\"],[1.0,\"#fde725\"]],\"size\":4},\"showlegend\":false,\"x\":[3.9389541149139404,4.632868766784668],\"y\":[0.09440241754055023,0.9361326694488525],\"z\":[0.7920348644256592,5.671581268310547],\"type\":\"scatter3d\"},{\"line\":{\"color\":\"rgb(255, 0, 0)\",\"width\":10},\"marker\":{\"color\":\"rgb(255, 0, 0)\",\"colorscale\":[[0.0,\"#440154\"],[0.1111111111111111,\"#482878\"],[0.2222222222222222,\"#3e4989\"],[0.3333333333333333,\"#31688e\"],[0.4444444444444444,\"#26828e\"],[0.5555555555555556,\"#1f9e89\"],[0.6666666666666666,\"#35b779\"],[0.7777777777777778,\"#6ece58\"],[0.8888888888888888,\"#b5de2b\"],[1.0,\"#fde725\"]],\"size\":4},\"showlegend\":false,\"x\":[3.593783140182495,-1.2602300643920898],\"y\":[-0.15975284576416016,0.8558676838874817],\"z\":[1.8295799493789673,2.467599868774414],\"type\":\"scatter3d\"},{\"line\":{\"color\":\"rgb(255, 0, 0)\",\"width\":10},\"marker\":{\"color\":\"rgb(255, 0, 0)\",\"colorscale\":[[0.0,\"#440154\"],[0.1111111111111111,\"#482878\"],[0.2222222222222222,\"#3e4989\"],[0.3333333333333333,\"#31688e\"],[0.4444444444444444,\"#26828e\"],[0.5555555555555556,\"#1f9e89\"],[0.6666666666666666,\"#35b779\"],[0.7777777777777778,\"#6ece58\"],[0.8888888888888888,\"#b5de2b\"],[1.0,\"#fde725\"]],\"size\":4},\"showlegend\":false,\"x\":[-1.446848750114441,-0.24964332580566406],\"y\":[0.14292669296264648,-0.43850430846214294],\"z\":[-0.2051914930343628,4.6144185066223145],\"type\":\"scatter3d\"},{\"line\":{\"color\":\"rgb(255, 0, 0)\",\"width\":10},\"marker\":{\"color\":\"rgb(255, 0, 0)\",\"colorscale\":[[0.0,\"#440154\"],[0.1111111111111111,\"#482878\"],[0.2222222222222222,\"#3e4989\"],[0.3333333333333333,\"#31688e\"],[0.4444444444444444,\"#26828e\"],[0.5555555555555556,\"#1f9e89\"],[0.6666666666666666,\"#35b779\"],[0.7777777777777778,\"#6ece58\"],[0.8888888888888888,\"#b5de2b\"],[1.0,\"#fde725\"]],\"size\":4},\"showlegend\":false,\"x\":[3.4888501167297363,1.8424657583236694],\"y\":[-0.32929059863090515,-1.329573154449463],\"z\":[0.9280045628547668,5.541989326477051],\"type\":\"scatter3d\"},{\"line\":{\"color\":\"rgb(255, 0, 0)\",\"width\":10},\"marker\":{\"color\":\"rgb(255, 0, 0)\",\"colorscale\":[[0.0,\"#440154\"],[0.1111111111111111,\"#482878\"],[0.2222222222222222,\"#3e4989\"],[0.3333333333333333,\"#31688e\"],[0.4444444444444444,\"#26828e\"],[0.5555555555555556,\"#1f9e89\"],[0.6666666666666666,\"#35b779\"],[0.7777777777777778,\"#6ece58\"],[0.8888888888888888,\"#b5de2b\"],[1.0,\"#fde725\"]],\"size\":4},\"showlegend\":false,\"x\":[3.9883968830108643,4.929524898529053],\"y\":[-0.2211797833442688,-0.9573605060577393],\"z\":[0.7871521711349487,5.642284870147705],\"type\":\"scatter3d\"},{\"line\":{\"color\":\"rgb(255, 0, 0)\",\"width\":10},\"marker\":{\"color\":\"rgb(255, 0, 0)\",\"colorscale\":[[0.0,\"#440154\"],[0.1111111111111111,\"#482878\"],[0.2222222222222222,\"#3e4989\"],[0.3333333333333333,\"#31688e\"],[0.4444444444444444,\"#26828e\"],[0.5555555555555556,\"#1f9e89\"],[0.6666666666666666,\"#35b779\"],[0.7777777777777778,\"#6ece58\"],[0.8888888888888888,\"#b5de2b\"],[1.0,\"#fde725\"]],\"size\":4},\"showlegend\":false,\"x\":[-1.4305938482284546,-0.1521141529083252],\"y\":[0.3497944474220276,0.8027023077011108],\"z\":[-0.20660918951034546,4.605912208557129],\"type\":\"scatter3d\"},{\"line\":{\"color\":\"rgb(255, 0, 0)\",\"width\":10},\"marker\":{\"color\":\"rgb(255, 0, 0)\",\"colorscale\":[[0.0,\"#440154\"],[0.1111111111111111,\"#482878\"],[0.2222222222222222,\"#3e4989\"],[0.3333333333333333,\"#31688e\"],[0.4444444444444444,\"#26828e\"],[0.5555555555555556,\"#1f9e89\"],[0.6666666666666666,\"#35b779\"],[0.7777777777777778,\"#6ece58\"],[0.8888888888888888,\"#b5de2b\"],[1.0,\"#fde725\"]],\"size\":4},\"showlegend\":false,\"x\":[-2.351006507873535,-1.6811578273773193],\"y\":[0.08429938554763794,-1.2950620651245117],\"z\":[-0.48973697423934937,4.269323825836182],\"type\":\"scatter3d\"},{\"line\":{\"color\":\"rgb(255, 0, 0)\",\"width\":10},\"marker\":{\"color\":\"rgb(255, 0, 0)\",\"colorscale\":[[0.0,\"#440154\"],[0.1111111111111111,\"#482878\"],[0.2222222222222222,\"#3e4989\"],[0.3333333333333333,\"#31688e\"],[0.4444444444444444,\"#26828e\"],[0.5555555555555556,\"#1f9e89\"],[0.6666666666666666,\"#35b779\"],[0.7777777777777778,\"#6ece58\"],[0.8888888888888888,\"#b5de2b\"],[1.0,\"#fde725\"]],\"size\":4},\"showlegend\":false,\"x\":[3.4759016036987305,1.7647755146026611],\"y\":[-0.15074323117733002,-0.2582889199256897],\"z\":[0.9445793628692627,5.641438007354736],\"type\":\"scatter3d\"},{\"line\":{\"color\":\"rgb(255, 0, 0)\",\"width\":10},\"marker\":{\"color\":\"rgb(255, 0, 0)\",\"colorscale\":[[0.0,\"#440154\"],[0.1111111111111111,\"#482878\"],[0.2222222222222222,\"#3e4989\"],[0.3333333333333333,\"#31688e\"],[0.4444444444444444,\"#26828e\"],[0.5555555555555556,\"#1f9e89\"],[0.6666666666666666,\"#35b779\"],[0.7777777777777778,\"#6ece58\"],[0.8888888888888888,\"#b5de2b\"],[1.0,\"#fde725\"]],\"size\":4},\"showlegend\":false,\"x\":[3.6637046337127686,-0.8407011032104492],\"y\":[-0.193550705909729,0.6530805230140686],\"z\":[2.1016530990600586,4.100038528442383],\"type\":\"scatter3d\"},{\"line\":{\"color\":\"rgb(255, 0, 0)\",\"width\":10},\"marker\":{\"color\":\"rgb(255, 0, 0)\",\"colorscale\":[[0.0,\"#440154\"],[0.1111111111111111,\"#482878\"],[0.2222222222222222,\"#3e4989\"],[0.3333333333333333,\"#31688e\"],[0.4444444444444444,\"#26828e\"],[0.5555555555555556,\"#1f9e89\"],[0.6666666666666666,\"#35b779\"],[0.7777777777777778,\"#6ece58\"],[0.8888888888888888,\"#b5de2b\"],[1.0,\"#fde725\"]],\"size\":4},\"showlegend\":false,\"x\":[3.702563762664795,3.1247477531433105],\"y\":[-0.13121438026428223,-0.14111584424972534],\"z\":[0.9985057711601257,5.964996814727783],\"type\":\"scatter3d\"},{\"line\":{\"color\":\"rgb(255, 0, 0)\",\"width\":10},\"marker\":{\"color\":\"rgb(255, 0, 0)\",\"colorscale\":[[0.0,\"#440154\"],[0.1111111111111111,\"#482878\"],[0.2222222222222222,\"#3e4989\"],[0.3333333333333333,\"#31688e\"],[0.4444444444444444,\"#26828e\"],[0.5555555555555556,\"#1f9e89\"],[0.6666666666666666,\"#35b779\"],[0.7777777777777778,\"#6ece58\"],[0.8888888888888888,\"#b5de2b\"],[1.0,\"#fde725\"]],\"size\":4},\"showlegend\":false,\"x\":[0.4080146551132202,-1.476891279220581],\"y\":[0.12125931680202484,-0.03603313863277435],\"z\":[-0.8454982042312622,3.7829346656799316],\"type\":\"scatter3d\"},{\"line\":{\"color\":\"rgb(255, 0, 0)\",\"width\":10},\"marker\":{\"color\":\"rgb(255, 0, 0)\",\"colorscale\":[[0.0,\"#440154\"],[0.1111111111111111,\"#482878\"],[0.2222222222222222,\"#3e4989\"],[0.3333333333333333,\"#31688e\"],[0.4444444444444444,\"#26828e\"],[0.5555555555555556,\"#1f9e89\"],[0.6666666666666666,\"#35b779\"],[0.7777777777777778,\"#6ece58\"],[0.8888888888888888,\"#b5de2b\"],[1.0,\"#fde725\"]],\"size\":4},\"showlegend\":false,\"x\":[-2.169994592666626,-0.595085620880127],\"y\":[0.207540363073349,-0.5556161999702454],\"z\":[-0.504804790019989,4.178916931152344],\"type\":\"scatter3d\"},{\"line\":{\"color\":\"rgb(255, 0, 0)\",\"width\":10},\"marker\":{\"color\":\"rgb(255, 0, 0)\",\"colorscale\":[[0.0,\"#440154\"],[0.1111111111111111,\"#482878\"],[0.2222222222222222,\"#3e4989\"],[0.3333333333333333,\"#31688e\"],[0.4444444444444444,\"#26828e\"],[0.5555555555555556,\"#1f9e89\"],[0.6666666666666666,\"#35b779\"],[0.7777777777777778,\"#6ece58\"],[0.8888888888888888,\"#b5de2b\"],[1.0,\"#fde725\"]],\"size\":4},\"showlegend\":false,\"x\":[-1.3905425071716309,-5.713432788848877],\"y\":[0.46384674310684204,1.5310873985290527],\"z\":[-0.5948560237884521,1.6797022819519043],\"type\":\"scatter3d\"},{\"line\":{\"color\":\"rgb(255, 0, 0)\",\"width\":10},\"marker\":{\"color\":\"rgb(255, 0, 0)\",\"colorscale\":[[0.0,\"#440154\"],[0.1111111111111111,\"#482878\"],[0.2222222222222222,\"#3e4989\"],[0.3333333333333333,\"#31688e\"],[0.4444444444444444,\"#26828e\"],[0.5555555555555556,\"#1f9e89\"],[0.6666666666666666,\"#35b779\"],[0.7777777777777778,\"#6ece58\"],[0.8888888888888888,\"#b5de2b\"],[1.0,\"#fde725\"]],\"size\":4},\"showlegend\":false,\"x\":[3.6305694580078125,-1.0395116806030273],\"y\":[-0.25658655166625977,0.27486538887023926],\"z\":[2.043027400970459,3.748284339904785],\"type\":\"scatter3d\"},{\"line\":{\"color\":\"rgb(255, 0, 0)\",\"width\":10},\"marker\":{\"color\":\"rgb(255, 0, 0)\",\"colorscale\":[[0.0,\"#440154\"],[0.1111111111111111,\"#482878\"],[0.2222222222222222,\"#3e4989\"],[0.3333333333333333,\"#31688e\"],[0.4444444444444444,\"#26828e\"],[0.5555555555555556,\"#1f9e89\"],[0.6666666666666666,\"#35b779\"],[0.7777777777777778,\"#6ece58\"],[0.8888888888888888,\"#b5de2b\"],[1.0,\"#fde725\"]],\"size\":4},\"showlegend\":false,\"x\":[0.11006754636764526,-3.2645742893218994],\"y\":[0.4392663836479187,1.8720091581344604],\"z\":[-1.0912129878997803,2.3086462020874023],\"type\":\"scatter3d\"},{\"line\":{\"color\":\"rgb(255, 0, 0)\",\"width\":10},\"marker\":{\"color\":\"rgb(255, 0, 0)\",\"colorscale\":[[0.0,\"#440154\"],[0.1111111111111111,\"#482878\"],[0.2222222222222222,\"#3e4989\"],[0.3333333333333333,\"#31688e\"],[0.4444444444444444,\"#26828e\"],[0.5555555555555556,\"#1f9e89\"],[0.6666666666666666,\"#35b779\"],[0.7777777777777778,\"#6ece58\"],[0.8888888888888888,\"#b5de2b\"],[1.0,\"#fde725\"]],\"size\":4},\"showlegend\":false,\"x\":[3.754448413848877,3.525834083557129],\"y\":[-0.1677413433790207,-0.636729896068573],\"z\":[0.8106664419174194,5.783370494842529],\"type\":\"scatter3d\"},{\"line\":{\"color\":\"rgb(255, 0, 0)\",\"width\":10},\"marker\":{\"color\":\"rgb(255, 0, 0)\",\"colorscale\":[[0.0,\"#440154\"],[0.1111111111111111,\"#482878\"],[0.2222222222222222,\"#3e4989\"],[0.3333333333333333,\"#31688e\"],[0.4444444444444444,\"#26828e\"],[0.5555555555555556,\"#1f9e89\"],[0.6666666666666666,\"#35b779\"],[0.7777777777777778,\"#6ece58\"],[0.8888888888888888,\"#b5de2b\"],[1.0,\"#fde725\"]],\"size\":4},\"showlegend\":false,\"x\":[-1.4045445919036865,0.0041817426681518555],\"y\":[0.3239462375640869,0.6476130485534668],\"z\":[-0.2118104100227356,4.574705123901367],\"type\":\"scatter3d\"},{\"line\":{\"color\":\"rgb(255, 0, 0)\",\"width\":10},\"marker\":{\"color\":\"rgb(255, 0, 0)\",\"colorscale\":[[0.0,\"#440154\"],[0.1111111111111111,\"#482878\"],[0.2222222222222222,\"#3e4989\"],[0.3333333333333333,\"#31688e\"],[0.4444444444444444,\"#26828e\"],[0.5555555555555556,\"#1f9e89\"],[0.6666666666666666,\"#35b779\"],[0.7777777777777778,\"#6ece58\"],[0.8888888888888888,\"#b5de2b\"],[1.0,\"#fde725\"]],\"size\":4},\"showlegend\":false,\"x\":[3.2817296981811523,0.5997436046600342],\"y\":[-0.0893968790769577,0.10978914797306061],\"z\":[0.8482325673103333,5.063357353210449],\"type\":\"scatter3d\"},{\"line\":{\"color\":\"rgb(255, 0, 0)\",\"width\":10},\"marker\":{\"color\":\"rgb(255, 0, 0)\",\"colorscale\":[[0.0,\"#440154\"],[0.1111111111111111,\"#482878\"],[0.2222222222222222,\"#3e4989\"],[0.3333333333333333,\"#31688e\"],[0.4444444444444444,\"#26828e\"],[0.5555555555555556,\"#1f9e89\"],[0.6666666666666666,\"#35b779\"],[0.7777777777777778,\"#6ece58\"],[0.8888888888888888,\"#b5de2b\"],[1.0,\"#fde725\"]],\"size\":4},\"showlegend\":false,\"x\":[-0.022557556629180908,-4.060324668884277],\"y\":[0.1366623491048813,0.056385040283203125],\"z\":[-1.1816089153289795,1.7662702798843384],\"type\":\"scatter3d\"},{\"line\":{\"color\":\"rgb(255, 0, 0)\",\"width\":10},\"marker\":{\"color\":\"rgb(255, 0, 0)\",\"colorscale\":[[0.0,\"#440154\"],[0.1111111111111111,\"#482878\"],[0.2222222222222222,\"#3e4989\"],[0.3333333333333333,\"#31688e\"],[0.4444444444444444,\"#26828e\"],[0.5555555555555556,\"#1f9e89\"],[0.6666666666666666,\"#35b779\"],[0.7777777777777778,\"#6ece58\"],[0.8888888888888888,\"#b5de2b\"],[1.0,\"#fde725\"]],\"size\":4},\"showlegend\":false,\"x\":[3.468932628631592,1.722961187362671],\"y\":[-0.27083683013916016,-0.9788504242897034],\"z\":[0.9314969182014465,5.562943458557129],\"type\":\"scatter3d\"},{\"line\":{\"color\":\"rgb(255, 0, 0)\",\"width\":10},\"marker\":{\"color\":\"rgb(255, 0, 0)\",\"colorscale\":[[0.0,\"#440154\"],[0.1111111111111111,\"#482878\"],[0.2222222222222222,\"#3e4989\"],[0.3333333333333333,\"#31688e\"],[0.4444444444444444,\"#26828e\"],[0.5555555555555556,\"#1f9e89\"],[0.6666666666666666,\"#35b779\"],[0.7777777777777778,\"#6ece58\"],[0.8888888888888888,\"#b5de2b\"],[1.0,\"#fde725\"]],\"size\":4},\"showlegend\":false,\"x\":[-2.337939739227295,-1.6027568578720093],\"y\":[0.19729743897914886,-0.6170737743377686],\"z\":[-0.46591997146606445,4.412225723266602],\"type\":\"scatter3d\"},{\"line\":{\"color\":\"rgb(255, 0, 0)\",\"width\":10},\"marker\":{\"color\":\"rgb(255, 0, 0)\",\"colorscale\":[[0.0,\"#440154\"],[0.1111111111111111,\"#482878\"],[0.2222222222222222,\"#3e4989\"],[0.3333333333333333,\"#31688e\"],[0.4444444444444444,\"#26828e\"],[0.5555555555555556,\"#1f9e89\"],[0.6666666666666666,\"#35b779\"],[0.7777777777777778,\"#6ece58\"],[0.8888888888888888,\"#b5de2b\"],[1.0,\"#fde725\"]],\"size\":4},\"showlegend\":false,\"x\":[2.0077943801879883,-1.5215578079223633],\"y\":[0.2605786919593811,1.545723557472229],\"z\":[0.4338332414627075,3.734147071838379],\"type\":\"scatter3d\"},{\"line\":{\"color\":\"rgb(255, 0, 0)\",\"width\":10},\"marker\":{\"color\":\"rgb(255, 0, 0)\",\"colorscale\":[[0.0,\"#440154\"],[0.1111111111111111,\"#482878\"],[0.2222222222222222,\"#3e4989\"],[0.3333333333333333,\"#31688e\"],[0.4444444444444444,\"#26828e\"],[0.5555555555555556,\"#1f9e89\"],[0.6666666666666666,\"#35b779\"],[0.7777777777777778,\"#6ece58\"],[0.8888888888888888,\"#b5de2b\"],[1.0,\"#fde725\"]],\"size\":4},\"showlegend\":false,\"x\":[-1.438315987586975,-6.000073432922363],\"y\":[0.22751906514167786,0.11312155425548553],\"z\":[-0.640999972820282,1.402838945388794],\"type\":\"scatter3d\"},{\"line\":{\"color\":\"rgb(255, 0, 0)\",\"width\":10},\"marker\":{\"color\":\"rgb(255, 0, 0)\",\"colorscale\":[[0.0,\"#440154\"],[0.1111111111111111,\"#482878\"],[0.2222222222222222,\"#3e4989\"],[0.3333333333333333,\"#31688e\"],[0.4444444444444444,\"#26828e\"],[0.5555555555555556,\"#1f9e89\"],[0.6666666666666666,\"#35b779\"],[0.7777777777777778,\"#6ece58\"],[0.8888888888888888,\"#b5de2b\"],[1.0,\"#fde725\"]],\"size\":4},\"showlegend\":false,\"x\":[3.6671810150146484,-0.8198413848876953],\"y\":[-0.33984634280204773,-0.22469331324100494],\"z\":[2.1425833702087402,4.345620155334473],\"type\":\"scatter3d\"},{\"line\":{\"color\":\"rgb(255, 0, 0)\",\"width\":10},\"marker\":{\"color\":\"rgb(255, 0, 0)\",\"colorscale\":[[0.0,\"#440154\"],[0.1111111111111111,\"#482878\"],[0.2222222222222222,\"#3e4989\"],[0.3333333333333333,\"#31688e\"],[0.4444444444444444,\"#26828e\"],[0.5555555555555556,\"#1f9e89\"],[0.6666666666666666,\"#35b779\"],[0.7777777777777778,\"#6ece58\"],[0.8888888888888888,\"#b5de2b\"],[1.0,\"#fde725\"]],\"size\":4},\"showlegend\":false,\"x\":[3.5932860374450684,-1.263211727142334],\"y\":[-0.23982523381710052,0.37543338537216187],\"z\":[1.905532717704773,2.923316478729248],\"type\":\"scatter3d\"},{\"line\":{\"color\":\"rgb(255, 0, 0)\",\"width\":10},\"marker\":{\"color\":\"rgb(255, 0, 0)\",\"colorscale\":[[0.0,\"#440154\"],[0.1111111111111111,\"#482878\"],[0.2222222222222222,\"#3e4989\"],[0.3333333333333333,\"#31688e\"],[0.4444444444444444,\"#26828e\"],[0.5555555555555556,\"#1f9e89\"],[0.6666666666666666,\"#35b779\"],[0.7777777777777778,\"#6ece58\"],[0.8888888888888888,\"#b5de2b\"],[1.0,\"#fde725\"]],\"size\":4},\"showlegend\":false,\"x\":[-0.8573349714279175,-2.5141875743865967],\"y\":[0.24129177629947662,0.19575780630111694],\"z\":[-0.10631096363067627,4.610973358154297],\"type\":\"scatter3d\"},{\"line\":{\"color\":\"rgb(255, 0, 0)\",\"width\":10},\"marker\":{\"color\":\"rgb(255, 0, 0)\",\"colorscale\":[[0.0,\"#440154\"],[0.1111111111111111,\"#482878\"],[0.2222222222222222,\"#3e4989\"],[0.3333333333333333,\"#31688e\"],[0.4444444444444444,\"#26828e\"],[0.5555555555555556,\"#1f9e89\"],[0.6666666666666666,\"#35b779\"],[0.7777777777777778,\"#6ece58\"],[0.8888888888888888,\"#b5de2b\"],[1.0,\"#fde725\"]],\"size\":4},\"showlegend\":false,\"x\":[0.19062435626983643,-2.781233072280884],\"y\":[0.44794464111328125,1.9240787029266357],\"z\":[-1.0231449604034424,2.7170543670654297],\"type\":\"scatter3d\"},{\"line\":{\"color\":\"rgb(255, 0, 0)\",\"width\":10},\"marker\":{\"color\":\"rgb(255, 0, 0)\",\"colorscale\":[[0.0,\"#440154\"],[0.1111111111111111,\"#482878\"],[0.2222222222222222,\"#3e4989\"],[0.3333333333333333,\"#31688e\"],[0.4444444444444444,\"#26828e\"],[0.5555555555555556,\"#1f9e89\"],[0.6666666666666666,\"#35b779\"],[0.7777777777777778,\"#6ece58\"],[0.8888888888888888,\"#b5de2b\"],[1.0,\"#fde725\"]],\"size\":4},\"showlegend\":false,\"x\":[1.9099631309509277,-2.108546257019043],\"y\":[0.0628596842288971,0.3594095706939697],\"z\":[0.36583930253982544,3.326183319091797],\"type\":\"scatter3d\"},{\"line\":{\"color\":\"rgb(255, 0, 0)\",\"width\":10},\"marker\":{\"color\":\"rgb(255, 0, 0)\",\"colorscale\":[[0.0,\"#440154\"],[0.1111111111111111,\"#482878\"],[0.2222222222222222,\"#3e4989\"],[0.3333333333333333,\"#31688e\"],[0.4444444444444444,\"#26828e\"],[0.5555555555555556,\"#1f9e89\"],[0.6666666666666666,\"#35b779\"],[0.7777777777777778,\"#6ece58\"],[0.8888888888888888,\"#b5de2b\"],[1.0,\"#fde725\"]],\"size\":4},\"showlegend\":false,\"x\":[-1.9905409812927246,0.48163509368896484],\"y\":[0.1887534111738205,-0.6683379411697388],\"z\":[-0.5894051194190979,3.6713151931762695],\"type\":\"scatter3d\"},{\"line\":{\"color\":\"rgb(255, 0, 0)\",\"width\":10},\"marker\":{\"color\":\"rgb(255, 0, 0)\",\"colorscale\":[[0.0,\"#440154\"],[0.1111111111111111,\"#482878\"],[0.2222222222222222,\"#3e4989\"],[0.3333333333333333,\"#31688e\"],[0.4444444444444444,\"#26828e\"],[0.5555555555555556,\"#1f9e89\"],[0.6666666666666666,\"#35b779\"],[0.7777777777777778,\"#6ece58\"],[0.8888888888888888,\"#b5de2b\"],[1.0,\"#fde725\"]],\"size\":4},\"showlegend\":false,\"x\":[3.873030662536621,4.237328052520752],\"y\":[-0.2838485836982727,-1.3333733081817627],\"z\":[0.7911288738250732,5.666145324707031],\"type\":\"scatter3d\"},{\"line\":{\"color\":\"rgb(255, 0, 0)\",\"width\":10},\"marker\":{\"color\":\"rgb(255, 0, 0)\",\"colorscale\":[[0.0,\"#440154\"],[0.1111111111111111,\"#482878\"],[0.2222222222222222,\"#3e4989\"],[0.3333333333333333,\"#31688e\"],[0.4444444444444444,\"#26828e\"],[0.5555555555555556,\"#1f9e89\"],[0.6666666666666666,\"#35b779\"],[0.7777777777777778,\"#6ece58\"],[0.8888888888888888,\"#b5de2b\"],[1.0,\"#fde725\"]],\"size\":4},\"showlegend\":false,\"x\":[3.4635465145111084,1.6906442642211914],\"y\":[-0.3338582515716553,-1.3569790124893188],\"z\":[0.9175681471824646,5.479370594024658],\"type\":\"scatter3d\"},{\"line\":{\"color\":\"rgb(255, 0, 0)\",\"width\":10},\"marker\":{\"color\":\"rgb(255, 0, 0)\",\"colorscale\":[[0.0,\"#440154\"],[0.1111111111111111,\"#482878\"],[0.2222222222222222,\"#3e4989\"],[0.3333333333333333,\"#31688e\"],[0.4444444444444444,\"#26828e\"],[0.5555555555555556,\"#1f9e89\"],[0.6666666666666666,\"#35b779\"],[0.7777777777777778,\"#6ece58\"],[0.8888888888888888,\"#b5de2b\"],[1.0,\"#fde725\"]],\"size\":4},\"showlegend\":false,\"x\":[2.3071346282958984,0.27448320388793945],\"y\":[0.05379800125956535,0.3050394356250763],\"z\":[0.6860249638557434,5.247297286987305],\"type\":\"scatter3d\"},{\"line\":{\"color\":\"rgb(255, 0, 0)\",\"width\":10},\"marker\":{\"color\":\"rgb(255, 0, 0)\",\"colorscale\":[[0.0,\"#440154\"],[0.1111111111111111,\"#482878\"],[0.2222222222222222,\"#3e4989\"],[0.3333333333333333,\"#31688e\"],[0.4444444444444444,\"#26828e\"],[0.5555555555555556,\"#1f9e89\"],[0.6666666666666666,\"#35b779\"],[0.7777777777777778,\"#6ece58\"],[0.8888888888888888,\"#b5de2b\"],[1.0,\"#fde725\"]],\"size\":4},\"showlegend\":false,\"x\":[3.718177080154419,-0.5138654708862305],\"y\":[-0.2566904127597809,0.2742422819137573],\"z\":[2.22381591796875,4.8330159187316895],\"type\":\"scatter3d\"},{\"line\":{\"color\":\"rgb(255, 0, 0)\",\"width\":10},\"marker\":{\"color\":\"rgb(255, 0, 0)\",\"colorscale\":[[0.0,\"#440154\"],[0.1111111111111111,\"#482878\"],[0.2222222222222222,\"#3e4989\"],[0.3333333333333333,\"#31688e\"],[0.4444444444444444,\"#26828e\"],[0.5555555555555556,\"#1f9e89\"],[0.6666666666666666,\"#35b779\"],[0.7777777777777778,\"#6ece58\"],[0.8888888888888888,\"#b5de2b\"],[1.0,\"#fde725\"]],\"size\":4},\"showlegend\":false,\"x\":[3.96914005279541,4.813983917236328],\"y\":[0.11297598481178284,1.0475740432739258],\"z\":[0.7838603854179382,5.622534275054932],\"type\":\"scatter3d\"},{\"line\":{\"color\":\"rgb(255, 0, 0)\",\"width\":10},\"marker\":{\"color\":\"rgb(255, 0, 0)\",\"colorscale\":[[0.0,\"#440154\"],[0.1111111111111111,\"#482878\"],[0.2222222222222222,\"#3e4989\"],[0.3333333333333333,\"#31688e\"],[0.4444444444444444,\"#26828e\"],[0.5555555555555556,\"#1f9e89\"],[0.6666666666666666,\"#35b779\"],[0.7777777777777778,\"#6ece58\"],[0.8888888888888888,\"#b5de2b\"],[1.0,\"#fde725\"]],\"size\":4},\"showlegend\":false,\"x\":[3.655548095703125,2.9324331283569336],\"y\":[-0.068553626537323,-0.04160361364483833],\"z\":[0.805597722530365,5.752958297729492],\"type\":\"scatter3d\"},{\"line\":{\"color\":\"rgb(255, 0, 0)\",\"width\":10},\"marker\":{\"color\":\"rgb(255, 0, 0)\",\"colorscale\":[[0.0,\"#440154\"],[0.1111111111111111,\"#482878\"],[0.2222222222222222,\"#3e4989\"],[0.3333333333333333,\"#31688e\"],[0.4444444444444444,\"#26828e\"],[0.5555555555555556,\"#1f9e89\"],[0.6666666666666666,\"#35b779\"],[0.7777777777777778,\"#6ece58\"],[0.8888888888888888,\"#b5de2b\"],[1.0,\"#fde725\"]],\"size\":4},\"showlegend\":false,\"x\":[2.079613447189331,-1.0906438827514648],\"y\":[0.1339007318019867,0.7856558561325073],\"z\":[0.5359956622123718,4.347121715545654],\"type\":\"scatter3d\"},{\"line\":{\"color\":\"rgb(255, 0, 0)\",\"width\":10},\"marker\":{\"color\":\"rgb(255, 0, 0)\",\"colorscale\":[[0.0,\"#440154\"],[0.1111111111111111,\"#482878\"],[0.2222222222222222,\"#3e4989\"],[0.3333333333333333,\"#31688e\"],[0.4444444444444444,\"#26828e\"],[0.5555555555555556,\"#1f9e89\"],[0.6666666666666666,\"#35b779\"],[0.7777777777777778,\"#6ece58\"],[0.8888888888888888,\"#b5de2b\"],[1.0,\"#fde725\"]],\"size\":4},\"showlegend\":false,\"x\":[-1.4136720895767212,-5.85221004486084],\"y\":[0.06954985857009888,-0.8346937298774719],\"z\":[-0.6263661980628967,1.4906413555145264],\"type\":\"scatter3d\"},{\"line\":{\"color\":\"rgb(255, 0, 0)\",\"width\":10},\"marker\":{\"color\":\"rgb(255, 0, 0)\",\"colorscale\":[[0.0,\"#440154\"],[0.1111111111111111,\"#482878\"],[0.2222222222222222,\"#3e4989\"],[0.3333333333333333,\"#31688e\"],[0.4444444444444444,\"#26828e\"],[0.5555555555555556,\"#1f9e89\"],[0.6666666666666666,\"#35b779\"],[0.7777777777777778,\"#6ece58\"],[0.8888888888888888,\"#b5de2b\"],[1.0,\"#fde725\"]],\"size\":4},\"showlegend\":false,\"x\":[3.4549055099487305,1.6387989521026611],\"y\":[-0.1411500871181488,-0.20073005557060242],\"z\":[0.9368342161178589,5.594967365264893],\"type\":\"scatter3d\"},{\"line\":{\"color\":\"rgb(255, 0, 0)\",\"width\":10},\"marker\":{\"color\":\"rgb(255, 0, 0)\",\"colorscale\":[[0.0,\"#440154\"],[0.1111111111111111,\"#482878\"],[0.2222222222222222,\"#3e4989\"],[0.3333333333333333,\"#31688e\"],[0.4444444444444444,\"#26828e\"],[0.5555555555555556,\"#1f9e89\"],[0.6666666666666666,\"#35b779\"],[0.7777777777777778,\"#6ece58\"],[0.8888888888888888,\"#b5de2b\"],[1.0,\"#fde725\"]],\"size\":4},\"showlegend\":false,\"x\":[3.3416547775268555,0.9592933654785156],\"y\":[-0.15238726139068604,-0.2681530714035034],\"z\":[0.8840922117233276,5.278515338897705],\"type\":\"scatter3d\"},{\"line\":{\"color\":\"rgb(255, 0, 0)\",\"width\":10},\"marker\":{\"color\":\"rgb(255, 0, 0)\",\"colorscale\":[[0.0,\"#440154\"],[0.1111111111111111,\"#482878\"],[0.2222222222222222,\"#3e4989\"],[0.3333333333333333,\"#31688e\"],[0.4444444444444444,\"#26828e\"],[0.5555555555555556,\"#1f9e89\"],[0.6666666666666666,\"#35b779\"],[0.7777777777777778,\"#6ece58\"],[0.8888888888888888,\"#b5de2b\"],[1.0,\"#fde725\"]],\"size\":4},\"showlegend\":false,\"x\":[0.15483307838439941,-2.995980978012085],\"y\":[0.35909318923950195,1.39096999168396],\"z\":[-1.0226502418518066,2.720022201538086],\"type\":\"scatter3d\"},{\"line\":{\"color\":\"rgb(255, 0, 0)\",\"width\":10},\"marker\":{\"color\":\"rgb(255, 0, 0)\",\"colorscale\":[[0.0,\"#440154\"],[0.1111111111111111,\"#482878\"],[0.2222222222222222,\"#3e4989\"],[0.3333333333333333,\"#31688e\"],[0.4444444444444444,\"#26828e\"],[0.5555555555555556,\"#1f9e89\"],[0.6666666666666666,\"#35b779\"],[0.7777777777777778,\"#6ece58\"],[0.8888888888888888,\"#b5de2b\"],[1.0,\"#fde725\"]],\"size\":4},\"showlegend\":false,\"x\":[-1.6473461389541626,-1.4526278972625732],\"y\":[0.2984682321548462,0.49474504590034485],\"z\":[-0.17064350843429565,4.821706295013428],\"type\":\"scatter3d\"},{\"line\":{\"color\":\"rgb(255, 0, 0)\",\"width\":10},\"marker\":{\"color\":\"rgb(255, 0, 0)\",\"colorscale\":[[0.0,\"#440154\"],[0.1111111111111111,\"#482878\"],[0.2222222222222222,\"#3e4989\"],[0.3333333333333333,\"#31688e\"],[0.4444444444444444,\"#26828e\"],[0.5555555555555556,\"#1f9e89\"],[0.6666666666666666,\"#35b779\"],[0.7777777777777778,\"#6ece58\"],[0.8888888888888888,\"#b5de2b\"],[1.0,\"#fde725\"]],\"size\":4},\"showlegend\":false,\"x\":[3.279736042022705,0.5877823829650879],\"y\":[-0.2737683057785034,-0.9964392781257629],\"z\":[0.8354156017303467,4.98645544052124],\"type\":\"scatter3d\"},{\"line\":{\"color\":\"rgb(255, 0, 0)\",\"width\":10},\"marker\":{\"color\":\"rgb(255, 0, 0)\",\"colorscale\":[[0.0,\"#440154\"],[0.1111111111111111,\"#482878\"],[0.2222222222222222,\"#3e4989\"],[0.3333333333333333,\"#31688e\"],[0.4444444444444444,\"#26828e\"],[0.5555555555555556,\"#1f9e89\"],[0.6666666666666666,\"#35b779\"],[0.7777777777777778,\"#6ece58\"],[0.8888888888888888,\"#b5de2b\"],[1.0,\"#fde725\"]],\"size\":4},\"showlegend\":false,\"x\":[-2.381643056869507,-1.8649775981903076],\"y\":[0.28804510831832886,-0.07258772850036621],\"z\":[-0.44952094554901123,4.5106201171875],\"type\":\"scatter3d\"},{\"line\":{\"color\":\"rgb(255, 0, 0)\",\"width\":10},\"marker\":{\"color\":\"rgb(255, 0, 0)\",\"colorscale\":[[0.0,\"#440154\"],[0.1111111111111111,\"#482878\"],[0.2222222222222222,\"#3e4989\"],[0.3333333333333333,\"#31688e\"],[0.4444444444444444,\"#26828e\"],[0.5555555555555556,\"#1f9e89\"],[0.6666666666666666,\"#35b779\"],[0.7777777777777778,\"#6ece58\"],[0.8888888888888888,\"#b5de2b\"],[1.0,\"#fde725\"]],\"size\":4},\"showlegend\":false,\"x\":[-1.6428682804107666,-1.4257608652114868],\"y\":[0.308014839887619,0.5520246028900146],\"z\":[-0.17124927043914795,4.8180718421936035],\"type\":\"scatter3d\"},{\"line\":{\"color\":\"rgb(255, 0, 0)\",\"width\":10},\"marker\":{\"color\":\"rgb(255, 0, 0)\",\"colorscale\":[[0.0,\"#440154\"],[0.1111111111111111,\"#482878\"],[0.2222222222222222,\"#3e4989\"],[0.3333333333333333,\"#31688e\"],[0.4444444444444444,\"#26828e\"],[0.5555555555555556,\"#1f9e89\"],[0.6666666666666666,\"#35b779\"],[0.7777777777777778,\"#6ece58\"],[0.8888888888888888,\"#b5de2b\"],[1.0,\"#fde725\"]],\"size\":4},\"showlegend\":false,\"x\":[4.090513229370117,5.542224884033203],\"y\":[-0.15836885571479797,-0.5804949998855591],\"z\":[0.7693169713020325,5.535274028778076],\"type\":\"scatter3d\"},{\"line\":{\"color\":\"rgb(255, 0, 0)\",\"width\":10},\"marker\":{\"color\":\"rgb(255, 0, 0)\",\"colorscale\":[[0.0,\"#440154\"],[0.1111111111111111,\"#482878\"],[0.2222222222222222,\"#3e4989\"],[0.3333333333333333,\"#31688e\"],[0.4444444444444444,\"#26828e\"],[0.5555555555555556,\"#1f9e89\"],[0.6666666666666666,\"#35b779\"],[0.7777777777777778,\"#6ece58\"],[0.8888888888888888,\"#b5de2b\"],[1.0,\"#fde725\"]],\"size\":4},\"showlegend\":false,\"x\":[2.0521111488342285,-1.255657434463501],\"y\":[-0.14290766417980194,-0.8751945495605469],\"z\":[0.5092273950576782,4.186511993408203],\"type\":\"scatter3d\"},{\"line\":{\"color\":\"rgb(255, 0, 0)\",\"width\":10},\"marker\":{\"color\":\"rgb(255, 0, 0)\",\"colorscale\":[[0.0,\"#440154\"],[0.1111111111111111,\"#482878\"],[0.2222222222222222,\"#3e4989\"],[0.3333333333333333,\"#31688e\"],[0.4444444444444444,\"#26828e\"],[0.5555555555555556,\"#1f9e89\"],[0.6666666666666666,\"#35b779\"],[0.7777777777777778,\"#6ece58\"],[0.8888888888888888,\"#b5de2b\"],[1.0,\"#fde725\"]],\"size\":4},\"showlegend\":false,\"x\":[3.5785117149353027,2.3804357051849365],\"y\":[-0.1176733449101448,-0.05986960232257843],\"z\":[0.9760066866874695,5.830002307891846],\"type\":\"scatter3d\"},{\"line\":{\"color\":\"rgb(255, 0, 0)\",\"width\":10},\"marker\":{\"color\":\"rgb(255, 0, 0)\",\"colorscale\":[[0.0,\"#440154\"],[0.1111111111111111,\"#482878\"],[0.2222222222222222,\"#3e4989\"],[0.3333333333333333,\"#31688e\"],[0.4444444444444444,\"#26828e\"],[0.5555555555555556,\"#1f9e89\"],[0.6666666666666666,\"#35b779\"],[0.7777777777777778,\"#6ece58\"],[0.8888888888888888,\"#b5de2b\"],[1.0,\"#fde725\"]],\"size\":4},\"showlegend\":false,\"x\":[3.39186429977417,1.3503296375274658],\"y\":[0.08177639544010162,0.8603765368461609],\"z\":[0.7155902981758118,5.212913990020752],\"type\":\"scatter3d\"},{\"line\":{\"color\":\"rgb(255, 0, 0)\",\"width\":10},\"marker\":{\"color\":\"rgb(255, 0, 0)\",\"colorscale\":[[0.0,\"#440154\"],[0.1111111111111111,\"#482878\"],[0.2222222222222222,\"#3e4989\"],[0.3333333333333333,\"#31688e\"],[0.4444444444444444,\"#26828e\"],[0.5555555555555556,\"#1f9e89\"],[0.6666666666666666,\"#35b779\"],[0.7777777777777778,\"#6ece58\"],[0.8888888888888888,\"#b5de2b\"],[1.0,\"#fde725\"]],\"size\":4},\"showlegend\":false,\"x\":[0.01409226655960083,-3.840425729751587],\"y\":[0.3158668577671051,1.1316120624542236],\"z\":[-1.1554818153381348,1.9230328798294067],\"type\":\"scatter3d\"},{\"line\":{\"color\":\"rgb(255, 0, 0)\",\"width\":10},\"marker\":{\"color\":\"rgb(255, 0, 0)\",\"colorscale\":[[0.0,\"#440154\"],[0.1111111111111111,\"#482878\"],[0.2222222222222222,\"#3e4989\"],[0.3333333333333333,\"#31688e\"],[0.4444444444444444,\"#26828e\"],[0.5555555555555556,\"#1f9e89\"],[0.6666666666666666,\"#35b779\"],[0.7777777777777778,\"#6ece58\"],[0.8888888888888888,\"#b5de2b\"],[1.0,\"#fde725\"]],\"size\":4},\"showlegend\":false,\"x\":[0.5420961976051331,-0.6724022030830383],\"y\":[0.3546110689640045,1.3640773296356201],\"z\":[-0.8223756551742554,3.9216699600219727],\"type\":\"scatter3d\"},{\"line\":{\"color\":\"rgb(255, 0, 0)\",\"width\":10},\"marker\":{\"color\":\"rgb(255, 0, 0)\",\"colorscale\":[[0.0,\"#440154\"],[0.1111111111111111,\"#482878\"],[0.2222222222222222,\"#3e4989\"],[0.3333333333333333,\"#31688e\"],[0.4444444444444444,\"#26828e\"],[0.5555555555555556,\"#1f9e89\"],[0.6666666666666666,\"#35b779\"],[0.7777777777777778,\"#6ece58\"],[0.8888888888888888,\"#b5de2b\"],[1.0,\"#fde725\"]],\"size\":4},\"showlegend\":false,\"x\":[3.580146551132202,-1.3420486450195312],\"y\":[-0.19936804473400116,0.6181765198707581],\"z\":[1.7663536071777344,2.0882420539855957],\"type\":\"scatter3d\"},{\"line\":{\"color\":\"rgb(255, 0, 0)\",\"width\":10},\"marker\":{\"color\":\"rgb(255, 0, 0)\",\"colorscale\":[[0.0,\"#440154\"],[0.1111111111111111,\"#482878\"],[0.2222222222222222,\"#3e4989\"],[0.3333333333333333,\"#31688e\"],[0.4444444444444444,\"#26828e\"],[0.5555555555555556,\"#1f9e89\"],[0.6666666666666666,\"#35b779\"],[0.7777777777777778,\"#6ece58\"],[0.8888888888888888,\"#b5de2b\"],[1.0,\"#fde725\"]],\"size\":4},\"showlegend\":false,\"x\":[-0.8728460073471069,-2.6072537899017334],\"y\":[0.4024415612220764,1.162656307220459],\"z\":[-0.12426447868347168,4.503252029418945],\"type\":\"scatter3d\"},{\"line\":{\"color\":\"rgb(255, 0, 0)\",\"width\":10},\"marker\":{\"color\":\"rgb(255, 0, 0)\",\"colorscale\":[[0.0,\"#440154\"],[0.1111111111111111,\"#482878\"],[0.2222222222222222,\"#3e4989\"],[0.3333333333333333,\"#31688e\"],[0.4444444444444444,\"#26828e\"],[0.5555555555555556,\"#1f9e89\"],[0.6666666666666666,\"#35b779\"],[0.7777777777777778,\"#6ece58\"],[0.8888888888888888,\"#b5de2b\"],[1.0,\"#fde725\"]],\"size\":4},\"showlegend\":false,\"x\":[3.720463752746582,-0.5001468658447266],\"y\":[-0.4605043828487396,-0.9486414790153503],\"z\":[2.229163646697998,4.865101337432861],\"type\":\"scatter3d\"},{\"line\":{\"color\":\"rgb(255, 0, 0)\",\"width\":10},\"marker\":{\"color\":\"rgb(255, 0, 0)\",\"colorscale\":[[0.0,\"#440154\"],[0.1111111111111111,\"#482878\"],[0.2222222222222222,\"#3e4989\"],[0.3333333333333333,\"#31688e\"],[0.4444444444444444,\"#26828e\"],[0.5555555555555556,\"#1f9e89\"],[0.6666666666666666,\"#35b779\"],[0.7777777777777778,\"#6ece58\"],[0.8888888888888888,\"#b5de2b\"],[1.0,\"#fde725\"]],\"size\":4},\"showlegend\":false,\"x\":[-1.4584628343582153,-0.31932783126831055],\"y\":[0.4082842171192169,1.153640866279602],\"z\":[-0.2068907618522644,4.604222774505615],\"type\":\"scatter3d\"},{\"line\":{\"color\":\"rgb(255, 0, 0)\",\"width\":10},\"marker\":{\"color\":\"rgb(255, 0, 0)\",\"colorscale\":[[0.0,\"#440154\"],[0.1111111111111111,\"#482878\"],[0.2222222222222222,\"#3e4989\"],[0.3333333333333333,\"#31688e\"],[0.4444444444444444,\"#26828e\"],[0.5555555555555556,\"#1f9e89\"],[0.6666666666666666,\"#35b779\"],[0.7777777777777778,\"#6ece58\"],[0.8888888888888888,\"#b5de2b\"],[1.0,\"#fde725\"]],\"size\":4},\"showlegend\":false,\"x\":[3.734048366546631,-0.4186387062072754],\"y\":[-0.14398780465126038,0.9504579901695251],\"z\":[2.214123487472534,4.7748613357543945],\"type\":\"scatter3d\"},{\"line\":{\"color\":\"rgb(255, 0, 0)\",\"width\":10},\"marker\":{\"color\":\"rgb(255, 0, 0)\",\"colorscale\":[[0.0,\"#440154\"],[0.1111111111111111,\"#482878\"],[0.2222222222222222,\"#3e4989\"],[0.3333333333333333,\"#31688e\"],[0.4444444444444444,\"#26828e\"],[0.5555555555555556,\"#1f9e89\"],[0.6666666666666666,\"#35b779\"],[0.7777777777777778,\"#6ece58\"],[0.8888888888888888,\"#b5de2b\"],[1.0,\"#fde725\"]],\"size\":4},\"showlegend\":false,\"x\":[4.116491317749023,5.698093414306641],\"y\":[-0.1041860431432724,-0.25539809465408325],\"z\":[0.764295756816864,5.505146503448486],\"type\":\"scatter3d\"},{\"line\":{\"color\":\"rgb(255, 0, 0)\",\"width\":10},\"marker\":{\"color\":\"rgb(255, 0, 0)\",\"colorscale\":[[0.0,\"#440154\"],[0.1111111111111111,\"#482878\"],[0.2222222222222222,\"#3e4989\"],[0.3333333333333333,\"#31688e\"],[0.4444444444444444,\"#26828e\"],[0.5555555555555556,\"#1f9e89\"],[0.6666666666666666,\"#35b779\"],[0.7777777777777778,\"#6ece58\"],[0.8888888888888888,\"#b5de2b\"],[1.0,\"#fde725\"]],\"size\":4},\"showlegend\":false,\"x\":[3.7565393447875977,-0.2836923599243164],\"y\":[-0.43869465589523315,-0.8177831768989563],\"z\":[2.286195755004883,5.207294940948486],\"type\":\"scatter3d\"},{\"line\":{\"color\":\"rgb(255, 0, 0)\",\"width\":10},\"marker\":{\"color\":\"rgb(255, 0, 0)\",\"colorscale\":[[0.0,\"#440154\"],[0.1111111111111111,\"#482878\"],[0.2222222222222222,\"#3e4989\"],[0.3333333333333333,\"#31688e\"],[0.4444444444444444,\"#26828e\"],[0.5555555555555556,\"#1f9e89\"],[0.6666666666666666,\"#35b779\"],[0.7777777777777778,\"#6ece58\"],[0.8888888888888888,\"#b5de2b\"],[1.0,\"#fde725\"]],\"size\":4},\"showlegend\":false,\"x\":[3.373577117919922,1.1508288383483887],\"y\":[-0.13598282635211945,-0.16972650587558746],\"z\":[0.9009363651275635,5.379580020904541],\"type\":\"scatter3d\"},{\"line\":{\"color\":\"rgb(255, 0, 0)\",\"width\":10},\"marker\":{\"color\":\"rgb(255, 0, 0)\",\"colorscale\":[[0.0,\"#440154\"],[0.1111111111111111,\"#482878\"],[0.2222222222222222,\"#3e4989\"],[0.3333333333333333,\"#31688e\"],[0.4444444444444444,\"#26828e\"],[0.5555555555555556,\"#1f9e89\"],[0.6666666666666666,\"#35b779\"],[0.7777777777777778,\"#6ece58\"],[0.8888888888888888,\"#b5de2b\"],[1.0,\"#fde725\"]],\"size\":4},\"showlegend\":false,\"x\":[0.29927679896354675,-2.1293184757232666],\"y\":[0.20799458026885986,0.4843783974647522],\"z\":[-0.8988193273544312,3.463007926940918],\"type\":\"scatter3d\"},{\"line\":{\"color\":\"rgb(255, 0, 0)\",\"width\":10},\"marker\":{\"color\":\"rgb(255, 0, 0)\",\"colorscale\":[[0.0,\"#440154\"],[0.1111111111111111,\"#482878\"],[0.2222222222222222,\"#3e4989\"],[0.3333333333333333,\"#31688e\"],[0.4444444444444444,\"#26828e\"],[0.5555555555555556,\"#1f9e89\"],[0.6666666666666666,\"#35b779\"],[0.7777777777777778,\"#6ece58\"],[0.8888888888888888,\"#b5de2b\"],[1.0,\"#fde725\"]],\"size\":4},\"showlegend\":false,\"x\":[3.4729321002960205,1.746957778930664],\"y\":[-0.25868064165115356,-0.9059132933616638],\"z\":[0.9347688555717468,5.58257532119751],\"type\":\"scatter3d\"},{\"line\":{\"color\":\"rgb(255, 0, 0)\",\"width\":10},\"marker\":{\"color\":\"rgb(255, 0, 0)\",\"colorscale\":[[0.0,\"#440154\"],[0.1111111111111111,\"#482878\"],[0.2222222222222222,\"#3e4989\"],[0.3333333333333333,\"#31688e\"],[0.4444444444444444,\"#26828e\"],[0.5555555555555556,\"#1f9e89\"],[0.6666666666666666,\"#35b779\"],[0.7777777777777778,\"#6ece58\"],[0.8888888888888888,\"#b5de2b\"],[1.0,\"#fde725\"]],\"size\":4},\"showlegend\":false,\"x\":[3.5796475410461426,-1.3450427055358887],\"y\":[-0.2209884524345398,0.48845404386520386],\"z\":[1.8007924556732178,2.294875383377075],\"type\":\"scatter3d\"},{\"line\":{\"color\":\"rgb(255, 0, 0)\",\"width\":10},\"marker\":{\"color\":\"rgb(255, 0, 0)\",\"colorscale\":[[0.0,\"#440154\"],[0.1111111111111111,\"#482878\"],[0.2222222222222222,\"#3e4989\"],[0.3333333333333333,\"#31688e\"],[0.4444444444444444,\"#26828e\"],[0.5555555555555556,\"#1f9e89\"],[0.6666666666666666,\"#35b779\"],[0.7777777777777778,\"#6ece58\"],[0.8888888888888888,\"#b5de2b\"],[1.0,\"#fde725\"]],\"size\":4},\"showlegend\":false,\"x\":[4.022977828979492,5.13701057434082],\"y\":[-0.18300923705101013,-0.728337287902832],\"z\":[0.784868061542511,5.628580570220947],\"type\":\"scatter3d\"},{\"line\":{\"color\":\"rgb(255, 0, 0)\",\"width\":10},\"marker\":{\"color\":\"rgb(255, 0, 0)\",\"colorscale\":[[0.0,\"#440154\"],[0.1111111111111111,\"#482878\"],[0.2222222222222222,\"#3e4989\"],[0.3333333333333333,\"#31688e\"],[0.4444444444444444,\"#26828e\"],[0.5555555555555556,\"#1f9e89\"],[0.6666666666666666,\"#35b779\"],[0.7777777777777778,\"#6ece58\"],[0.8888888888888888,\"#b5de2b\"],[1.0,\"#fde725\"]],\"size\":4},\"showlegend\":false,\"x\":[0.6423107385635376,-0.07111471891403198],\"y\":[0.4374389052391052,1.8610444068908691],\"z\":[-0.8232529163360596,3.9164066314697266],\"type\":\"scatter3d\"},{\"line\":{\"color\":\"rgb(255, 0, 0)\",\"width\":10},\"marker\":{\"color\":\"rgb(255, 0, 0)\",\"colorscale\":[[0.0,\"#440154\"],[0.1111111111111111,\"#482878\"],[0.2222222222222222,\"#3e4989\"],[0.3333333333333333,\"#31688e\"],[0.4444444444444444,\"#26828e\"],[0.5555555555555556,\"#1f9e89\"],[0.6666666666666666,\"#35b779\"],[0.7777777777777778,\"#6ece58\"],[0.8888888888888888,\"#b5de2b\"],[1.0,\"#fde725\"]],\"size\":4},\"showlegend\":false,\"x\":[3.39778733253479,1.2960889339447021],\"y\":[-0.28243768215179443,-1.0484555959701538],\"z\":[0.8995471000671387,5.371244430541992],\"type\":\"scatter3d\"},{\"line\":{\"color\":\"rgb(255, 0, 0)\",\"width\":10},\"marker\":{\"color\":\"rgb(255, 0, 0)\",\"colorscale\":[[0.0,\"#440154\"],[0.1111111111111111,\"#482878\"],[0.2222222222222222,\"#3e4989\"],[0.3333333333333333,\"#31688e\"],[0.4444444444444444,\"#26828e\"],[0.5555555555555556,\"#1f9e89\"],[0.6666666666666666,\"#35b779\"],[0.7777777777777778,\"#6ece58\"],[0.8888888888888888,\"#b5de2b\"],[1.0,\"#fde725\"]],\"size\":4},\"showlegend\":false,\"x\":[-1.7690134048461914,-2.182631254196167],\"y\":[0.37100571393966675,0.9299699068069458],\"z\":[-0.17883116006851196,4.772580623626709],\"type\":\"scatter3d\"},{\"line\":{\"color\":\"rgb(255, 0, 0)\",\"width\":10},\"marker\":{\"color\":\"rgb(255, 0, 0)\",\"colorscale\":[[0.0,\"#440154\"],[0.1111111111111111,\"#482878\"],[0.2222222222222222,\"#3e4989\"],[0.3333333333333333,\"#31688e\"],[0.4444444444444444,\"#26828e\"],[0.5555555555555556,\"#1f9e89\"],[0.6666666666666666,\"#35b779\"],[0.7777777777777778,\"#6ece58\"],[0.8888888888888888,\"#b5de2b\"],[1.0,\"#fde725\"]],\"size\":4},\"showlegend\":false,\"x\":[2.1498942375183105,-0.6689589023590088],\"y\":[-0.01825335994362831,-0.1272687315940857],\"z\":[0.5994139909744263,4.727631568908691],\"type\":\"scatter3d\"},{\"line\":{\"color\":\"rgb(255, 0, 0)\",\"width\":10},\"marker\":{\"color\":\"rgb(255, 0, 0)\",\"colorscale\":[[0.0,\"#440154\"],[0.1111111111111111,\"#482878\"],[0.2222222222222222,\"#3e4989\"],[0.3333333333333333,\"#31688e\"],[0.4444444444444444,\"#26828e\"],[0.5555555555555556,\"#1f9e89\"],[0.6666666666666666,\"#35b779\"],[0.7777777777777778,\"#6ece58\"],[0.8888888888888888,\"#b5de2b\"],[1.0,\"#fde725\"]],\"size\":4},\"showlegend\":false,\"x\":[3.631443738937378,-1.034266471862793],\"y\":[-0.3283533453941345,-0.15573537349700928],\"z\":[2.0598225593566895,3.849055767059326],\"type\":\"scatter3d\"},{\"line\":{\"color\":\"rgb(255, 0, 0)\",\"width\":10},\"marker\":{\"color\":\"rgb(255, 0, 0)\",\"colorscale\":[[0.0,\"#440154\"],[0.1111111111111111,\"#482878\"],[0.2222222222222222,\"#3e4989\"],[0.3333333333333333,\"#31688e\"],[0.4444444444444444,\"#26828e\"],[0.5555555555555556,\"#1f9e89\"],[0.6666666666666666,\"#35b779\"],[0.7777777777777778,\"#6ece58\"],[0.8888888888888888,\"#b5de2b\"],[1.0,\"#fde725\"]],\"size\":4},\"showlegend\":false,\"x\":[3.3978354930877686,1.2963781356811523],\"y\":[-0.13548552989959717,-0.1667427122592926],\"z\":[0.9125753045082092,5.449413776397705],\"type\":\"scatter3d\"},{\"line\":{\"color\":\"rgb(255, 0, 0)\",\"width\":10},\"marker\":{\"color\":\"rgb(255, 0, 0)\",\"colorscale\":[[0.0,\"#440154\"],[0.1111111111111111,\"#482878\"],[0.2222222222222222,\"#3e4989\"],[0.3333333333333333,\"#31688e\"],[0.4444444444444444,\"#26828e\"],[0.5555555555555556,\"#1f9e89\"],[0.6666666666666666,\"#35b779\"],[0.7777777777777778,\"#6ece58\"],[0.8888888888888888,\"#b5de2b\"],[1.0,\"#fde725\"]],\"size\":4},\"showlegend\":false,\"x\":[3.622642755508423,-1.0870723724365234],\"y\":[-0.3615984618663788,-0.3552059531211853],\"z\":[2.0377461910247803,3.716597080230713],\"type\":\"scatter3d\"},{\"line\":{\"color\":\"rgb(255, 0, 0)\",\"width\":10},\"marker\":{\"color\":\"rgb(255, 0, 0)\",\"colorscale\":[[0.0,\"#440154\"],[0.1111111111111111,\"#482878\"],[0.2222222222222222,\"#3e4989\"],[0.3333333333333333,\"#31688e\"],[0.4444444444444444,\"#26828e\"],[0.5555555555555556,\"#1f9e89\"],[0.6666666666666666,\"#35b779\"],[0.7777777777777778,\"#6ece58\"],[0.8888888888888888,\"#b5de2b\"],[1.0,\"#fde725\"]],\"size\":4},\"showlegend\":false,\"x\":[3.404407024383545,1.425586462020874],\"y\":[-0.25361400842666626,-1.151965856552124],\"z\":[0.7167305946350098,5.21975564956665],\"type\":\"scatter3d\"},{\"line\":{\"color\":\"rgb(255, 0, 0)\",\"width\":10},\"marker\":{\"color\":\"rgb(255, 0, 0)\",\"colorscale\":[[0.0,\"#440154\"],[0.1111111111111111,\"#482878\"],[0.2222222222222222,\"#3e4989\"],[0.3333333333333333,\"#31688e\"],[0.4444444444444444,\"#26828e\"],[0.5555555555555556,\"#1f9e89\"],[0.6666666666666666,\"#35b779\"],[0.7777777777777778,\"#6ece58\"],[0.8888888888888888,\"#b5de2b\"],[1.0,\"#fde725\"]],\"size\":4},\"showlegend\":false,\"x\":[-1.3603322505950928,0.26945579051971436],\"y\":[0.19182372093200684,-0.14512202143669128],\"z\":[-0.22613400220870972,4.488763332366943],\"type\":\"scatter3d\"},{\"line\":{\"color\":\"rgb(255, 0, 0)\",\"width\":10},\"marker\":{\"color\":\"rgb(255, 0, 0)\",\"colorscale\":[[0.0,\"#440154\"],[0.1111111111111111,\"#482878\"],[0.2222222222222222,\"#3e4989\"],[0.3333333333333333,\"#31688e\"],[0.4444444444444444,\"#26828e\"],[0.5555555555555556,\"#1f9e89\"],[0.6666666666666666,\"#35b779\"],[0.7777777777777778,\"#6ece58\"],[0.8888888888888888,\"#b5de2b\"],[1.0,\"#fde725\"]],\"size\":4},\"showlegend\":false,\"x\":[-1.33823561668396,0.4020349979400635],\"y\":[0.2512294352054596,0.2113121896982193],\"z\":[-0.231673002243042,4.455529689788818],\"type\":\"scatter3d\"},{\"line\":{\"color\":\"rgb(255, 0, 0)\",\"width\":10},\"marker\":{\"color\":\"rgb(255, 0, 0)\",\"colorscale\":[[0.0,\"#440154\"],[0.1111111111111111,\"#482878\"],[0.2222222222222222,\"#3e4989\"],[0.3333333333333333,\"#31688e\"],[0.4444444444444444,\"#26828e\"],[0.5555555555555556,\"#1f9e89\"],[0.6666666666666666,\"#35b779\"],[0.7777777777777778,\"#6ece58\"],[0.8888888888888888,\"#b5de2b\"],[1.0,\"#fde725\"]],\"size\":4},\"showlegend\":false,\"x\":[-2.2796695232391357,-1.2531354427337646],\"y\":[0.30856838822364807,0.05055195093154907],\"z\":[-0.4642128348350525,4.422468662261963],\"type\":\"scatter3d\"},{\"line\":{\"color\":\"rgb(255, 0, 0)\",\"width\":10},\"marker\":{\"color\":\"rgb(255, 0, 0)\",\"colorscale\":[[0.0,\"#440154\"],[0.1111111111111111,\"#482878\"],[0.2222222222222222,\"#3e4989\"],[0.3333333333333333,\"#31688e\"],[0.4444444444444444,\"#26828e\"],[0.5555555555555556,\"#1f9e89\"],[0.6666666666666666,\"#35b779\"],[0.7777777777777778,\"#6ece58\"],[0.8888888888888888,\"#b5de2b\"],[1.0,\"#fde725\"]],\"size\":4},\"showlegend\":false,\"x\":[3.567387342453003,-1.4186043739318848],\"y\":[-0.3361452519893646,-0.2024868130683899],\"z\":[1.771838665008545,2.121152400970459],\"type\":\"scatter3d\"},{\"line\":{\"color\":\"rgb(255, 0, 0)\",\"width\":10},\"marker\":{\"color\":\"rgb(255, 0, 0)\",\"colorscale\":[[0.0,\"#440154\"],[0.1111111111111111,\"#482878\"],[0.2222222222222222,\"#3e4989\"],[0.3333333333333333,\"#31688e\"],[0.4444444444444444,\"#26828e\"],[0.5555555555555556,\"#1f9e89\"],[0.6666666666666666,\"#35b779\"],[0.7777777777777778,\"#6ece58\"],[0.8888888888888888,\"#b5de2b\"],[1.0,\"#fde725\"]],\"size\":4},\"showlegend\":false,\"x\":[3.567720651626587,2.3156890869140625],\"y\":[-0.19131886959075928,-0.5017427206039429],\"z\":[0.971355676651001,5.802095890045166],\"type\":\"scatter3d\"},{\"line\":{\"color\":\"rgb(255, 0, 0)\",\"width\":10},\"marker\":{\"color\":\"rgb(255, 0, 0)\",\"colorscale\":[[0.0,\"#440154\"],[0.1111111111111111,\"#482878\"],[0.2222222222222222,\"#3e4989\"],[0.3333333333333333,\"#31688e\"],[0.4444444444444444,\"#26828e\"],[0.5555555555555556,\"#1f9e89\"],[0.6666666666666666,\"#35b779\"],[0.7777777777777778,\"#6ece58\"],[0.8888888888888888,\"#b5de2b\"],[1.0,\"#fde725\"]],\"size\":4},\"showlegend\":false,\"x\":[-1.975256085395813,0.5733449459075928],\"y\":[0.14889287948608398,-0.9075011014938354],\"z\":[-0.6075548529624939,3.5624165534973145],\"type\":\"scatter3d\"},{\"line\":{\"color\":\"rgb(255, 0, 0)\",\"width\":10},\"marker\":{\"color\":\"rgb(255, 0, 0)\",\"colorscale\":[[0.0,\"#440154\"],[0.1111111111111111,\"#482878\"],[0.2222222222222222,\"#3e4989\"],[0.3333333333333333,\"#31688e\"],[0.4444444444444444,\"#26828e\"],[0.5555555555555556,\"#1f9e89\"],[0.6666666666666666,\"#35b779\"],[0.7777777777777778,\"#6ece58\"],[0.8888888888888888,\"#b5de2b\"],[1.0,\"#fde725\"]],\"size\":4},\"showlegend\":false,\"x\":[2.0141355991363525,-1.483510971069336],\"y\":[0.0267411507666111,0.14269833266735077],\"z\":[0.4879978895187378,4.0591349601745605],\"type\":\"scatter3d\"},{\"line\":{\"color\":\"rgb(255, 0, 0)\",\"width\":10},\"marker\":{\"color\":\"rgb(255, 0, 0)\",\"colorscale\":[[0.0,\"#440154\"],[0.1111111111111111,\"#482878\"],[0.2222222222222222,\"#3e4989\"],[0.3333333333333333,\"#31688e\"],[0.4444444444444444,\"#26828e\"],[0.5555555555555556,\"#1f9e89\"],[0.6666666666666666,\"#35b779\"],[0.7777777777777778,\"#6ece58\"],[0.8888888888888888,\"#b5de2b\"],[1.0,\"#fde725\"]],\"size\":4},\"showlegend\":false,\"x\":[-1.5353657007217407,-0.7807453870773315],\"y\":[0.2122775912284851,-0.022398918867111206],\"z\":[-0.18168306350708008,4.755468845367432],\"type\":\"scatter3d\"},{\"line\":{\"color\":\"rgb(255, 0, 0)\",\"width\":10},\"marker\":{\"color\":\"rgb(255, 0, 0)\",\"colorscale\":[[0.0,\"#440154\"],[0.1111111111111111,\"#482878\"],[0.2222222222222222,\"#3e4989\"],[0.3333333333333333,\"#31688e\"],[0.4444444444444444,\"#26828e\"],[0.5555555555555556,\"#1f9e89\"],[0.6666666666666666,\"#35b779\"],[0.7777777777777778,\"#6ece58\"],[0.8888888888888888,\"#b5de2b\"],[1.0,\"#fde725\"]],\"size\":4},\"showlegend\":false,\"x\":[3.9038517475128174,4.42225456237793],\"y\":[-0.026610352098941803,0.21005605161190033],\"z\":[0.8096093535423279,5.7770280838012695],\"type\":\"scatter3d\"},{\"line\":{\"color\":\"rgb(255, 0, 0)\",\"width\":10},\"marker\":{\"color\":\"rgb(255, 0, 0)\",\"colorscale\":[[0.0,\"#440154\"],[0.1111111111111111,\"#482878\"],[0.2222222222222222,\"#3e4989\"],[0.3333333333333333,\"#31688e\"],[0.4444444444444444,\"#26828e\"],[0.5555555555555556,\"#1f9e89\"],[0.6666666666666666,\"#35b779\"],[0.7777777777777778,\"#6ece58\"],[0.8888888888888888,\"#b5de2b\"],[1.0,\"#fde725\"]],\"size\":4},\"showlegend\":false,\"x\":[2.0290279388427734,-1.3941569328308105],\"y\":[-0.07616037130355835,-0.47471076250076294],\"z\":[0.4982830286026001,4.120845794677734],\"type\":\"scatter3d\"},{\"line\":{\"color\":\"rgb(255, 0, 0)\",\"width\":10},\"marker\":{\"color\":\"rgb(255, 0, 0)\",\"colorscale\":[[0.0,\"#440154\"],[0.1111111111111111,\"#482878\"],[0.2222222222222222,\"#3e4989\"],[0.3333333333333333,\"#31688e\"],[0.4444444444444444,\"#26828e\"],[0.5555555555555556,\"#1f9e89\"],[0.6666666666666666,\"#35b779\"],[0.7777777777777778,\"#6ece58\"],[0.8888888888888888,\"#b5de2b\"],[1.0,\"#fde725\"]],\"size\":4},\"showlegend\":false,\"x\":[3.2695255279541016,0.5265178680419922],\"y\":[-0.11681312322616577,-0.05470828711986542],\"z\":[0.8411992788314819,5.021157741546631],\"type\":\"scatter3d\"},{\"line\":{\"color\":\"rgb(255, 0, 0)\",\"width\":10},\"marker\":{\"color\":\"rgb(255, 0, 0)\",\"colorscale\":[[0.0,\"#440154\"],[0.1111111111111111,\"#482878\"],[0.2222222222222222,\"#3e4989\"],[0.3333333333333333,\"#31688e\"],[0.4444444444444444,\"#26828e\"],[0.5555555555555556,\"#1f9e89\"],[0.6666666666666666,\"#35b779\"],[0.7777777777777778,\"#6ece58\"],[0.8888888888888888,\"#b5de2b\"],[1.0,\"#fde725\"]],\"size\":4},\"showlegend\":false,\"x\":[3.8046815395355225,3.82723331451416],\"y\":[-0.17924976348876953,-0.7057803869247437],\"z\":[0.8105551600456238,5.782702922821045],\"type\":\"scatter3d\"}],                        {\"autosize\":false,\"height\":1000,\"margin\":{\"b\":100,\"l\":50,\"pad\":4,\"r\":50,\"t\":100},\"scene\":{\"aspectmode\":\"data\",\"camera\":{\"center\":{\"x\":0,\"y\":0,\"z\":0},\"eye\":{\"x\":1.25,\"y\":1.25,\"z\":1.25},\"up\":{\"x\":0,\"y\":0,\"z\":1}}},\"width\":1000,\"template\":{\"data\":{\"histogram2dcontour\":[{\"type\":\"histogram2dcontour\",\"colorbar\":{\"outlinewidth\":0,\"ticks\":\"\"},\"colorscale\":[[0.0,\"#0d0887\"],[0.1111111111111111,\"#46039f\"],[0.2222222222222222,\"#7201a8\"],[0.3333333333333333,\"#9c179e\"],[0.4444444444444444,\"#bd3786\"],[0.5555555555555556,\"#d8576b\"],[0.6666666666666666,\"#ed7953\"],[0.7777777777777778,\"#fb9f3a\"],[0.8888888888888888,\"#fdca26\"],[1.0,\"#f0f921\"]]}],\"choropleth\":[{\"type\":\"choropleth\",\"colorbar\":{\"outlinewidth\":0,\"ticks\":\"\"}}],\"histogram2d\":[{\"type\":\"histogram2d\",\"colorbar\":{\"outlinewidth\":0,\"ticks\":\"\"},\"colorscale\":[[0.0,\"#0d0887\"],[0.1111111111111111,\"#46039f\"],[0.2222222222222222,\"#7201a8\"],[0.3333333333333333,\"#9c179e\"],[0.4444444444444444,\"#bd3786\"],[0.5555555555555556,\"#d8576b\"],[0.6666666666666666,\"#ed7953\"],[0.7777777777777778,\"#fb9f3a\"],[0.8888888888888888,\"#fdca26\"],[1.0,\"#f0f921\"]]}],\"heatmap\":[{\"type\":\"heatmap\",\"colorbar\":{\"outlinewidth\":0,\"ticks\":\"\"},\"colorscale\":[[0.0,\"#0d0887\"],[0.1111111111111111,\"#46039f\"],[0.2222222222222222,\"#7201a8\"],[0.3333333333333333,\"#9c179e\"],[0.4444444444444444,\"#bd3786\"],[0.5555555555555556,\"#d8576b\"],[0.6666666666666666,\"#ed7953\"],[0.7777777777777778,\"#fb9f3a\"],[0.8888888888888888,\"#fdca26\"],[1.0,\"#f0f921\"]]}],\"heatmapgl\":[{\"type\":\"heatmapgl\",\"colorbar\":{\"outlinewidth\":0,\"ticks\":\"\"},\"colorscale\":[[0.0,\"#0d0887\"],[0.1111111111111111,\"#46039f\"],[0.2222222222222222,\"#7201a8\"],[0.3333333333333333,\"#9c179e\"],[0.4444444444444444,\"#bd3786\"],[0.5555555555555556,\"#d8576b\"],[0.6666666666666666,\"#ed7953\"],[0.7777777777777778,\"#fb9f3a\"],[0.8888888888888888,\"#fdca26\"],[1.0,\"#f0f921\"]]}],\"contourcarpet\":[{\"type\":\"contourcarpet\",\"colorbar\":{\"outlinewidth\":0,\"ticks\":\"\"}}],\"contour\":[{\"type\":\"contour\",\"colorbar\":{\"outlinewidth\":0,\"ticks\":\"\"},\"colorscale\":[[0.0,\"#0d0887\"],[0.1111111111111111,\"#46039f\"],[0.2222222222222222,\"#7201a8\"],[0.3333333333333333,\"#9c179e\"],[0.4444444444444444,\"#bd3786\"],[0.5555555555555556,\"#d8576b\"],[0.6666666666666666,\"#ed7953\"],[0.7777777777777778,\"#fb9f3a\"],[0.8888888888888888,\"#fdca26\"],[1.0,\"#f0f921\"]]}],\"surface\":[{\"type\":\"surface\",\"colorbar\":{\"outlinewidth\":0,\"ticks\":\"\"},\"colorscale\":[[0.0,\"#0d0887\"],[0.1111111111111111,\"#46039f\"],[0.2222222222222222,\"#7201a8\"],[0.3333333333333333,\"#9c179e\"],[0.4444444444444444,\"#bd3786\"],[0.5555555555555556,\"#d8576b\"],[0.6666666666666666,\"#ed7953\"],[0.7777777777777778,\"#fb9f3a\"],[0.8888888888888888,\"#fdca26\"],[1.0,\"#f0f921\"]]}],\"mesh3d\":[{\"type\":\"mesh3d\",\"colorbar\":{\"outlinewidth\":0,\"ticks\":\"\"}}],\"scatter\":[{\"fillpattern\":{\"fillmode\":\"overlay\",\"size\":10,\"solidity\":0.2},\"type\":\"scatter\"}],\"parcoords\":[{\"type\":\"parcoords\",\"line\":{\"colorbar\":{\"outlinewidth\":0,\"ticks\":\"\"}}}],\"scatterpolargl\":[{\"type\":\"scatterpolargl\",\"marker\":{\"colorbar\":{\"outlinewidth\":0,\"ticks\":\"\"}}}],\"bar\":[{\"error_x\":{\"color\":\"#2a3f5f\"},\"error_y\":{\"color\":\"#2a3f5f\"},\"marker\":{\"line\":{\"color\":\"#E5ECF6\",\"width\":0.5},\"pattern\":{\"fillmode\":\"overlay\",\"size\":10,\"solidity\":0.2}},\"type\":\"bar\"}],\"scattergeo\":[{\"type\":\"scattergeo\",\"marker\":{\"colorbar\":{\"outlinewidth\":0,\"ticks\":\"\"}}}],\"scatterpolar\":[{\"type\":\"scatterpolar\",\"marker\":{\"colorbar\":{\"outlinewidth\":0,\"ticks\":\"\"}}}],\"histogram\":[{\"marker\":{\"pattern\":{\"fillmode\":\"overlay\",\"size\":10,\"solidity\":0.2}},\"type\":\"histogram\"}],\"scattergl\":[{\"type\":\"scattergl\",\"marker\":{\"colorbar\":{\"outlinewidth\":0,\"ticks\":\"\"}}}],\"scatter3d\":[{\"type\":\"scatter3d\",\"line\":{\"colorbar\":{\"outlinewidth\":0,\"ticks\":\"\"}},\"marker\":{\"colorbar\":{\"outlinewidth\":0,\"ticks\":\"\"}}}],\"scattermapbox\":[{\"type\":\"scattermapbox\",\"marker\":{\"colorbar\":{\"outlinewidth\":0,\"ticks\":\"\"}}}],\"scatterternary\":[{\"type\":\"scatterternary\",\"marker\":{\"colorbar\":{\"outlinewidth\":0,\"ticks\":\"\"}}}],\"scattercarpet\":[{\"type\":\"scattercarpet\",\"marker\":{\"colorbar\":{\"outlinewidth\":0,\"ticks\":\"\"}}}],\"carpet\":[{\"aaxis\":{\"endlinecolor\":\"#2a3f5f\",\"gridcolor\":\"white\",\"linecolor\":\"white\",\"minorgridcolor\":\"white\",\"startlinecolor\":\"#2a3f5f\"},\"baxis\":{\"endlinecolor\":\"#2a3f5f\",\"gridcolor\":\"white\",\"linecolor\":\"white\",\"minorgridcolor\":\"white\",\"startlinecolor\":\"#2a3f5f\"},\"type\":\"carpet\"}],\"table\":[{\"cells\":{\"fill\":{\"color\":\"#EBF0F8\"},\"line\":{\"color\":\"white\"}},\"header\":{\"fill\":{\"color\":\"#C8D4E3\"},\"line\":{\"color\":\"white\"}},\"type\":\"table\"}],\"barpolar\":[{\"marker\":{\"line\":{\"color\":\"#E5ECF6\",\"width\":0.5},\"pattern\":{\"fillmode\":\"overlay\",\"size\":10,\"solidity\":0.2}},\"type\":\"barpolar\"}],\"pie\":[{\"automargin\":true,\"type\":\"pie\"}]},\"layout\":{\"autotypenumbers\":\"strict\",\"colorway\":[\"#636efa\",\"#EF553B\",\"#00cc96\",\"#ab63fa\",\"#FFA15A\",\"#19d3f3\",\"#FF6692\",\"#B6E880\",\"#FF97FF\",\"#FECB52\"],\"font\":{\"color\":\"#2a3f5f\"},\"hovermode\":\"closest\",\"hoverlabel\":{\"align\":\"left\"},\"paper_bgcolor\":\"white\",\"plot_bgcolor\":\"#E5ECF6\",\"polar\":{\"bgcolor\":\"#E5ECF6\",\"angularaxis\":{\"gridcolor\":\"white\",\"linecolor\":\"white\",\"ticks\":\"\"},\"radialaxis\":{\"gridcolor\":\"white\",\"linecolor\":\"white\",\"ticks\":\"\"}},\"ternary\":{\"bgcolor\":\"#E5ECF6\",\"aaxis\":{\"gridcolor\":\"white\",\"linecolor\":\"white\",\"ticks\":\"\"},\"baxis\":{\"gridcolor\":\"white\",\"linecolor\":\"white\",\"ticks\":\"\"},\"caxis\":{\"gridcolor\":\"white\",\"linecolor\":\"white\",\"ticks\":\"\"}},\"coloraxis\":{\"colorbar\":{\"outlinewidth\":0,\"ticks\":\"\"}},\"colorscale\":{\"sequential\":[[0.0,\"#0d0887\"],[0.1111111111111111,\"#46039f\"],[0.2222222222222222,\"#7201a8\"],[0.3333333333333333,\"#9c179e\"],[0.4444444444444444,\"#bd3786\"],[0.5555555555555556,\"#d8576b\"],[0.6666666666666666,\"#ed7953\"],[0.7777777777777778,\"#fb9f3a\"],[0.8888888888888888,\"#fdca26\"],[1.0,\"#f0f921\"]],\"sequentialminus\":[[0.0,\"#0d0887\"],[0.1111111111111111,\"#46039f\"],[0.2222222222222222,\"#7201a8\"],[0.3333333333333333,\"#9c179e\"],[0.4444444444444444,\"#bd3786\"],[0.5555555555555556,\"#d8576b\"],[0.6666666666666666,\"#ed7953\"],[0.7777777777777778,\"#fb9f3a\"],[0.8888888888888888,\"#fdca26\"],[1.0,\"#f0f921\"]],\"diverging\":[[0,\"#8e0152\"],[0.1,\"#c51b7d\"],[0.2,\"#de77ae\"],[0.3,\"#f1b6da\"],[0.4,\"#fde0ef\"],[0.5,\"#f7f7f7\"],[0.6,\"#e6f5d0\"],[0.7,\"#b8e186\"],[0.8,\"#7fbc41\"],[0.9,\"#4d9221\"],[1,\"#276419\"]]},\"xaxis\":{\"gridcolor\":\"white\",\"linecolor\":\"white\",\"ticks\":\"\",\"title\":{\"standoff\":15},\"zerolinecolor\":\"white\",\"automargin\":true,\"zerolinewidth\":2},\"yaxis\":{\"gridcolor\":\"white\",\"linecolor\":\"white\",\"ticks\":\"\",\"title\":{\"standoff\":15},\"zerolinecolor\":\"white\",\"automargin\":true,\"zerolinewidth\":2},\"scene\":{\"xaxis\":{\"backgroundcolor\":\"#E5ECF6\",\"gridcolor\":\"white\",\"linecolor\":\"white\",\"showbackground\":true,\"ticks\":\"\",\"zerolinecolor\":\"white\",\"gridwidth\":2},\"yaxis\":{\"backgroundcolor\":\"#E5ECF6\",\"gridcolor\":\"white\",\"linecolor\":\"white\",\"showbackground\":true,\"ticks\":\"\",\"zerolinecolor\":\"white\",\"gridwidth\":2},\"zaxis\":{\"backgroundcolor\":\"#E5ECF6\",\"gridcolor\":\"white\",\"linecolor\":\"white\",\"showbackground\":true,\"ticks\":\"\",\"zerolinecolor\":\"white\",\"gridwidth\":2}},\"shapedefaults\":{\"line\":{\"color\":\"#2a3f5f\"}},\"annotationdefaults\":{\"arrowcolor\":\"#2a3f5f\",\"arrowhead\":0,\"arrowwidth\":1},\"geo\":{\"bgcolor\":\"white\",\"landcolor\":\"#E5ECF6\",\"subunitcolor\":\"white\",\"showland\":true,\"showlakes\":true,\"lakecolor\":\"white\"},\"title\":{\"x\":0.05},\"mapbox\":{\"style\":\"light\"}}}},                        {\"responsive\": true}                    ).then(function(){\n",
       "                            \n",
       "var gd = document.getElementById('cfc0d98f-0c5a-459a-bfbc-a4966b448fb2');\n",
       "var x = new MutationObserver(function (mutations, observer) {{\n",
       "        var display = window.getComputedStyle(gd).display;\n",
       "        if (!display || display === 'none') {{\n",
       "            console.log([gd, 'removed!']);\n",
       "            Plotly.purge(gd);\n",
       "            observer.disconnect();\n",
       "        }}\n",
       "}});\n",
       "\n",
       "// Listen for the removal of the full notebook cells\n",
       "var notebookContainer = gd.closest('#notebook-container');\n",
       "if (notebookContainer) {{\n",
       "    x.observe(notebookContainer, {childList: true});\n",
       "}}\n",
       "\n",
       "// Listen for the clearing of the current output cell\n",
       "var outputEl = gd.closest('.output');\n",
       "if (outputEl) {{\n",
       "    x.observe(outputEl, {childList: true});\n",
       "}}\n",
       "\n",
       "                        })                };                });            </script>        </div>"
      ]
     },
     "metadata": {},
     "output_type": "display_data"
    }
   ],
   "source": [
    "layout = go.Layout(\n",
    "    autosize=False,\n",
    "    width=1000,\n",
    "    height=1000,\n",
    "    margin=go.layout.Margin(\n",
    "        l=50,\n",
    "        r=50,\n",
    "        b=100,\n",
    "        t=100,\n",
    "        pad=4\n",
    "    ),\n",
    "    scene=go.layout.Scene(\n",
    "        aspectmode=\"data\",\n",
    "        camera=dict(\n",
    "            up=dict(x=0, y=0, z=1),\n",
    "            center=dict(x=0, y=0, z=0),\n",
    "            eye=dict(x=1.25, y=1.25, z=1.25)\n",
    "        )\n",
    "    )\n",
    ")\n",
    "fig = go.Figure(data=data, layout=layout)\n",
    "fig.show()"
   ]
  },
  {
   "cell_type": "code",
   "execution_count": null,
   "id": "7aa506fe-66a1-4284-ade4-8c90fde5476a",
   "metadata": {},
   "outputs": [],
   "source": []
  },
  {
   "cell_type": "code",
   "execution_count": null,
   "id": "f259edb0-4126-4930-99f4-b5574dbb2eea",
   "metadata": {},
   "outputs": [],
   "source": [
    "fig.write_image(\"temp.png\")\n",
    "plotly_image = imageio.imread(\"temp.png\")\n"
   ]
  },
  {
   "cell_type": "code",
   "execution_count": null,
   "id": "d1a11772-4692-4800-b446-cfdbe4ab92fa",
   "metadata": {},
   "outputs": [],
   "source": []
  },
  {
   "cell_type": "code",
   "execution_count": null,
   "id": "722f5370-3b0f-4ad1-87a1-df479ae85b60",
   "metadata": {},
   "outputs": [],
   "source": []
  }
 ],
 "metadata": {
  "kernelspec": {
   "display_name": "mattport",
   "language": "python",
   "name": "mattport"
  },
  "language_info": {
   "codemirror_mode": {
    "name": "ipython",
    "version": 3
   },
   "file_extension": ".py",
   "mimetype": "text/x-python",
   "name": "python",
   "nbconvert_exporter": "python",
   "pygments_lexer": "ipython3",
   "version": "3.8.13"
  }
 },
 "nbformat": 4,
 "nbformat_minor": 5
}
